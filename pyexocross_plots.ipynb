{
 "cells": [
  {
   "cell_type": "markdown",
   "metadata": {},
   "source": [
    "## Import all what we need."
   ]
  },
  {
   "cell_type": "code",
   "execution_count": 55,
   "metadata": {},
   "outputs": [],
   "source": [
    "# encoding: utf-8\n",
    "import os\n",
    "import bz2\n",
    "import csv\n",
    "import glob\n",
    "import time\n",
    "import requests\n",
    "import numpy as np\n",
    "import pandas as pd\n",
    "import numexpr as ne\n",
    "from tqdm import tqdm\n",
    "from numba import njit\n",
    "from io import StringIO\n",
    "import astropy.units as au\n",
    "import matplotlib.pyplot as plt\n",
    "import threading, multiprocessing\n",
    "from scipy.special import voigt_profile, wofz, erf"
   ]
  },
  {
   "attachments": {},
   "cell_type": "markdown",
   "metadata": {},
   "source": [
    "## The Input File Path\n",
    "\n",
    "\n",
    "<table><tr><td bgcolor=skyblue><font size=24> Could be changed ! </font></td></tr></table>"
   ]
  },
  {
   "cell_type": "code",
   "execution_count": 56,
   "metadata": {},
   "outputs": [],
   "source": [
    "#########################################################\n",
    "inp_filepath = '/home/jingxin/PyExoCross-ing/input/MgH_exomol.inp'\n",
    "#########################################################"
   ]
  },
  {
   "cell_type": "markdown",
   "metadata": {},
   "source": [
    "## Report time"
   ]
  },
  {
   "cell_type": "code",
   "execution_count": 57,
   "metadata": {},
   "outputs": [],
   "source": [
    "class Timer:    \n",
    "    def start(self):\n",
    "        self.start_CPU = time.process_time()\n",
    "        self.start_sys = time.time()\n",
    "        return self\n",
    "\n",
    "    def end(self, *args):\n",
    "        self.end_CPU = time.process_time()\n",
    "        self.end_sys = time.time()\n",
    "        self.interval_CPU = self.end_CPU - self.start_CPU\n",
    "        self.interval_sys = self.end_sys - self.start_sys\n",
    "        print('{:25s} : {}'.format('Running time on CPU', self.interval_CPU), 's')\n",
    "        print('{:25s} : {}'.format('Running time on system', self.interval_sys), 's')"
   ]
  },
  {
   "cell_type": "markdown",
   "metadata": {},
   "source": [
    "## Read Information from Input File"
   ]
  },
  {
   "cell_type": "code",
   "execution_count": 58,
   "metadata": {},
   "outputs": [],
   "source": [
    "\n",
    "def inp_para(inp_filepath):\n",
    "    \n",
    "    # Find the maximum column for all the rows.\n",
    "    with open(inp_filepath, 'r') as temp_f:\n",
    "        col_count = [ len(l.split(\",\")) for l in temp_f.readlines() ]\n",
    "    # Generate column names  (names will be 0, 1, 2, ..., maximum columns - 1).\n",
    "    column_names = [i for i in range(max(col_count)+1)] \n",
    "    inp_df = pd.read_csv(inp_filepath, sep='\\\\s+', header = None, names=column_names, usecols=column_names)\n",
    "    col0 = inp_df[0]\n",
    "    \n",
    "    # Database\n",
    "    database = inp_df[col0.isin(['Database'])][1].values[0]\n",
    "    \n",
    "    # Basic information\n",
    "    molecule = inp_df[col0.isin(['Molecule'])][1].values[0]\n",
    "    isotopologue = inp_df[col0.isin(['Isotopologue'])][1].values\n",
    "    dataset = inp_df[col0.isin(['Dataset'])][1].values\n",
    "    mol_iso_id = int(inp_df[col0.isin(['mol_iso_id'])][1])\n",
    "    \n",
    "    # File path\n",
    "    read_path = inp_df[col0.isin(['ReadPath'])][1].values[0]\n",
    "    save_path = inp_df[col0.isin(['SavePath'])][1].values[0]\n",
    "    if os.path.exists(save_path):\n",
    "        pass\n",
    "    else:\n",
    "        os.makedirs(save_path, exist_ok=True)\n",
    "        \n",
    "    # Functions \n",
    "    PartitionFunctions = int(inp_df[col0.isin(['PartitionFunctions'])][1])\n",
    "    CoolingFunctions = int(inp_df[col0.isin(['CoolingFunctions'])][1])\n",
    "    Lifetimes = int(inp_df[col0.isin(['Lifetimes'])][1])\n",
    "    SpecificHeats = int(inp_df[col0.isin(['SpecificHeats'])][1])\n",
    "    StickSpectra = int(inp_df[col0.isin(['StickSpectra'])][1])\n",
    "    CrossSections = int(inp_df[col0.isin(['CrossSections'])][1])\n",
    "    \n",
    "    # Calculate partition, cooling functions or specific heats \n",
    "    Ntemp = int(inp_df[col0.isin(['Ntemp'])][1])    # The number of temperature steps\n",
    "    Tmax = int(inp_df[col0.isin(['Tmax'])][1])      # Maximal temperature in K (minimal T = 1 K )\n",
    "     \n",
    "     \n",
    "    # Calculate lifetimes \n",
    "    # None\n",
    "    \n",
    "    \n",
    "    # Calculate stick spectra or cross-sections \n",
    "    broadeners = list(inp_df[col0.isin(['Broadeners'])].iloc[0])[1:]\n",
    "    ratios = np.array(list(inp_df[col0.isin(['Ratios'])].iloc[0])[1:], dtype=float)\n",
    "    \n",
    "    T = int(inp_df[col0.isin(['Temperature'])][1])\n",
    "    P = float(inp_df[col0.isin(['Pressure'])][1])\n",
    "    min_wn = float(inp_df[col0.isin(['Range'])][1])\n",
    "    max_wn = float(inp_df[col0.isin(['Range'])][2])\n",
    "    NpointsORBinSize = inp_df[col0.isin(['Npoints/BinSize'])][1].values[0]\n",
    "    if NpointsORBinSize in ['Npoints', 'Npoint', 'NPoints', 'NPoint', 'npoints', 'npoint']:\n",
    "        N_point = int(inp_df[col0.isin(['Npoints/BinSize'])][2])\n",
    "        bin_size = float((max_wn - min_wn)/(N_point-1))\n",
    "    elif NpointsORBinSize in ['BinSize', 'Binsize', 'binsize', 'binSize', 'bin', 'size', 'Bin', 'Size']:\n",
    "        bin_size = float(inp_df[col0.isin(['Npoints/BinSize'])][2])\n",
    "        N_point = int((max_wn - min_wn)/bin_size+1)\n",
    "    else:\n",
    "        raise ImportError(\"Please type the correct grid choice 'Npoints' or 'BinSize' into the input file.\")\n",
    "        \n",
    "    wn_grid = np.linspace(min_wn, max_wn, N_point)\n",
    "    \n",
    "    # cutoffYN = float(inp_df[col0.isin(['Cutoff'])]['c1'])\n",
    "    cutoffYN = inp_df[col0.isin(['Cutoff(Y/N)'])][1].values[0]\n",
    "    if cutoffYN in ['Y', 'Yes', 'yes', 'YES']:\n",
    "        cutoff = float(inp_df[col0.isin(['Cutoff(Y/N)'])][2])\n",
    "    elif cutoffYN in ['N', 'No', 'no', 'NO']:\n",
    "        cutoff = 'None'\n",
    "    else:\n",
    "        raise ImportError(\"Please type the correct cutoff choice 'Y' or 'N' into the input file.\")\n",
    "    \n",
    "    thresholdYN = inp_df[col0.isin(['Threshold(Y/N)'])][1].values[0]\n",
    "    if thresholdYN in ['Y', 'Yes', 'yes', 'YES']:\n",
    "        threshold = float(inp_df[col0.isin(['Threshold(Y/N)'])][2])\n",
    "    elif thresholdYN in ['N', 'No', 'no', 'NO']:\n",
    "        threshold = 'None'\n",
    "    else:\n",
    "        raise ImportError(\"Please type the correct threshold choice 'Y' or 'N' into the input file.\")\n",
    "    \n",
    "    UncFilterYN = inp_df[col0.isin(['UncFilter(Y/N)'])][1].values[0]\n",
    "    if UncFilterYN in ['Y', 'Yes', 'yes', 'YES']:\n",
    "        UncFilter = float(inp_df[col0.isin(['UncFilter(Y/N)'])][2])\n",
    "    elif UncFilterYN in ['N', 'No', 'no', 'NO']:\n",
    "        UncFilter = 'None'\n",
    "    else:\n",
    "        raise ImportError(\"Please type the correct uncertainty filter choice 'Y' or 'N' into the input file.\")\n",
    "    \n",
    "    QNsFilterYN = inp_df[col0.isin(['QNsFilter(Y/N)'])][1].values[0]\n",
    "    QNslabel_list = list(inp_df[col0.isin(['QNslabel'])].iloc[0])[1:]\n",
    "    QNsformat_list = list(inp_df[col0.isin(['QNsformat'])].iloc[0])[1:]\n",
    "    if QNsFilterYN in ['Y', 'Yes', 'yes', 'YES']:\n",
    "        QNsFilter = list(inp_df[col0.isin(['QNsFilter(Y/N)'])].iloc[0].dropna())[2:]\n",
    "        QNs_label = []\n",
    "        QNs_value = []\n",
    "        for i in range(len(QNsFilter)):\n",
    "            QNs_label.append(QNsFilter[i].split('[')[0])\n",
    "            QNs_value.append(QNsFilter[i].split('[')[1].split(']')[0].split(','))\n",
    "    elif QNsFilterYN in ['N', 'No', 'no', 'NO']:\n",
    "        QNsFilter = []\n",
    "        QNs_label = []\n",
    "        QNs_value = []\n",
    "    else:\n",
    "        raise ImportError(\"Please type the correct quantum number filter choice 'Y' or 'N' into the input file.\")\n",
    "\n",
    "    abs_emi = inp_df[col0.isin(['Absorption/Emission'])][1].values[0]\n",
    "    profile = inp_df[col0.isin(['Profile'])][1].values[0]\n",
    "    wn_wl = inp_df[col0.isin(['Wavenumber(wn)/wavelength(wl)'])][1].values[0]\n",
    "    \n",
    "\n",
    "    molecule_id = int(mol_iso_id/10)\n",
    "    isotopologue_id = mol_iso_id - molecule_id * 10\n",
    "        \n",
    "    if database == 'ExoMol':\n",
    "        # Read ExoMol definition file (.def) to get the mass.\n",
    "        deffile_path = (read_path+'/'+molecule+'/'+isotopologue+'/'+dataset+'/'+isotopologue+'__'+dataset+'.def')\n",
    "        def_df = pd.read_csv(deffile_path[0],sep='\\\\s+',usecols=[0,1,2,3,4],names=['0','1','2','3','4'],header=None)\n",
    "        abundance = 1\n",
    "        mass = float(def_df[def_df['4'].isin(['mass'])]['0'].values[0])     # ExoMol mass (Dalton)\n",
    "        if def_df.to_string().find('uncertainty') != -1:\n",
    "            check_uncertainty = int(def_df[def_df['2'].isin(['Uncertainty'])]['0'].values[0])\n",
    "        else:\n",
    "            check_uncertainty = 0\n",
    "        check_lifetime = int(def_df[def_df['2'].isin(['Lifetime'])]['0'].values[0])\n",
    "        check_gfactor = int(def_df[def_df['3'].isin(['g-factor'])]['0'].values[0])\n",
    "    elif database == 'HITRAN':\n",
    "        isometa_url = 'https://hitran.org/docs/iso-meta/'\n",
    "        iso_meta_table = pd.read_html(isometa_url)[molecule_id - 1]\n",
    "        iso_meta_row = iso_meta_table[iso_meta_table['local ID'].isin([isotopologue_id])]\n",
    "        abundance = float(iso_meta_row['Abundance'][0].replace('\\xa0×\\xa010','E'))\n",
    "        mass = float(iso_meta_row['Molar Mass /g·mol-1'])                   # HITRAN molar mass (g/mol)\n",
    "        check_uncertainty = 0\n",
    "        check_lifetime = 0\n",
    "        check_gfactor = 0\n",
    "    else:\n",
    "        raise ImportError(\"Please add the name of the database 'ExoMol' or 'HITRAN' into the input file.\")\n",
    "    \n",
    "\n",
    "    return (database, molecule, isotopologue, dataset, read_path, save_path, \n",
    "            PartitionFunctions, CoolingFunctions, Lifetimes, SpecificHeats, StickSpectra, CrossSections,\n",
    "            Ntemp, Tmax, broadeners, ratios, T, P, min_wn, max_wn, N_point, bin_size, wn_grid, \n",
    "            cutoff, threshold, UncFilter, QNslabel_list, QNsformat_list, QNs_label, QNs_value, QNsFilter, \n",
    "            abs_emi, profile, wn_wl, molecule_id, isotopologue_id, abundance, mass,\n",
    "            check_uncertainty, check_lifetime, check_gfactor)\n"
   ]
  },
  {
   "cell_type": "markdown",
   "metadata": {},
   "source": [
    "## Constants and Parameters"
   ]
  },
  {
   "cell_type": "code",
   "execution_count": 59,
   "metadata": {},
   "outputs": [],
   "source": [
    "# Parameters for calculating\n",
    "import astropy.constants as ac\n",
    "#from astropy import constants, units as ac, au\n",
    "Tref = 296.0                        # Reference temperature is 296 K\n",
    "Pref = 1.0                          # Reference pressure is 1 bar\n",
    "N_A = ac.N_A.value                  # Avogadro number (1/mol)\n",
    "h = ac.h.to('erg s').value          # Planck's const (erg s)\n",
    "c = ac.c.to('cm/s').value           # Velocity of light (cm/s)\n",
    "kB = ac.k_B.to('erg/K').value       # Boltzmann's const (erg/K)\n",
    "R = ac.R.to('J / (K mol)').value    # Molar gas constant (J/(K mol))\n",
    "c2 = h * c / kB                     # Second radiation constant (cm K)\n",
    "\n",
    "(database, molecule, isotopologue, dataset, read_path, save_path, \n",
    " PartitionFunctions, CoolingFunctions, Lifetimes, SpecificHeats, StickSpectra, CrossSections,\n",
    " Ntemp, Tmax, broadeners, ratios, T, P, min_wn, max_wn, N_point, bin_size, wn_grid, \n",
    " cutoff, threshold, UncFilter, QNslabel_list, QNsformat_list, QNs_label, QNs_value, QNsFilter, \n",
    " abs_emi, profile, wn_wl, molecule_id, isotopologue_id, abundance, mass, \n",
    " check_uncertainty, check_lifetime, check_gfactor) = inp_para(inp_filepath)\n",
    "\n",
    "\n",
    "c2InvTref = c2 / Tref                 # c2 / T_ref (cm)\n",
    "PI = np.pi\n",
    "sinPI = np.sin(np.pi)\n",
    "SqrtPI = np.sqrt(np.pi)\n",
    "Sqrtln2 = np.sqrt(np.log(2))\n",
    "OneminSqrtPIln2 = 1 - np.sqrt(np.pi * np.log(2))\n",
    "Negln2 = -np.log(2)\n",
    "Inv8Pic = 1 / (8 * np.pi * c)         # 8 * pi * c (s/cm)\n",
    "Inv4Pi = 1 / (4 * np.pi)\n",
    "InvSqrt2 = 1 / np.sqrt(2)\n",
    "InvSqrt2Pi = 1 / np.sqrt(2 * np.pi)\n",
    "InvSqrt2ln2 = 1 / np.sqrt(2 * np.log(2))\n",
    "TwoSqrt2ln2 = 2 * np.sqrt(2 * np.log(2))\n",
    "Sqrtln2InvPi = np.sqrt(np.log(2) / np.pi)\n",
    "Sqrt2NAkBln2mInvc = np.sqrt(2 * N_A * kB * np.log(2) / mass) / c\n",
    "binSize2 = bin_size * 2\n",
    "binSizePI = bin_size * np.pi\n",
    "binSizePI32 = bin_size * np.pi**1.5\n",
    "binSizeHalf = bin_size / 2 \n",
    "# Sqrt2NAkBln2mInvc = np.sqrt(2 * kB * np.log(2) / (mass*au.u.to(au.g))) / c\n"
   ]
  },
  {
   "cell_type": "markdown",
   "metadata": {},
   "source": [
    "# Read Input Files\n",
    "\n",
    "Read the parameters of the linelist in ExoMol or HITRAN format text file. Return the dataframe of the data for the following calculations.\n",
    "\n",
    "## Read ExoMol Database Files\n",
    "\n",
    "### Read States File"
   ]
  },
  {
   "cell_type": "code",
   "execution_count": 60,
   "metadata": {},
   "outputs": [],
   "source": [
    "def read_all_states(read_path):\n",
    "    \n",
    "    s_df = dict()\n",
    "    states_df = pd.DataFrame()\n",
    "    states_filenames = glob.glob((read_path + molecule + '/' + isotopologue + '/' + dataset \n",
    "                                  + '/' + isotopologue + '__' + dataset + '.states.bz2')[0])\n",
    "\n",
    "    for states_filename in states_filenames:\n",
    "        s_df[states_filename] = pd.read_csv(states_filename, compression='bz2', sep='\\s+', header=None,\n",
    "                                            chunksize=100000, iterator=True, low_memory=False, dtype=object)\n",
    "        for chunk in s_df[states_filename]:\n",
    "            states_df = pd.concat([states_df, chunk])\n",
    "            \n",
    "    pd.set_option(\"display.max_columns\",30)                           \n",
    "    return(states_df)"
   ]
  },
  {
   "cell_type": "code",
   "execution_count": 61,
   "metadata": {
    "scrolled": true
   },
   "outputs": [],
   "source": [
    "#states_df = read_all_states(read_path)\n",
    "#states_df "
   ]
  },
  {
   "cell_type": "markdown",
   "metadata": {},
   "source": [
    "### Read transitions File"
   ]
  },
  {
   "cell_type": "code",
   "execution_count": 62,
   "metadata": {},
   "outputs": [],
   "source": [
    "def get_transfiles(read_path):\n",
    "    # Get all the transitions files from the folder including the older version files which are named by vn(version number).\n",
    "    trans_filepaths_all = glob.glob((read_path + molecule + '/' + isotopologue + '/' + dataset + '/' + '*trans.bz2')[0])\n",
    "    num_transfiles_all = len(trans_filepaths_all)    # The number of all transitions files including the older version files.\n",
    "    trans_filepaths = []    # The list of the lastest transitions files.\n",
    "    for i in range(num_transfiles_all):\n",
    "        split_version = trans_filepaths_all[i].split('__')[-1].split('.')[0].split('_')    # Split the filenames.\n",
    "        num = len(split_version)\n",
    "        # There are four format filenames.\n",
    "        # The lastest transitions files named in two formats:\n",
    "        # 1. Filenames are named with the name of isotopologue and dataset. \n",
    "        #    End with .trans.bz2.\n",
    "        #    e.g. 14N-16O__XABC.trans.bz2'\n",
    "        # 2. Filenames are named with the name of isotopologue and dataset. \n",
    "        #    Also have the range of wavenumbers xxxxx-yyyyy.\n",
    "        #    End with .trans.bz2.\n",
    "        #    e.g. 1H2-16O__POKAZATEL__00000-00100.trans.bz2\n",
    "        # 3. The older version transitions files are named with vn(version number) based on the first format of the lastest files.\n",
    "        #    e.g. 14N-16O__XABC_v2.trans.bz2\n",
    "        # 4. The older version transitions files are named with updated date (yyyymmdd).\n",
    "        #    e.g. 1H3_p__MiZATeP__20170330.trans.bz2\n",
    "        # After split the filenames:\n",
    "        # The first format filenames only leave the dataset name, e.g. XABC.\n",
    "        # The second format filenames only leave the range of the wavenumber, e.g. 00000-00100.\n",
    "        # The third format filenames leave two parts(dataset name and version number), e.g. XABC and v2.\n",
    "        # The fourth format filenames only leave the updated date, e.g. 20170330.\n",
    "        # This program only process the lastest data, so extract the filenames named by the first two format.\n",
    "        if num == 1:     \n",
    "            if split_version[0] == dataset:        \n",
    "                trans_filepaths.append(trans_filepaths_all[i])\n",
    "            if len(split_version[0].split('-')) == 2:\n",
    "                trans_filepaths.append(trans_filepaths_all[i])\n",
    "    return(trans_filepaths)    "
   ]
  },
  {
   "cell_type": "code",
   "execution_count": 63,
   "metadata": {},
   "outputs": [],
   "source": [
    "def read_all_trans(read_path):\n",
    "    \n",
    "    t_df = dict()\n",
    "    trans_df = pd.DataFrame()\n",
    "    trans_col_name = ['u', 'l', 'A', 'v']\n",
    "    trans_filepaths = get_transfiles(read_path)\n",
    "\n",
    "    for trans_filename in tqdm(trans_filepaths):\n",
    "        t_df[trans_filename] = pd.read_csv(trans_filename, compression='bz2', sep='\\s+', header=None,\n",
    "                                           names=trans_col_name, chunksize=100000, iterator=True, low_memory=False)\n",
    "        for chunk in t_df[trans_filename]:\n",
    "            trans_df = pd.concat([trans_df,chunk])\n",
    "            \n",
    "    #pd.set_option(\"display.max_columns\",30)                           \n",
    "    return(trans_df)\n",
    "    "
   ]
  },
  {
   "cell_type": "code",
   "execution_count": 64,
   "metadata": {},
   "outputs": [
    {
     "name": "stderr",
     "output_type": "stream",
     "text": [
      "100%|██████████| 1/1 [00:00<00:00, 19.13it/s]\n"
     ]
    }
   ],
   "source": [
    "#all_trans_df = read_all_trans(read_path)\n",
    "#all_trans_df"
   ]
  },
  {
   "attachments": {},
   "cell_type": "markdown",
   "metadata": {},
   "source": [
    "## Convert among the frequency, upper and lower state energy"
   ]
  },
  {
   "cell_type": "code",
   "execution_count": 65,
   "metadata": {},
   "outputs": [],
   "source": [
    "@njit(parallel=True, fastmath=True)\n",
    "def cal_v(Epp, Ep):\n",
    "    v = np.abs(Epp - Ep)\n",
    "    return(v)"
   ]
  },
  {
   "cell_type": "code",
   "execution_count": 66,
   "metadata": {},
   "outputs": [],
   "source": [
    "@njit(parallel=True, fastmath=True)\n",
    "def cal_Ep(Epp, v):\n",
    "    Ep = np.abs(Epp + v)\n",
    "    return(Ep)"
   ]
  },
  {
   "attachments": {},
   "cell_type": "markdown",
   "metadata": {},
   "source": [
    "### Read Partition Function File From ExoMol Database"
   ]
  },
  {
   "cell_type": "code",
   "execution_count": 67,
   "metadata": {},
   "outputs": [],
   "source": [
    "def read_exomolweb_pf(T):\n",
    "    \n",
    "    pf_url = ('http://www.exomol.com/db/' + molecule + '/' + isotopologue + '/' + dataset \n",
    "              + '/' + isotopologue + '__' + dataset + '.pf')[0]\n",
    "    pf_content = requests.get(pf_url).text\n",
    "    pf_col_name = ['T', 'Q']\n",
    "    pf_df = pd.read_csv(StringIO(pf_content), sep='\\\\s+', names=pf_col_name, header=None)\n",
    "    Q = pf_df['Q'][T-1]\n",
    "\n",
    "    return(Q)"
   ]
  },
  {
   "cell_type": "code",
   "execution_count": 68,
   "metadata": {},
   "outputs": [],
   "source": [
    "def read_exomol_pf(read_path, T):\n",
    "    \n",
    "    pf_filename = (read_path + molecule + '/' + isotopologue + '/' + dataset \n",
    "                   + '/' + isotopologue + '__' + dataset + '.pf')[0]\n",
    "    pf_col_name = ['T', 'Q']\n",
    "    pf_df = pd.read_csv(pf_filename, sep='\\\\s+', names=pf_col_name, header=None)\n",
    "    Q = pf_df['Q'][T-1]\n",
    "\n",
    "    return(Q)"
   ]
  },
  {
   "cell_type": "markdown",
   "metadata": {},
   "source": [
    "### Read Broadening File"
   ]
  },
  {
   "cell_type": "code",
   "execution_count": 69,
   "metadata": {},
   "outputs": [],
   "source": [
    "def read_broad(read_path):\n",
    "    broad_col_name = ['code', 'gamma_L', 'n_air', 'Jpp']\n",
    "    broad_path = (read_path + molecule + '/' + isotopologue + '/' + isotopologue + '__air.broad')[0]\n",
    "    if not os.path.exists(broad_path):\n",
    "        raise ImportError('The boradening file ' + broad_path + ' does not exist.')\n",
    "    broad_df = pd.read_csv(broad_path, sep='\\s+', names=broad_col_name, header=None, engine='python')\n",
    "    return(broad_df)"
   ]
  },
  {
   "cell_type": "code",
   "execution_count": 70,
   "metadata": {},
   "outputs": [],
   "source": [
    "def read_broad(read_path):\n",
    "    broad_col_name = ['code', 'gamma_L', 'n_air', 'Jpp']\n",
    "\n",
    "    default_broad_df = pd.DataFrame(columns=broad_col_name)\n",
    "    air_broad_df = pd.DataFrame(columns=broad_col_name)\n",
    "    self_broad_df = pd.DataFrame(columns=broad_col_name)\n",
    "    H2_broad_df = pd.DataFrame(columns=broad_col_name)\n",
    "    He_broad_df = pd.DataFrame(columns=broad_col_name)\n",
    "    CO2_broad_df = pd.DataFrame(columns=broad_col_name)\n",
    "\n",
    "    broad = []\n",
    "    ratio = []\n",
    "    for i in range(len(ratios)):\n",
    "        if ratios[i] != 0.0:\n",
    "            if broadeners[i] == 'Default':\n",
    "                default_gamma_L = 0.07\n",
    "                default_n_air = 0.5\n",
    "                #default_gamma_L = 1\n",
    "                #default_n_air = 0.01\n",
    "                default_broad_df = pd.DataFrame([['code', default_gamma_L, default_n_air,'Jpp']],columns=broad_col_name)\n",
    "            if broadeners[i] == 'Air':\n",
    "                broad_path = (read_path + molecule + '/' + isotopologue + '/' + isotopologue + '__air.broad')[0]\n",
    "                if not os.path.exists(broad_path):\n",
    "                    raise ImportError('The boradening file ' + broad_path + ' does not exist.')    \n",
    "                air_broad_df = pd.read_csv(broad_path, sep='\\s+', names=broad_col_name, header=None, engine='python')\n",
    "            if broadeners[i] == 'Self':\n",
    "                broad_path = (read_path + molecule + '/' + isotopologue + '/' + isotopologue + '__self.broad')[0]\n",
    "                if not os.path.exists(broad_path):\n",
    "                    raise ImportError('The boradening file ' + broad_path + ' does not exist.')    \n",
    "                self_broad_df = pd.read_csv(broad_path, sep='\\s+', names=broad_col_name, header=None, engine='python')\n",
    "            if broadeners[i] == 'H2':\n",
    "                broad_path = (read_path + molecule + '/' + isotopologue + '/' + isotopologue + '__H2.broad')[0]\n",
    "                if not os.path.exists(broad_path):\n",
    "                    raise ImportError('The boradening file ' + broad_path + ' does not exist.')    \n",
    "                H2_broad_df = pd.read_csv(broad_path, sep='\\s+', names=broad_col_name, header=None, engine='python')\n",
    "            if broadeners[i] == 'He':\n",
    "                broad_path = (read_path + molecule + '/' + isotopologue + '/' + isotopologue + '__He.broad')[0]\n",
    "                if not os.path.exists(broad_path):\n",
    "                    raise ImportError('The boradening file ' + broad_path + ' does not exist.')    \n",
    "                He_broad_df = pd.read_csv(broad_path, sep='\\s+', names=broad_col_name, header=None, engine='python')\n",
    "            if broadeners[i] == 'CO2':\n",
    "                broad_path = (read_path + molecule + '/' + isotopologue + '/' + isotopologue + '__CO2.broad')[0]\n",
    "                if not os.path.exists(broad_path):\n",
    "                    raise ImportError('The boradening file ' + broad_path + ' does not exist.')    \n",
    "                CO2_broad_df = pd.read_csv(broad_path, sep='\\s+', names=broad_col_name, header=None, engine='python')\n",
    "            \n",
    "            broad.append(broadeners[i])\n",
    "            ratio.append(ratios[i])\n",
    "    broad = list(i for i in broad if i==i)\n",
    "    ratio = list(i for i in ratio if i==i)\n",
    "    print('Broadeners \\t: ', broadeners[0],'\\t',broadeners[1],'\\t',broadeners[2],'\\t',broadeners[3],'\\t',broadeners[4],'\\t',broadeners[5])\n",
    "    print('Ratios \\t\\t: ', ratios[0],'\\t\\t',ratios[1],'\\t',ratios[2],'\\t',ratios[3],'\\t',ratios[4],'\\t',ratios[5])\n",
    "    return(broad,ratio,default_broad_df,air_broad_df,self_broad_df,H2_broad_df,He_broad_df,CO2_broad_df)        \n"
   ]
  },
  {
   "cell_type": "markdown",
   "metadata": {},
   "source": [
    "## Read HITRAN Database Files\n",
    "\n",
    "### Read HITRAN Linelist File"
   ]
  },
  {
   "cell_type": "code",
   "execution_count": 71,
   "metadata": {},
   "outputs": [],
   "source": [
    "def read_hitran_parfile (read_path, parfile_df):\n",
    "    '''\n",
    "    Read the parameters of the molecular absorption features\n",
    "    of HITRAN2020 format text file.\n",
    "    \n",
    "    Parameters\n",
    "    ----------\n",
    "    par_filepath : str\n",
    "        Input file path for reading.\n",
    "    Return\n",
    "    ------\n",
    "    hitran_df : DataFrame\n",
    "        The DataFrame of HITRAN data for the molecule.\n",
    "    '''    \n",
    "    par_filename = read_path.split('/')[-1]\n",
    "    if (len(str(parfile_df[0][0])) < 160):\n",
    "        raise ImportError('The file ' + par_filename + ' is not a HITRAN2020 format data file.')\n",
    "    #hitran_column_name = ['M','I','v','S','Acoeff','gamma_air','gamma_self',\n",
    "    #                     'Epp','n_air','delta_air','Vp','Vpp','Qp','Qpp',\n",
    "    #                     'Ierr','Iref','flag','gp','gpp']\n",
    "\n",
    "    hitran_df = pd.DataFrame()\n",
    "    hitran_df['M'] = pd.to_numeric(parfile_df[0].map(lambda x: x[0:2]), errors='coerce').astype('int32')                 # Molecule identification number\n",
    "    hitran_df['I'] = pd.to_numeric(parfile_df[0].map(lambda x: x[2:3]), errors='coerce').astype('int32')                 # Isotopologue number\n",
    "    hitran_df['v'] = pd.to_numeric(parfile_df[0].map(lambda x: x[3:15]), errors='coerce').astype('float64')              # Transition wavenumber (in cm^{-1})\n",
    "    hitran_df['S'] = pd.to_numeric(parfile_df[0].map(lambda x: x[15:25]), errors='coerce').astype('float64')             # Intensity (cm^{-1} / (molecule cm^{-2}))\n",
    "    hitran_df['A'] = pd.to_numeric(parfile_df[0].map(lambda x: x[25:35]), errors='coerce').astype('float64')             # The Einstein-A coefficient (s^{-1}) of a transition\n",
    "    hitran_df['gamma_air'] = pd.to_numeric(parfile_df[0].map(lambda x: x[35:40]), errors='coerce').astype('float64')     # Air-broadened half-width at half maximum (HWHM) coefficient (cm^{-1} atm^{-1})\n",
    "    hitran_df['gamma_self'] = pd.to_numeric(parfile_df[0].map(lambda x: x[40:45]), errors='coerce').astype('float64')    # Self-broadened half-width at half maximum (HWHM) coefficient (cm^{-1} atm^{-1})\n",
    "    hitran_df['Epp'] = pd.to_numeric(parfile_df[0].map(lambda x: x[45:55]), errors='coerce').astype('float64')           # Lower state energy (cm^{-1})\n",
    "    hitran_df['n_air'] = pd.to_numeric(parfile_df[0].map(lambda x: x[55:59]), errors='coerce').astype('float64')         # Temperature-dependent exponent for gamma_air\n",
    "    hitran_df['delta_air'] = pd.to_numeric(parfile_df[0].map(lambda x: x[59:67]), errors='coerce').astype('float64')     # Air pressure_include line shift (cm^{-1} atm^{-1})\n",
    "    #hitran_df['Vp'] = parfile_df[0].map(lambda x: x[67:82])                                                              # Upper-state \"global\" quanta\n",
    "    #hitran_df['Vpp'] = parfile_df[0].map(lambda x: x[82:97])                                                             # Lower-state \"global\" quanta\n",
    "    #hitran_df['Qp'] = parfile_df[0].map(lambda x: x[97:112])                                                             # Upper-state \"local\" quanta\n",
    "    #hitran_df['Qpp'] = parfile_df[0].map(lambda x: x[112:127])                                                           # Lower-state \"local\" quanta\n",
    "    hitran_df['gp'] = pd.to_numeric(parfile_df[0].map(lambda x: x[146:153]), errors='coerce').astype('float64')          # Statistical weight of the upper state\n",
    "    \n",
    "    hitran_df = hitran_df[hitran_df['M'].isin([molecule_id])]\n",
    "    hitran_df = hitran_df[hitran_df['I'].isin([isotopologue_id])]\n",
    "    hitran_df = hitran_df[hitran_df['v'].between(min_wn, max_wn)]\n",
    "    if threshold != 'None':\n",
    "        hitran_df = hitran_df[hitran_df['S'] >= threshold]\n",
    "    \n",
    "    return hitran_df\n"
   ]
  },
  {
   "cell_type": "code",
   "execution_count": 72,
   "metadata": {},
   "outputs": [],
   "source": [
    "def read_parfile(read_path):\n",
    "    if not os.path.exists(read_path):\n",
    "        raise ImportError('The input file ' + read_path + ' does not exist.')\n",
    "\n",
    "    # Initialise the iterator object.\n",
    "    read_par = pd.read_csv(read_path, chunksize=10000, iterator=True, header=None, encoding='utf-8')\n",
    "    par_df = pd.DataFrame()\n",
    "    for chunk in read_par:\n",
    "        par_df = pd.concat([par_df, chunk])\n",
    "    return(par_df)"
   ]
  },
  {
   "attachments": {},
   "cell_type": "markdown",
   "metadata": {},
   "source": [
    "### Read Partition Function File From HITRANOnline"
   ]
  },
  {
   "cell_type": "code",
   "execution_count": 73,
   "metadata": {},
   "outputs": [],
   "source": [
    "def read_hitran_pf(T):\n",
    "    isometa_url = 'https://hitran.org/docs/iso-meta/'\n",
    "    iso_meta_table = pd.read_html(isometa_url)[molecule_id - 1]\n",
    "    iso_meta_row = iso_meta_table[iso_meta_table['local ID'].isin([isotopologue_id])]\n",
    "    #Q_ref = float(iso_meta_row.loc[0][6].replace('\\xa0×\\xa010','E'))\n",
    "    Q_url = 'https://hitran.org/data/Q/' + iso_meta_row.loc[0][7]\n",
    "    Q_content = requests.get(Q_url).text\n",
    "    Q_col_name = ['T', 'Q']\n",
    "    Q_df = pd.read_csv(StringIO(Q_content), sep='\\\\s+', names=Q_col_name, header=None)\n",
    "    Q = Q_df['Q'][T - 1]   \n",
    "    return(Q)"
   ]
  },
  {
   "cell_type": "markdown",
   "metadata": {},
   "source": [
    "# Calculate Parition Function\n"
   ]
  },
  {
   "cell_type": "code",
   "execution_count": 74,
   "metadata": {},
   "outputs": [],
   "source": [
    "def calculate_partition(En, gn, T):\n",
    "    partition_func = ne.evaluate('sum(gn * exp(-c2 * En / T))') \n",
    "    return(partition_func)"
   ]
  },
  {
   "cell_type": "code",
   "execution_count": 75,
   "metadata": {},
   "outputs": [],
   "source": [
    "# Partition function\n",
    "def exomol_partition_func(read_path, states_df, Ntemp, Tmax):\n",
    "    \n",
    "    print('Calculate partition functions.')  \n",
    "    t = Timer()\n",
    "    t.start()\n",
    "    \n",
    "    #states_df = read_all_states(read_path)\n",
    "    En = states_df[1].astype('float').values\n",
    "    gn = states_df[2].astype('int').values\n",
    "    Ts = np.array(range(Ntemp, Tmax+1, Ntemp)) \n",
    "    \n",
    "    partition_func = [calculate_partition(En, gn, T) for T in Ts]\n",
    "    \n",
    "    partition_func_df = pd.DataFrame()\n",
    "    partition_func_df['T'] = Ts\n",
    "    partition_func_df['partition function'] = partition_func\n",
    "        \n",
    "    pf_folder = save_path + '/partition/'\n",
    "    if os.path.exists(pf_folder):\n",
    "        pass\n",
    "    else:\n",
    "        os.makedirs(pf_folder, exist_ok=True)\n",
    "    pf_path = (pf_folder + isotopologue + '__' + dataset + '.pf')[0]\n",
    "    np.savetxt(pf_path, partition_func_df, fmt=\"%8.1f %15.4f\")\n",
    "    \n",
    "    t.end()\n",
    "    print('Partition functions has been saved!\\n')  \n"
   ]
  },
  {
   "cell_type": "code",
   "execution_count": 76,
   "metadata": {},
   "outputs": [],
   "source": [
    "#Ntemp = 1\n",
    "#Tmax = int(5000.00)\n",
    "\n",
    "#exomol_partition_func(read_path, states_df, Ntemp, Tmax)"
   ]
  },
  {
   "cell_type": "markdown",
   "metadata": {},
   "source": [
    "# Specific Heat"
   ]
  },
  {
   "cell_type": "code",
   "execution_count": 128,
   "metadata": {},
   "outputs": [],
   "source": [
    "def calculate_specific_heats(En, gn, T):\n",
    "    pf = ne.evaluate('sum(gn * exp(-c2 * En / T)) ')  \n",
    "    pfp = ne.evaluate('sum(gn * np.exp(-c2 * En / T) * (c2 * En / T))')\n",
    "    pfpp = ne.evaluate('sum(gn * np.exp(-c2 * En / T) * (c2 * En / T) ** 2)')\n",
    "    specificheat_func = ne.evaluate('R * (pfpp / pf - (pfp / pf)**2) + 2.5 * R') \n",
    "    return(specificheat_func)"
   ]
  },
  {
   "cell_type": "code",
   "execution_count": null,
   "metadata": {},
   "outputs": [],
   "source": [
    "# Specific heat\n",
    "def exomol_specificheat(read_path, states_df, Ntemp, Tmax):\n",
    "    print('Calculate specific heats.')  \n",
    "    t = Timer()\n",
    "    t.start()\n",
    "    \n",
    "    #states_df = read_all_states(read_path)\n",
    "    En = states_df[1].astype('float').values\n",
    "    gn = states_df[2].astype('int').values\n",
    "    Ts = np.array(range(Ntemp, Tmax+1, Ntemp)) \n",
    "    \n",
    "    specificheat_func = [calculate_specific_heats(En, gn, T) for T in Ts]\n",
    "    \n",
    "    specificheat_func_df = pd.DataFrame()\n",
    "    specificheat_func_df['T'] = Ts\n",
    "    specificheat_func_df['specific heat'] = specificheat_func\n",
    "        \n",
    "    cp_folder = save_path + '/specific_heat/'\n",
    "    if os.path.exists(cp_folder):\n",
    "        pass\n",
    "    else:\n",
    "        os.makedirs(cp_folder, exist_ok=True)  \n",
    "    cp_path = (cp_folder + isotopologue + '__' + dataset + '.cp')[0]\n",
    "    np.savetxt(cp_path, specificheat_func_df, fmt=\"%8.1f %15.4f\")\n",
    "\n",
    "    t.end()\n",
    "    print('Specific heats has been saved!\\n')  \n"
   ]
  },
  {
   "cell_type": "code",
   "execution_count": null,
   "metadata": {},
   "outputs": [],
   "source": [
    "#Ntemp = 1\n",
    "#Tmax = int(5000.0)\n",
    "\n",
    "#exomol_specificheat(read_path, states_df, Ntemp, Tmax)\n"
   ]
  },
  {
   "cell_type": "markdown",
   "metadata": {},
   "source": [
    "# Lifetime"
   ]
  },
  {
   "cell_type": "code",
   "execution_count": null,
   "metadata": {},
   "outputs": [],
   "source": [
    "# Lifetime\n",
    "def exomol_lifetime(read_path, states_df, all_trans_df):\n",
    "    \n",
    "    print('Calculate lifetimes.')  \n",
    "    t = Timer()\n",
    "    t.start()\n",
    "    \n",
    "    #states_df = read_all_states(read_path)\n",
    "    #all_trans_df = read_all_trans(read_path)\n",
    "    sum_A = all_trans_df.groupby('u')['A'].sum()\n",
    "    lifetime = ne.evaluate('1 / sum_A') \n",
    "    lt_df = lifetime.map('{: >12.4E}'.format).reset_index()\n",
    "    lt_df.columns=['u','lt']\n",
    "    uid = lt_df['u']\n",
    "    add_u = pd.DataFrame()\n",
    "    add_u['u'] = pd.concat([states_df[0].astype('int'), uid]).drop_duplicates(keep=False)\n",
    "    add_u['lt'] = '         inf'\n",
    "    lifetime_df = pd.concat([lt_df, add_u], ignore_index=True)\n",
    "    lifetime_df.sort_values('u',inplace=True)\n",
    "    \n",
    "    states_filenames = glob.glob((read_path + molecule + '/' + isotopologue + '/' + dataset \n",
    "                                  + '/' + isotopologue + '__' + dataset + '.states.bz2')[0])\n",
    "    s_df = pd.read_csv(states_filenames[0], compression='bz2', header=None, dtype=object)\n",
    "    lifetime_list = list(lifetime_df['lt'])\n",
    "    nrows = len(s_df)\n",
    "    new_rows = []\n",
    "    if check_uncertainty == 0:\n",
    "        for i in range(nrows):\n",
    "            new_rows.append(s_df[0][i][:41]+lifetime_list[i]+s_df[0][i][53:]+'\\n')\n",
    "    if check_uncertainty == 1:\n",
    "        for i in range(nrows):\n",
    "            new_rows.append(s_df[0][i][:53]+lifetime_list[i]+s_df[0][i][65:]+'\\n')\n",
    "\n",
    "    lf_folder = save_path + '/lifetime/'\n",
    "    if os.path.exists(lf_folder):\n",
    "        pass\n",
    "    else:\n",
    "        os.makedirs(lf_folder, exist_ok=True)  \n",
    "        \n",
    "    ##### bz2 #####\n",
    "    '''\n",
    "    lf_path = (lf_folder + isotopologue + '__' + dataset + '.states.bz2')[0]\n",
    "\n",
    "    with bz2.open(lf_path, 'wt') as f:\n",
    "        for i in range(nrows):\n",
    "            f.write(new_rows[i])\n",
    "        f.close'''\n",
    "    ###############\n",
    "    \n",
    "    ##### states #####\n",
    "    lf_path = (lf_folder + isotopologue + '__' + dataset + '.states')[0]\n",
    "\n",
    "    with open(lf_path, 'wt') as f:\n",
    "        for i in range(nrows):\n",
    "            f.write(new_rows[i])\n",
    "        f.close\n",
    "    ##################\n",
    "\n",
    "    t.end()\n",
    "    print('Lifetimes has been saved!\\n')   \n"
   ]
  },
  {
   "cell_type": "code",
   "execution_count": null,
   "metadata": {},
   "outputs": [],
   "source": [
    "#exomol_lifetime(read_path, states_df, all_trans_df)"
   ]
  },
  {
   "cell_type": "markdown",
   "metadata": {},
   "source": [
    "# Calculate Cooling Function"
   ]
  },
  {
   "cell_type": "code",
   "execution_count": 162,
   "metadata": {},
   "outputs": [],
   "source": [
    "def linelist_coolingfunc(read_path, states_df, all_trans_df):\n",
    "    #states_df = read_all_states(read_path)\n",
    "    #all_trans_df = read_all_trans(read_path)\n",
    "    id_u = all_trans_df['u'].values\n",
    "    id_l = all_trans_df['l'].values\n",
    "    states_df[0] = pd.to_numeric(states_df[0])\n",
    "    states_df.set_index([0], inplace=True, drop=False)\n",
    "    id_s = states_df[0]\n",
    "    all_trans_df.set_index(['u'], inplace=True, drop=False)\n",
    "    id_us = list(set(id_u).intersection(set(id_s)))\n",
    "    trans_us_df = all_trans_df.loc[id_us]\n",
    "    id_l = trans_us_df['l'].values\n",
    "    id_ls = list(set(id_l).intersection(set(id_s)))\n",
    "    trans_us_df.set_index(['l'], inplace=True, drop=False)\n",
    "    trans_s_df = trans_us_df.loc[id_ls]\n",
    "    id_su = trans_s_df['u'].values\n",
    "    id_sl = trans_s_df['l'].values\n",
    "    states_u_df = states_df.loc[id_su]\n",
    "    states_l_df = states_df.loc[id_sl]\n",
    "\n",
    "    Ep = states_u_df[1].values.astype('float')\n",
    "    gp = states_u_df[2].values.astype('int')\n",
    "    A = trans_s_df['A'].values.astype('float')\n",
    "\n",
    "    if pd.isna(all_trans_df['v']).iloc[0] == False:\n",
    "        v = trans_s_df['v'].values.astype('float')\n",
    "    else:\n",
    "        Epp = states_l_df[1].astype('float') # Upper state energy\n",
    "        v = cal_v(Ep, Epp) \n",
    "    return (A, v, Ep, gp)"
   ]
  },
  {
   "cell_type": "code",
   "execution_count": 163,
   "metadata": {},
   "outputs": [],
   "source": [
    "def calculate_cooling(A, v, Ep, gp, T, Q):\n",
    "    # cooling_func = np.sum(A * h * c * v * gp * np.exp(-c2 * Ep / T)) / (4 * PI * Q) \n",
    "    _sum = ne.evaluate('sum(A * h * c * v * gp * exp(-c2 * Ep / T))')  \n",
    "    cooling_func = ne.evaluate('_sum / (4 * PI * Q)')\n",
    "    return(cooling_func)"
   ]
  },
  {
   "cell_type": "code",
   "execution_count": 164,
   "metadata": {},
   "outputs": [],
   "source": [
    "# Cooling function\n",
    "def exomol_cooling_func(read_path, states_df, all_trans_df, Ntemp, Tmax):\n",
    "    \n",
    "    print('Calculate cooling functions.')  \n",
    "    t = Timer()\n",
    "    t.start()\n",
    "    \n",
    "    A, v, Ep, gp = linelist_coolingfunc(read_path, states_df, all_trans_df)\n",
    "    Ts = np.array(range(Ntemp, Tmax+1, Ntemp)) \n",
    "    Qs = [read_exomol_pf(read_path, T) for T in Ts]\n",
    "    \n",
    "    cooling_func = [calculate_cooling(A, v, Ep, gp, T, Q) for T,Q in zip(Ts,Qs)]\n",
    "    \n",
    "    cooling_func_df = pd.DataFrame()\n",
    "    cooling_func_df['T'] = Ts\n",
    "    cooling_func_df['cooling function'] = cooling_func\n",
    "\n",
    "    cf_folder = save_path + '/cooling/'\n",
    "    if os.path.exists(cf_folder):\n",
    "        pass\n",
    "    else:\n",
    "        os.makedirs(cf_folder, exist_ok=True)  \n",
    "    cf_path = (cf_folder + isotopologue + '__' + dataset + '.cooling')[0]    \n",
    "    np.savetxt(cf_path, cooling_func_df, fmt=\"%8.1f %20.8E\")\n",
    "    \n",
    "    t.end()\n",
    "    print('Cooling functions has been saved!\\n')   "
   ]
  },
  {
   "cell_type": "code",
   "execution_count": 165,
   "metadata": {},
   "outputs": [
    {
     "name": "stdout",
     "output_type": "stream",
     "text": [
      "Calculate cooling functions.\n",
      "Running time on CPU       : 5.020290116999945 s\n",
      "Running time on system    : 5.040568590164185 s\n",
      "Cooling functions has been saved!\n",
      "\n"
     ]
    }
   ],
   "source": [
    "#Ntemp = 1\n",
    "#Tmax = int(1500.00)\n",
    "\n",
    "#exomol_cooling_func(read_path, states_df, all_trans_df, Ntemp, Tmax)"
   ]
  },
  {
   "attachments": {},
   "cell_type": "markdown",
   "metadata": {},
   "source": [
    "# Process data"
   ]
  },
  {
   "cell_type": "code",
   "execution_count": 20,
   "metadata": {},
   "outputs": [],
   "source": [
    "def read_part_states(states_df):\n",
    "\n",
    "    if UncFilter != 'None':\n",
    "        states_part_df = states_df[states_df[4].astype(float) <= UncFilter]\n",
    "        states_part_df[0] = pd.to_numeric(states_part_df[0])\n",
    "        states_part_df.set_index([0], inplace=True, drop=False)\n",
    "    else:\n",
    "        states_part_df = states_df\n",
    "        states_part_df[0] = pd.to_numeric(states_part_df[0])\n",
    "        states_part_df.set_index([0], inplace=True, drop=False)\n",
    "    if check_uncertainty == 1:\n",
    "        col_unc = ['unc']\n",
    "    else:\n",
    "        col_unc = []\n",
    "    if check_lifetime == 1:\n",
    "        col_lifetime = ['tau']\n",
    "    else:\n",
    "        col_lifetime = []\n",
    "    if check_gfactor == 1:\n",
    "        col_gfac = ['gfac']\n",
    "    else:\n",
    "        col_gfac = []\n",
    "    colname = ['id','E','g','J'] + col_unc + col_lifetime + col_gfac + QNslabel_list\n",
    "    states_part_df.drop(states_part_df.columns[len(colname):], axis=1, inplace=True)\n",
    "    states_part_df.columns = colname\n",
    "    if QNsFilter !=[]:    \n",
    "        for i in range(len(QNs_label)):\n",
    "            states_part_df = states_part_df[states_part_df[QNs_label[i]].isin(QNs_value[i])]\n",
    "    pd.set_option(\"display.max_columns\",30)  \n",
    "\n",
    " \n",
    "    return(states_part_df)"
   ]
  },
  {
   "cell_type": "code",
   "execution_count": 21,
   "metadata": {},
   "outputs": [],
   "source": [
    "def get_part_transfiles(read_path):\n",
    "    # Get all the transitions files from the folder including the older version files which are named by vn(version number).\n",
    "    trans_filepaths_all = glob.glob((read_path + molecule + '/' + isotopologue + '/' + dataset + '/' + '*trans.bz2')[0])\n",
    "    num_transfiles_all = len(trans_filepaths_all)    # The number of all transitions files including the older version files.\n",
    "    trans_filepaths = []    # The list of the lastest transitions files.\n",
    "    for i in range(num_transfiles_all):\n",
    "        split_version = trans_filepaths_all[i].split('__')[-1].split('.')[0].split('_')    # Split the filenames.\n",
    "        num = len(split_version)\n",
    "        # There are four format filenames.\n",
    "        # The lastest transitions files named in two formats:\n",
    "        # 1. Filenames are named with the name of isotopologue and dataset. \n",
    "        #    End with .trans.bz2.\n",
    "        #    e.g. 14N-16O__XABC.trans.bz2'\n",
    "        # 2. Filenames are named with the name of isotopologue and dataset. \n",
    "        #    Also have the range of wavenumbers xxxxx-yyyyy.\n",
    "        #    End with .trans.bz2.\n",
    "        #    e.g. 1H2-16O__POKAZATEL__00000-00100.trans.bz2\n",
    "        # 3. The older version transitions files are named with vn(version number) based on the first format of the lastest files.\n",
    "        #    e.g. 14N-16O__XABC_v2.trans.bz2\n",
    "        # 4. The older version transitions files are named with updated date (yyyymmdd).\n",
    "        #    e.g. 1H3_p__MiZATeP__20170330.trans.bz2\n",
    "        # After split the filenames:\n",
    "        # The first format filenames only leave the dataset name, e.g. XABC.\n",
    "        # The second format filenames only leave the range of the wavenumber, e.g. 00000-00100.\n",
    "        # The third format filenames leave two parts(dataset name and version number), e.g. XABC and v2.\n",
    "        # The fourth format filenames only leave the updated date, e.g. 20170330.\n",
    "        # This program only process the lastest data, so extract the filenames named by the first two format.\n",
    "        if num == 1:     \n",
    "            if split_version[0] == dataset:        \n",
    "                trans_filepaths.append(trans_filepaths_all[i])\n",
    "            elif len(split_version[0].split('-')) == 2:\n",
    "                trans_filepaths.append(trans_filepaths_all[i])\n",
    "        \n",
    "    if len(trans_filepaths) == 1:\n",
    "        filenames = trans_filepaths\n",
    "    else:\n",
    "        filenames = []\n",
    "        for trans_filename in tqdm(trans_filepaths):\n",
    "            lower = int(trans_filename.split('__')[2].split('.')[0].split('-')[0])\n",
    "            upper = int(trans_filename.split('__')[2].split('.')[0].split('-')[1]) \n",
    "            if (lower <= int(min_wn) <= upper):\n",
    "                filenames.append(trans_filename)\n",
    "            if (lower >= int(min_wn) and upper <= int(max_wn)):\n",
    "                filenames.append(trans_filename)\n",
    "            if (lower <= int(max_wn) <= upper):\n",
    "                filenames.append(trans_filename)   \n",
    "    return(filenames)     \n"
   ]
  },
  {
   "cell_type": "code",
   "execution_count": 22,
   "metadata": {},
   "outputs": [],
   "source": [
    "def read_part_trans(read_path):\n",
    "    trans_filenames = get_part_transfiles(read_path)\n",
    "    t_df = dict()\n",
    "    trans_part_df = pd.DataFrame()\n",
    "    # Initialise the iterator object.\n",
    "    trans_col_name = ['u', 'l', 'A', 'v']\n",
    "    for trans_filename in tqdm(trans_filenames):\n",
    "        t_df[trans_filename] = pd.read_csv(trans_filename, compression='bz2', sep='\\s+', header=None, \n",
    "                                           names=trans_col_name, chunksize=10000, iterator=True, encoding='utf-8')\n",
    "        for chunk in t_df[trans_filename]:\n",
    "            trans_part_df = pd.concat([trans_part_df, chunk])\n",
    "    return(trans_part_df)"
   ]
  },
  {
   "attachments": {},
   "cell_type": "markdown",
   "metadata": {},
   "source": [
    "# Intensity"
   ]
  },
  {
   "cell_type": "code",
   "execution_count": 23,
   "metadata": {},
   "outputs": [],
   "source": [
    "def cal_abscoefs(v, gp, A, Epp, Q, abundance):\n",
    "    # abscoef = gp * A * np.exp(- c2 * Epp / T) * (1 - np.exp(- c2 * v / T)) / (8 * np.pi * c * v**2 * Q) * abundance  \n",
    "    abscoef = ne.evaluate('gp * A * exp(- c2 * Epp / T) * (1 - exp(- c2 * v / T)) * Inv8Pic / (v ** 2 * Q) * abundance')  \n",
    "    return abscoef"
   ]
  },
  {
   "cell_type": "code",
   "execution_count": 24,
   "metadata": {},
   "outputs": [],
   "source": [
    "def cal_emicoefs(v, gp, A, Ep, Q, abundance):\n",
    "    # emicoef = gp * A * v * np.exp(- c2 * Ep / T) / (4 * np.pi) / Q * abundance   \n",
    "    emicoef = ne.evaluate('gp * A * v * exp(- c2 * Ep / T) * Inv4Pi / Q * abundance')\n",
    "    return emicoef"
   ]
  },
  {
   "attachments": {},
   "cell_type": "markdown",
   "metadata": {},
   "source": [
    "# Stick Spectra"
   ]
  },
  {
   "cell_type": "code",
   "execution_count": 25,
   "metadata": {},
   "outputs": [],
   "source": [
    "def linelist(cutoff,states_part_df,trans_part_df):\n",
    "    \n",
    "    if pd.isna(trans_part_df['v']).values[0] == False:\n",
    "        if cutoff == 'None':\n",
    "            trans_part_df = trans_part_df[trans_part_df['v'].between(min_wn, max_wn)] \n",
    "        else:\n",
    "            trans_part_df = trans_part_df[trans_part_df['v'].between(min_wn - cutoff, max_wn + cutoff)] \n",
    "        id_u = trans_part_df['u'].values\n",
    "        id_s = states_part_df['id'].values\n",
    "\n",
    "        trans_part_df.set_index(['u'], inplace=True, drop=False)\n",
    "        id_us = list(set(id_u).intersection(set(id_s)))\n",
    "        trans_us_df = trans_part_df.loc[id_us]\n",
    "\n",
    "        id_l = trans_us_df['l'].values\n",
    "        id_ls = list(set(id_l).intersection(set(id_s)))\n",
    "        trans_us_df.set_index(['l'], inplace=True, drop=False)\n",
    "        trans_s_df = trans_us_df.loc[id_ls]\n",
    "        trans_s_df.sort_values(by=['v'], inplace=True)\n",
    "\n",
    "        id_su = trans_s_df['u'].values\n",
    "        id_sl = trans_s_df['l'].values\n",
    "        states_u_df = states_part_df.loc[id_su]\n",
    "        states_l_df = states_part_df.loc[id_sl]\n",
    "\n",
    "        Ep = states_u_df['E'].values.astype('float')\n",
    "        Epp = states_l_df['E'].values.astype('float')\n",
    "        gp = states_u_df['g'].values.astype('int')\n",
    "        Jp = states_u_df['J'].values.astype('float')\n",
    "        Jpp = states_l_df['J'].values.astype('float')\n",
    "        A = trans_s_df['A'].values.astype('float')\n",
    "        v = trans_s_df['v'].values.astype('float')\n",
    "        QNp = pd.DataFrame()\n",
    "        QNpp = pd.DataFrame()\n",
    "        for i in range(len(QNslabel_list)):\n",
    "            QNp[QNslabel_list[i]+\"'\"] = states_u_df[QNslabel_list[i]].values\n",
    "            QNpp[QNslabel_list[i]+'\"'] = states_l_df[QNslabel_list[i]].values\n",
    "        stick_qn_df = pd.concat([QNp,QNpp],axis='columns')\n",
    "        \n",
    "    else:\n",
    "        id_u = trans_part_df['u'].values\n",
    "        id_s = states_part_df['id'].values\n",
    "\n",
    "        trans_part_df.set_index(['u'], inplace=True, drop=False)\n",
    "        id_us = list(set(id_u).intersection(set(id_s)))\n",
    "        trans_us_df = trans_part_df.loc[id_us]\n",
    "\n",
    "        id_l = trans_us_df['l'].values\n",
    "        id_ls = list(set(id_l).intersection(set(id_s)))\n",
    "        trans_us_df.set_index(['l'], inplace=True, drop=False)\n",
    "        trans_s_df = trans_us_df.loc[id_ls]\n",
    "\n",
    "        id_su = trans_s_df['u'].values\n",
    "        id_sl = trans_s_df['l'].values\n",
    "        states_u_df = states_part_df.loc[id_su]\n",
    "        states_l_df = states_part_df.loc[id_sl]\n",
    "\n",
    "        trans_s_df['Ep'] = states_u_df['E'].values.astype('float')\n",
    "        trans_s_df['Epp'] = states_l_df['E'].values.astype('float')\n",
    "        trans_s_df['gp'] = states_u_df['g'].values.astype('int')\n",
    "        trans_s_df['v'] = cal_v(trans_s_df['Ep'].values, trans_s_df['Epp'].values)\n",
    "        if cutoff == 'None':\n",
    "            trans_s_df = trans_s_df[trans_s_df['v'].between(min_wn, max_wn)]\n",
    "        else:\n",
    "            trans_s_df = trans_s_df[trans_s_df['v'].between(min_wn - cutoff, max_wn + cutoff)]\n",
    "        trans_s_df.sort_values(by=['v'], inplace=True)\n",
    "        \n",
    "        Epp = trans_s_df['Epp'].values\n",
    "        gp = trans_s_df['gp'].values\n",
    "        A = trans_s_df['A'].values\n",
    "        v = trans_s_df['v'].values\n",
    "        \n",
    "        id_sl = trans_s_df['l'].values\n",
    "        states_l_df = states_part_df.loc[id_sl]\n",
    "   \n",
    "    return (A, v, Ep, Epp, gp, Jp, Jpp, stick_qn_df)"
   ]
  },
  {
   "cell_type": "code",
   "execution_count": 26,
   "metadata": {},
   "outputs": [],
   "source": [
    "# Stick spectra\n",
    "def exomol_stick_spectra(read_path, states_df, trans_part_df, T):\n",
    "    \n",
    "    print('Calculate stick spectra.')  \n",
    "    t = Timer()\n",
    "    t.start()\n",
    "\n",
    "    states_part_df = read_part_states(states_df)\n",
    "    A, v, Ep, Epp, gp, Jp, Jpp, stick_qn_df = linelist(cutoff,states_part_df,trans_part_df)\n",
    "    Q = read_exomol_pf(read_path, T)\n",
    "    I = cal_abscoefs(v, gp, A, Epp, Q, abundance)\n",
    "    stick_st_dic = {'v':v, 'I':I, \"J'\":Jp, \"E'\":Ep, 'J\"':Jpp, 'E\"':Epp}\n",
    "    stick_st_df = pd.DataFrame(stick_st_dic)\n",
    "    stick_spectra_df = pd.concat([stick_st_df, stick_qn_df], axis='columns')\n",
    "    \n",
    "    if isinstance(stick_spectra_df['J\"'][0],int) == 'True':\n",
    "        J_format = '%7s'\n",
    "    else:\n",
    "        J_format = '%7.1f'\n",
    "    QNs_format = str(QNsformat_list).replace(\"', '\",\" \").replace(\"['\",\"\").replace(\"']\",\"\").replace('d','s').replace('.1f','s')\n",
    "    \n",
    "    ss_folder = save_path + '/stick_spectra/stick/'\n",
    "    if os.path.exists(ss_folder):\n",
    "        pass\n",
    "    else:\n",
    "        os.makedirs(ss_folder, exist_ok=True)\n",
    "    ss_path = (ss_folder + isotopologue + '__' + dataset + '.stick')[0]\n",
    "    ss_colname = stick_spectra_df.columns\n",
    "    fmt = '%12.8E  %12.8E '+J_format+' %12.4f '+J_format+' %12.4f '+QNs_format+' '+QNs_format\n",
    "    np.savetxt(ss_path, stick_spectra_df, fmt=fmt, header='')\n",
    "    \n",
    "    # Plot cross sections and save it as .png.\n",
    "    from matplotlib.ticker import MultipleLocator, FormatStrFormatter\n",
    "    parameters = {'axes.labelsize': 14, \n",
    "                  'legend.fontsize': 14,\n",
    "                  'xtick.labelsize': 12,\n",
    "                  'ytick.labelsize': 12}\n",
    "    plt.rcParams.update(parameters)\n",
    "    ss_plot_folder = save_path + '/stick_spectra/plots/'\n",
    "    if os.path.exists(ss_plot_folder):\n",
    "        pass\n",
    "    else:\n",
    "        os.makedirs(ss_plot_folder, exist_ok=True)\n",
    "    plt.figure(figsize=(8, 6))\n",
    "    plt.ylim([1e-30, 10*max(I)])\n",
    "    plt.plot(v, I, label='T = '+str(T)+' K', linewidth=0.4)\n",
    "    plt.semilogy()\n",
    "    #plt.title(database+' '+molecule+' intensity') \n",
    "    plt.xlabel('Wavenumber, cm$^{-1}$')\n",
    "    plt.ylabel('Intensity, cm/molecule')\n",
    "    plt.legend()\n",
    "    leg = plt.legend()                  # Get the legend object.\n",
    "    for line in leg.get_lines():\n",
    "        line.set_linewidth(1.0)         # Change the line width for the legend.\n",
    "    plt.savefig(ss_plot_folder+molecule+'__T'+str(T)+'__'+str(min_wn)\n",
    "                +'-'+str(max_wn)+'__'+database+'.png', dpi=500)\n",
    "    plt.show()\n",
    "    print('Cross sections plot saved.')\n",
    "    \n",
    "    t.end()\n",
    "    print('Stick spectra has been saved!\\n')  "
   ]
  },
  {
   "cell_type": "code",
   "execution_count": 27,
   "metadata": {},
   "outputs": [],
   "source": [
    "#T = 300\n",
    "#states_df = read_all_states(read_path)\n",
    "#trans_part_df = read_part_trans(read_path)\n",
    "\n",
    "#exomol_stick_spectra(read_path, states_df, trans_part_df, T)"
   ]
  },
  {
   "attachments": {},
   "cell_type": "markdown",
   "metadata": {},
   "source": [
    "# Cross Section"
   ]
  },
  {
   "cell_type": "code",
   "execution_count": 28,
   "metadata": {},
   "outputs": [],
   "source": [
    "def extract_broad(broad_df, states_l_df):\n",
    "    J_df = pd.DataFrame()\n",
    "    max_broad_J = max(broad_df['Jpp'])\n",
    "    J_df['Jpp'] = states_l_df['J'].values.astype('float')\n",
    "    J_df['Jpp'][J_df.Jpp > max_broad_J] = max_broad_J\n",
    "    if J_df['Jpp'][0] % 1 == 0:\n",
    "        id_broad = J_df['Jpp']\n",
    "    else:\n",
    "        id_broad = J_df['Jpp'] - 0.5\n",
    "    gamma_L = broad_df['gamma_L'][id_broad].values\n",
    "    n_air = broad_df['n_air'][id_broad].values\n",
    "    \n",
    "    return(gamma_L, n_air)"
   ]
  },
  {
   "cell_type": "code",
   "execution_count": 29,
   "metadata": {},
   "outputs": [],
   "source": [
    "def linelist_exomol_abs(broad,ratio,cutoff,states_part_df,trans_part_df,default_broad_df,\n",
    "                        air_broad_df,self_broad_df,H2_broad_df,He_broad_df, CO2_broad_df):\n",
    "    \n",
    "    if pd.isna(trans_part_df['v'])[0] == False:\n",
    "        if cutoff == 'None':\n",
    "            trans_part_df = trans_part_df[trans_part_df['v'].between(min_wn, max_wn)] \n",
    "        else:\n",
    "            trans_part_df = trans_part_df[trans_part_df['v'].between(min_wn - cutoff, max_wn + cutoff)] \n",
    "\n",
    "        id_u = trans_part_df['u'].values\n",
    "        id_s = states_part_df['id'].values\n",
    "\n",
    "        trans_part_df.set_index(['u'], inplace=True, drop=False)\n",
    "        id_us = list(set(id_u).intersection(set(id_s)))\n",
    "        trans_us_df = trans_part_df.loc[id_us]\n",
    "\n",
    "        id_l = trans_us_df['l'].values\n",
    "        id_ls = list(set(id_l).intersection(set(id_s)))\n",
    "        trans_us_df.set_index(['l'], inplace=True, drop=False)\n",
    "        trans_s_df = trans_us_df.loc[id_ls]\n",
    "        trans_s_df.sort_values(by=['v'], inplace=True)\n",
    "\n",
    "        id_su = trans_s_df['u'].values\n",
    "        id_sl = trans_s_df['l'].values\n",
    "        states_u_df = states_part_df.loc[id_su]\n",
    "        states_l_df = states_part_df.loc[id_sl]\n",
    "\n",
    "        Epp = states_l_df['E'].values.astype('float')\n",
    "        gp = states_u_df['g'].values.astype('int')\n",
    "        A = trans_s_df['A'].values.astype('float')\n",
    "        v = trans_s_df['v'].values.astype('float')\n",
    "    else:\n",
    "        id_u = trans_part_df['u'].values\n",
    "        id_s = states_part_df['id'].values\n",
    "\n",
    "        trans_part_df.set_index(['u'], inplace=True, drop=False)\n",
    "        id_us = list(set(id_u).intersection(set(id_s)))\n",
    "        trans_us_df = trans_part_df.loc[id_us]\n",
    "\n",
    "        id_l = trans_us_df['l'].values\n",
    "        id_ls = list(set(id_l).intersection(set(id_s)))\n",
    "        trans_us_df.set_index(['l'], inplace=True, drop=False)\n",
    "        trans_s_df = trans_us_df.loc[id_ls]\n",
    "\n",
    "        id_su = trans_s_df['u'].values\n",
    "        id_sl = trans_s_df['l'].values\n",
    "        states_u_df = states_part_df.loc[id_su]\n",
    "        states_l_df = states_part_df.loc[id_sl]\n",
    "\n",
    "        trans_s_df['Ep'] = states_u_df['E'].values.astype('float')\n",
    "        trans_s_df['Epp'] = states_l_df['E'].values.astype('float')\n",
    "        trans_s_df['gp'] = states_u_df['g'].values.astype('int')\n",
    "        trans_s_df['v'] = cal_v(trans_s_df['Ep'].values, trans_s_df['Epp'].values)\n",
    "        if cutoff == 'None':\n",
    "            trans_s_df = trans_s_df[trans_s_df['v'].between(min_wn, max_wn)]\n",
    "        else:\n",
    "            trans_s_df = trans_s_df[trans_s_df['v'].between(min_wn - cutoff, max_wn + cutoff)]\n",
    "        trans_s_df.sort_values(by=['v'], inplace=True)\n",
    "        \n",
    "        Epp = trans_s_df['Epp'].values\n",
    "        gp = trans_s_df['gp'].values\n",
    "        A = trans_s_df['A'].values\n",
    "        v = trans_s_df['v'].values\n",
    "        \n",
    "        id_sl = trans_s_df['l'].values\n",
    "        states_l_df = states_part_df.loc[id_sl]\n",
    "     \n",
    "    gamma_L = pd.DataFrame()\n",
    "    n_air = pd.DataFrame()\n",
    "    rows = len(id_sl)\n",
    "    for i in range(len(broad)):\n",
    "        if broad[i] == 'Default':\n",
    "            gamma_L[i] = np.full((1,rows),default_broad_df['gamma_L'][0])[0] * ratio[i]\n",
    "            n_air[i] = np.full((1,rows),default_broad_df['n_air'][0])[0] * ratio[i]\n",
    "        if broad[i] == 'Air':\n",
    "            gamma_L[i] = extract_broad(air_broad_df,states_l_df)[0] * ratio[i]\n",
    "            n_air[i] = extract_broad(air_broad_df,states_l_df)[1] * ratio[i]\n",
    "        if broad[i] == 'Self':\n",
    "            gamma_L[i] = extract_broad(self_broad_df,states_l_df)[0] * ratio[i]\n",
    "            n_air[i] = extract_broad(self_broad_df,states_l_df)[1] * ratio[i]\n",
    "        if broad[i] == 'H2':\n",
    "            gamma_L[i] = extract_broad(H2_broad_df,states_l_df)[0] * ratio[i]\n",
    "            n_air[i] = extract_broad(H2_broad_df,states_l_df)[1] * ratio[i]\n",
    "        if broad[i] == 'He':\n",
    "            gamma_L[i] = extract_broad(He_broad_df,states_l_df)[0]  * ratio[i] \n",
    "            n_air[i] = extract_broad(He_broad_df,states_l_df)[1]  * ratio[i] \n",
    "        if broad[i] == 'CO2':\n",
    "            gamma_L[i] = extract_broad(CO2_broad_df,states_l_df)[0]  * ratio[i] \n",
    "            n_air[i] = extract_broad(CO2_broad_df,states_l_df)[1]  * ratio[i]\n",
    "    \n",
    "    return (A, v, Epp, gp, gamma_L, n_air)"
   ]
  },
  {
   "cell_type": "code",
   "execution_count": 30,
   "metadata": {},
   "outputs": [],
   "source": [
    "def linelist_exomol_emi(broad,ratio,cutoff,states_part_df,trans_part_df,default_broad_df,\n",
    "                        air_broad_df,self_broad_df,H2_broad_df,He_broad_df,CO2_broad_df):\n",
    "    \n",
    "    if pd.isna(trans_part_df['v'])[0] == False:\n",
    "        if cutoff == 'None':\n",
    "            trans_part_df = trans_part_df[trans_part_df['v'].between(min_wn, max_wn)] \n",
    "        else:\n",
    "            trans_part_df = trans_part_df[trans_part_df['v'].between(min_wn - cutoff, max_wn + cutoff)] \n",
    "\n",
    "        id_u = trans_part_df['u'].values\n",
    "        id_s = states_part_df['id'].values\n",
    "\n",
    "        trans_part_df.set_index(['u'], inplace=True, drop=False)\n",
    "        id_us = list(set(id_u).intersection(set(id_s)))\n",
    "        trans_us_df = trans_part_df.loc[id_us]\n",
    "\n",
    "        id_l = trans_us_df['l'].values\n",
    "        id_ls = list(set(id_l).intersection(set(id_s)))\n",
    "        trans_us_df.set_index(['l'], inplace=True, drop=False)\n",
    "        trans_s_df = trans_us_df.loc[id_ls]\n",
    "        trans_s_df.sort_values(by=['v'], inplace=True)\n",
    "\n",
    "        id_su = trans_s_df['u'].values\n",
    "        id_sl = trans_s_df['l'].values\n",
    "        states_u_df = states_part_df.loc[id_su]\n",
    "        states_l_df = states_part_df.loc[id_sl]\n",
    "\n",
    "        Ep = states_u_df['E'].values.astype('float')\n",
    "        gp = states_u_df['g'].values.astype('int')\n",
    "        A = trans_s_df['A'].values.astype('float')\n",
    "        v = trans_s_df['v'].values.astype('float')\n",
    "    else:\n",
    "        id_u = trans_part_df['u'].values\n",
    "        id_s = states_part_df['id'].values\n",
    "\n",
    "        trans_part_df.set_index(['u'], inplace=True, drop=False)\n",
    "        id_us = list(set(id_u).intersection(set(id_s)))\n",
    "        trans_us_df = trans_part_df.loc[id_us]\n",
    "\n",
    "        id_l = trans_us_df['l'].values\n",
    "        id_ls = list(set(id_l).intersection(set(id_s)))\n",
    "        trans_us_df.set_index(['l'], inplace=True, drop=False)\n",
    "        trans_s_df = trans_us_df.loc[id_ls]\n",
    "\n",
    "        id_su = trans_s_df['u'].values\n",
    "        id_sl = trans_s_df['l'].values\n",
    "        states_u_df = states_part_df.loc[id_su]\n",
    "        states_l_df = states_part_df.loc[id_sl]\n",
    "\n",
    "        trans_s_df['Ep'] = states_u_df['E'].values.astype('float')\n",
    "        trans_s_df['Epp'] = states_l_df['E'].values.astype('float')\n",
    "        trans_s_df['gp'] = states_u_df['g'].values.astype('int')\n",
    "        trans_s_df['v'] = cal_v(trans_s_df['Ep'].values, trans_s_df['Epp'].values)\n",
    "        if cutoff == 'None':\n",
    "            trans_s_df = trans_s_df[trans_s_df['v'].between(min_wn, max_wn)]\n",
    "        else:\n",
    "            trans_s_df = trans_s_df[trans_s_df['v'].between(min_wn - cutoff, max_wn + cutoff)]\n",
    "        trans_s_df.sort_values(by=['v'], inplace=True)\n",
    "        \n",
    "        Ep = trans_s_df['Ep'].values\n",
    "        gp = trans_s_df['gp'].values\n",
    "        A = trans_s_df['A'].values\n",
    "        v = trans_s_df['v'].values\n",
    "        \n",
    "        id_sl = trans_s_df['l'].values\n",
    "        states_l_df = states_part_df.loc[id_sl]\n",
    "     \n",
    "    gamma_L = pd.DataFrame()\n",
    "    n_air = pd.DataFrame()\n",
    "    rows = len(id_sl)\n",
    "    for i in range(len(broad)):\n",
    "        if broad[i] == 'Default':\n",
    "            gamma_L[i] = np.full((1,rows),default_broad_df['gamma_L'][0])[0] * ratio[i]\n",
    "            n_air[i] = np.full((1,rows),default_broad_df['n_air'][0])[0] * ratio[i]\n",
    "        if broad[i] == 'Air':\n",
    "            gamma_L[i] = extract_broad(air_broad_df,states_l_df)[0] * ratio[i]\n",
    "            n_air[i] = extract_broad(air_broad_df,states_l_df)[1] * ratio[i]\n",
    "        if broad[i] == 'Self':\n",
    "            gamma_L[i] = extract_broad(self_broad_df,states_l_df)[0] * ratio[i]\n",
    "            n_air[i] = extract_broad(self_broad_df,states_l_df)[1] * ratio[i]\n",
    "        if broad[i] == 'H2':\n",
    "            gamma_L[i] = extract_broad(H2_broad_df,states_l_df)[0] * ratio[i]\n",
    "            n_air[i] = extract_broad(H2_broad_df,states_l_df)[1] * ratio[i]\n",
    "        if broad[i] == 'He':\n",
    "            gamma_L[i] = extract_broad(He_broad_df,states_l_df)[0]  * ratio[i] \n",
    "            n_air[i] = extract_broad(He_broad_df,states_l_df)[1]  * ratio[i] \n",
    "        if broad[i] == 'CO2':\n",
    "            gamma_L[i] = extract_broad(CO2_broad_df,states_l_df)[0]  * ratio[i] \n",
    "            n_air[i] = extract_broad(CO2_broad_df,states_l_df)[1]  * ratio[i] \n",
    "    \n",
    "    return (A, v, Ep, gp, gamma_L, n_air)"
   ]
  },
  {
   "cell_type": "code",
   "execution_count": 31,
   "metadata": {},
   "outputs": [],
   "source": [
    "def linelist_hitran_abs(hitran_df):\n",
    "    '''\n",
    "    Read HITRAN .par file as the input file.\n",
    "    Return the data for calculating wavennumbers and cross sections with line profiles.\n",
    "    \n",
    "    '''\n",
    "    A = hitran_df['A'].values\n",
    "    Epp = hitran_df['Epp'].values\n",
    "    n_air = hitran_df['n_air'].values\n",
    "    gamma_air = hitran_df['gamma_air'].values\n",
    "    gamma_self = hitran_df['gamma_self'].values\n",
    "    delta_air = hitran_df['delta_air'].values\n",
    "    gp = hitran_df['gp'].values\n",
    "    v = hitran_df['v'].values\n",
    "    #if broad == 'Air':\n",
    "    #    v = hitran_df['v'].values + delta_air * (P - P_ref) / P\n",
    "    #else:\n",
    "    #    v = hitran_df['v'].values\n",
    "\n",
    "    return (A, v, Epp, gp, n_air, gamma_air, gamma_self, delta_air)"
   ]
  },
  {
   "cell_type": "markdown",
   "metadata": {},
   "source": [
    "## Line Profile"
   ]
  },
  {
   "cell_type": "code",
   "execution_count": 254,
   "metadata": {},
   "outputs": [],
   "source": [
    "def Doppler_HWHM(v,T):\n",
    "    '''Return the Doppler half-width at half-maximum (HWHM) -- alpha.'''\n",
    "    # alpha = np.sqrt(2 * N_A * kB * T * np.log(2) / mass) * v / c\n",
    "    alpha = ne.evaluate('Sqrt2NAkBln2mInvc * sqrt(T) * v')\n",
    "    return alpha"
   ]
  },
  {
   "cell_type": "code",
   "execution_count": 33,
   "metadata": {},
   "outputs": [],
   "source": [
    "def Gaussian_standard_deviation(alpha):\n",
    "    '''Return the Gaussian standard deviation -- sigma.'''\n",
    "    # sigma = alpha / np.sqrt(2 * np.log(2))\n",
    "    sigma = ne.evaluate('alpha * InvSqrt2ln2')\n",
    "    return sigma"
   ]
  },
  {
   "cell_type": "code",
   "execution_count": 255,
   "metadata": {},
   "outputs": [],
   "source": [
    "def Lorentzian_HWHM(gamma_L, n_air,T,P):\n",
    "    '''Return the Lorentzian half-width at half-maximum (HWHM) -- gamma.'''\n",
    "    gamma = ne.evaluate('gamma_L * (Tref / T)**n_air * (P / Pref)')\n",
    "    return gamma"
   ]
  },
  {
   "cell_type": "code",
   "execution_count": 35,
   "metadata": {},
   "outputs": [],
   "source": [
    "def FWHM(alpha, gamma):\n",
    "    '''Return the Gaussian full-width at half-maximum (FWHM)   -- fG.\n",
    "       Return the Lorentzian full-width at half-maximum (FWHM) -- fL.\n",
    "    '''\n",
    "    # fG = 2 * sigma * np.sqrt(2 * np.log(2)) = 2 * alpha\n",
    "    # fG = ne.evaluate('sigma * TwoSqrt2ln2')\n",
    "    fG = ne.evaluate('2 * alpha')\n",
    "    fL = ne.evaluate('2 * gamma')\n",
    "    return (fG, fL)"
   ]
  },
  {
   "cell_type": "code",
   "execution_count": 36,
   "metadata": {},
   "outputs": [],
   "source": [
    "def Doppler_profile(dv, alpha):\n",
    "    '''Return Doppler line profile at dv with HWHM alpha.'''\n",
    "    # Doppler_profile = np.sqrt(np.log(2) / np.pi) / alpha * np.exp(-np.log(2) * (dv / alpha)**2) \n",
    "    DopplerProfile = ne.evaluate('Sqrtln2InvPi / alpha * exp(Negln2 * (dv / alpha)**2)')\n",
    "    return DopplerProfile"
   ]
  },
  {
   "cell_type": "code",
   "execution_count": 37,
   "metadata": {},
   "outputs": [],
   "source": [
    "def Gaussian_profile(dv, sigma):\n",
    "    '''Return Gaussian line profile at dv with HWHM alpha.'''\n",
    "    # Gaussian_profile = np.exp(- (dv / sigma)**2 / 2)  / (np.sqrt(2 * np.pi) * sigma) \n",
    "    GaussianProfile = ne.evaluate('InvSqrt2Pi * exp(-(dv / sigma)**2 * 0.5) / sigma')\n",
    "    return GaussianProfile"
   ]
  },
  {
   "cell_type": "code",
   "execution_count": 38,
   "metadata": {},
   "outputs": [],
   "source": [
    "def Lorentzian_profile(dv, gamma):\n",
    "    '''Return Lorentzian line profile at dv with HWHM gamma.'''\n",
    "    LorentzianProfile = ne.evaluate('gamma / PI / (dv**2 + gamma**2)')\n",
    "    return LorentzianProfile\n"
   ]
  },
  {
   "cell_type": "code",
   "execution_count": 39,
   "metadata": {},
   "outputs": [],
   "source": [
    "from scipy.special import voigt_profile\n",
    "def SciPyVoigt_profile(dv, sigma, gamma):\n",
    "    '''Return the Voigt line profile with Lorentzian component HWHM gamma and Gaussian component HWHM alpha.'''\n",
    "    SciPyVoigtProfile = voigt_profile(dv, sigma, gamma)\n",
    "    return SciPyVoigtProfile"
   ]
  },
  {
   "cell_type": "code",
   "execution_count": 40,
   "metadata": {},
   "outputs": [],
   "source": [
    "from scipy.special import wofz\n",
    "def SciPyWofzVoigt_profile(dv, sigma, gamma):\n",
    "    '''Return the Voigt line profile with Lorentzian component HWHM gamma and Gaussian component HWHM alpha.'''\n",
    "    # scipy_wofz_Voigt_profile = np.real(wofz((dv + 1j*gamma)/sigma/np.sqrt(2))) / sigma / np.sqrt(2*np.pi)\n",
    "    z = ne.evaluate('(dv + 1j*gamma)/sigma*InvSqrt2')\n",
    "    wz = wofz(z)\n",
    "    SciPyWofzVoigtProfile = ne.evaluate('real(wz) / sigma * InvSqrt2Pi')\n",
    "    return SciPyWofzVoigtProfile"
   ]
  },
  {
   "cell_type": "code",
   "execution_count": 41,
   "metadata": {},
   "outputs": [],
   "source": [
    "def PseudoVoigt_profile(dv, alpha, gamma, eta):\n",
    "    '''\n",
    "    fv is the total FWHM parameter and the Voigt full-width at half-maximum (FWHM), \n",
    "    which can be found from the widths of the associated Gaussian and Lorentzian widths.\n",
    "    eta is a function of Lorentz (fL), Gaussian (fG) and total (fV) full width at half maximum (FWHM) parameters.\n",
    "    '''\n",
    "    GaussianProfile = Doppler_profile(dv, alpha)\n",
    "    LorentzianProfile = Lorentzian_profile(dv, gamma)\n",
    "    PseudoVoigtProfile = ne.evaluate('eta * LorentzianProfile + (1 - eta) * GaussianProfile')\n",
    "    return PseudoVoigtProfile"
   ]
  },
  {
   "cell_type": "code",
   "execution_count": 42,
   "metadata": {},
   "outputs": [],
   "source": [
    "def PseudoVoigt(fG, fL):\n",
    "    '''\n",
    "    fv is the total FWHM parameter and the Voigt full-width at half-maximum (FWHM), \n",
    "    which can be found from the widths of the associated Gaussian and Lorentzian widths.\n",
    "    eta is a function of Lorentz (fL), Gaussian (fG) and total (fV) full width at half maximum (FWHM) parameters.\n",
    "    '''  \n",
    "    fV = ne.evaluate('(fG**5+2.69269*fG**4*fL+2.42843*fG**3*fL**2+4.47163*fG**2*fL**3+0.07842*fG*fL**4+fL**5)**0.2')\n",
    "    eta = ne.evaluate('1.36603*(fL/fV) - 0.47719*(fL/fV)**2 + 0.11116*(fL/fV)**3')\n",
    "    return eta"
   ]
  },
  {
   "cell_type": "code",
   "execution_count": 43,
   "metadata": {},
   "outputs": [],
   "source": [
    "def PseudoKielkopfVoigt(fG, fL):\n",
    "    '''\n",
    "    fv is the total FWHM parameter and the Voigt full-width at half-maximum (FWHM), \n",
    "    which can be found from the widths of the associated Gaussian and Lorentzian widths.\n",
    "    eta is a function of Lorentz (fL), Gaussian (fG) and total (fV) full width at half maximum (FWHM) parameters.\n",
    "    '''\n",
    "    fV = ne.evaluate('0.5346 * fL + sqrt(0.2166 * fL**2 + fG**2)')\n",
    "    eta = ne.evaluate('1.36603*(fL/fV) - 0.47719*(fL/fV)**2 + 0.11116*(fL/fV)**3')\n",
    "    return eta"
   ]
  },
  {
   "cell_type": "code",
   "execution_count": 44,
   "metadata": {},
   "outputs": [],
   "source": [
    "def PseudoOliveroVoigt(fG, fL):\n",
    "    '''\n",
    "    fv is the total FWHM parameter and the Voigt full-width at half-maximum (FWHM), \n",
    "    which can be found from the widths of the associated Gaussian and Lorentzian widths.\n",
    "    eta is a function of Lorentz (fL), Gaussian (fG) and total (fV) full width at half maximum (FWHM) parameters.\n",
    "    '''\n",
    "    d = ne.evaluate('(fL-fG)/(fL+fG)')\n",
    "    fV = ne.evaluate('(1-0.18121*(1-d**2)-(0.023665*exp(0.6*d)+0.00418*exp(-1.9*d))*sinPI*d)*(fG+fL)')\n",
    "    eta = ne.evaluate('1.36603*(fL/fV) - 0.47719*(fL/fV)**2 + 0.11116*(fL/fV)**3')\n",
    "    return eta"
   ]
  },
  {
   "cell_type": "code",
   "execution_count": 45,
   "metadata": {},
   "outputs": [],
   "source": [
    "def PseudoLiuLinVoigt(fG, fL):\n",
    "    '''\n",
    "    fv is the total FWHM parameter and the Voigt full-width at half-maximum (FWHM), \n",
    "    which can be found from the widths of the associated Gaussian and Lorentzian widths.\n",
    "    eta is a function of Lorentz (fL), Gaussian (fG) and total (fV) full width at half maximum (FWHM) parameters.\n",
    "    '''\n",
    "    d = ne.evaluate('(fL-fG)/(fL+fG)')\n",
    "    #fV = ne.evaluate('(1-0.18121*(1-d**2)-(0.023665*exp(0.6*d)+0.00418*exp(-1.9*d))*sinPI*d)*(fG+fL)')\n",
    "    eta = ne.evaluate('0.68188+0.61293*d-0.18384*d**2-0.11568*d**3')\n",
    "    return eta"
   ]
  },
  {
   "cell_type": "code",
   "execution_count": 248,
   "metadata": {},
   "outputs": [],
   "source": [
    "def PseudoRoccoVoigt(alpha, gamma):\n",
    "    '''\n",
    "    hv is the half width parameter and the Voigt half-width at half-maximum (HWHM), \n",
    "    which can be found from the widths of the associated Gaussian and Lorentzian widths.\n",
    "    eta is a function of Lorentz (fL), Gaussian (fG) and (hV) half width at half maximum (HWHM) parameters.\n",
    "    '''  \n",
    "    y = gamma*Sqrtln2/alpha\n",
    "    erfy = erf(y)\n",
    "    hV = ne.evaluate('gamma+alpha*exp(-0.6055*y+0.0718*y**2-0.0049*y**3+0.000136*y**4)')\n",
    "    V0 = ne.evaluate('Sqrtln2InvPi*exp(y**2)*(1-erfy)/alpha')\n",
    "    eta = ne.evaluate('(SqrtPI*V0*hV-Sqrtln2)/(SqrtPI*V0*hV*OneminSqrtPIln2)')\n",
    "    return eta"
   ]
  },
  {
   "cell_type": "code",
   "execution_count": 47,
   "metadata": {},
   "outputs": [],
   "source": [
    "def BinnedGaussian_profile(dv, alpha):\n",
    "    '''Return binned Gaussian line profile at dv with HWHM alpha.'''\n",
    "    erfxpos = erf(ne.evaluate('Sqrtln2*(dv+binSizeHalf)/alpha'))\n",
    "    erfxneg = erf(ne.evaluate('Sqrtln2*(dv-binSizeHalf)/alpha'))\n",
    "    BinnedGaussianProfile = ne.evaluate('(erfxpos-erfxneg)/binSize2')\n",
    "    return BinnedGaussianProfile"
   ]
  },
  {
   "cell_type": "code",
   "execution_count": 48,
   "metadata": {},
   "outputs": [],
   "source": [
    "def BinnedLorentzian_profile(dv, gamma):\n",
    "    '''Return binned Lorentzian line profile at dv with HWHM gamma.'''\n",
    "    BinnedLorentzianProfile = ne.evaluate('(arctan((binSizeHalf-dv)/gamma)-arctan((-binSizeHalf-dv)/gamma))/binSizePI')\n",
    "    return BinnedLorentzianProfile"
   ]
  },
  {
   "cell_type": "code",
   "execution_count": 49,
   "metadata": {},
   "outputs": [],
   "source": [
    "def BinnedVoigt_profile(dv, gamma):\n",
    "    '''Return binned Voigt line profile at dv with HWHM gamma.'''\n",
    "    BinnedVoigtProfile = ne.evaluate('(arctan((binSizeHalf-dv)/gamma)-arctan((-binSizeHalf-dv)/gamma))/binSizePI32')\n",
    "    return BinnedVoigtProfile"
   ]
  },
  {
   "cell_type": "markdown",
   "metadata": {},
   "source": [
    "## Calculate Cross Sections"
   ]
  },
  {
   "cell_type": "code",
   "execution_count": 50,
   "metadata": {},
   "outputs": [],
   "source": [
    "def cross_section_Doppler(wn_grid, v, alpha, coef, cutoff, threshold):\n",
    "    '''\n",
    "    Read ExoMol .states, .trans, .pf and .broad files as the input files.\n",
    "    Return the wavennumbers and cross sections with Doppler profile.\n",
    "    \n",
    "    '''  \n",
    "    xsec = np.zeros_like(wn_grid)\n",
    "    if (cutoff == 'None') & (threshold == 'None'):   \n",
    "        start = max(0,wn_grid.searchsorted(v.min())-1)\n",
    "        end = min(wn_grid.searchsorted(v.max()),len(wn_grid))\n",
    "        _xsec = np.zeros(shape=(end-start))\n",
    "        for i in range(start,end):\n",
    "            idx = i-start\n",
    "            dv = wn_grid[i] - v\n",
    "            Doppler = Doppler_profile(dv, alpha)\n",
    "            _xsec[idx] = ne.evaluate('sum(coef * Doppler)')\n",
    "    elif (cutoff == 'None') & (threshold != 'None'):\n",
    "        start = max(0,wn_grid.searchsorted(v.min())-1)\n",
    "        end = min(wn_grid.searchsorted(v.max()),len(wn_grid))\n",
    "        _xsec = np.zeros(shape=(end-start))\n",
    "        for i in range(start,end):\n",
    "            idx = i-start\n",
    "            dv = wn_grid[i] - v\n",
    "            filter = coef >= threshold\n",
    "            _dv = dv[filter]\n",
    "            _alpha = alpha[filter]\n",
    "            _coef = coef[filter]\n",
    "            Doppler = Doppler_profile(_dv, _alpha)\n",
    "            _xsec[idx] = ne.evaluate('sum(_coef * Doppler)')\n",
    "    elif (cutoff != 'None') & (threshold == 'None'):\n",
    "        start = max(0,wn_grid.searchsorted(v.min()-cutoff)-1)\n",
    "        end = min(wn_grid.searchsorted(v.max()+cutoff),len(wn_grid))\n",
    "        _xsec = np.zeros(shape=(end-start))\n",
    "        for i in range(start,end):\n",
    "            idx = i-start\n",
    "            dv = wn_grid[i] - v\n",
    "            filter = np.abs(dv) <= cutoff\n",
    "            _dv = dv[filter]\n",
    "            _alpha = alpha[filter]\n",
    "            _coef = coef[filter]\n",
    "            Doppler = Doppler_profile(_dv, _alpha)\n",
    "            _xsec[idx] = ne.evaluate('sum(_coef * Doppler)')\n",
    "    else: \n",
    "        start = max(0,wn_grid.searchsorted(v.min()-cutoff)-1)\n",
    "        end = min(wn_grid.searchsorted(v.max()+cutoff),len(wn_grid))\n",
    "        _xsec = np.zeros(shape=(end-start))\n",
    "        for i in range(start,end):\n",
    "            idx = i-start\n",
    "            dv = wn_grid[i] - v\n",
    "            filter_cutoff = np.abs(dv) <= cutoff\n",
    "            filter_threshold = coef >= threshold\n",
    "            filter = filter_cutoff & filter_threshold\n",
    "            _dv = dv[filter]\n",
    "            _alpha = alpha[filter]\n",
    "            _coef = coef[filter]\n",
    "            Doppler = Doppler_profile(_dv, _alpha)\n",
    "            _xsec[idx] = ne.evaluate('sum(_coef * Doppler)')      \n",
    "            \n",
    "    xsec[start:end] += _xsec\n",
    "    return (xsec)"
   ]
  },
  {
   "cell_type": "code",
   "execution_count": 51,
   "metadata": {},
   "outputs": [],
   "source": [
    "def cross_section_Gaussian(wn_grid, v, sigma, coef, cutoff, threshold):\n",
    "    '''\n",
    "    Read ExoMol .states, .trans, .pf and .broad files as the input files.\n",
    "    Return the wavennumbers and cross sections with Gaussian profile.\n",
    "    \n",
    "    '''  \n",
    "    xsec = np.zeros_like(wn_grid)\n",
    "    if (cutoff == 'None') & (threshold == 'None'):   \n",
    "        start = max(0,wn_grid.searchsorted(v.min())-1)\n",
    "        end = min(wn_grid.searchsorted(v.max()),len(wn_grid))\n",
    "        _xsec = np.zeros(shape=(end-start))\n",
    "        for i in range(start,end):\n",
    "            idx = i-start\n",
    "            dv = wn_grid[i] - v\n",
    "            Gaussian = Gaussian_profile(dv, sigma)\n",
    "            _xsec[idx] = ne.evaluate('sum(coef * Gaussian)')\n",
    "    elif (cutoff == 'None') & (threshold != 'None'):\n",
    "        start = max(0,wn_grid.searchsorted(v.min())-1)\n",
    "        end = min(wn_grid.searchsorted(v.max()),len(wn_grid))\n",
    "        _xsec = np.zeros(shape=(end-start))\n",
    "        for i in range(start,end):\n",
    "            idx = i-start\n",
    "            dv = wn_grid[i] - v\n",
    "            filter = coef >= threshold\n",
    "            _dv = dv[filter]\n",
    "            _sigma = sigma[filter]\n",
    "            _coef = coef[filter]\n",
    "            Gaussian = Gaussian_profile(_dv, _sigma)\n",
    "            _xsec[idx] = ne.evaluate('sum(_coef * Gaussian)')\n",
    "    elif (cutoff != 'None') & (threshold == 'None'):\n",
    "        start = max(0,wn_grid.searchsorted(v.min()-cutoff)-1)\n",
    "        end = min(wn_grid.searchsorted(v.max()+cutoff),len(wn_grid))\n",
    "        _xsec = np.zeros(shape=(end-start))\n",
    "        for i in range(start,end):\n",
    "            idx = i-start\n",
    "            dv = wn_grid[i] - v\n",
    "            filter = np.abs(dv) <= cutoff\n",
    "            _dv = dv[filter]\n",
    "            _sigma = sigma[filter]\n",
    "            _coef = coef[filter]\n",
    "            Gaussian = Gaussian_profile(_dv, _sigma)\n",
    "            _xsec[idx] = ne.evaluate('sum(_coef * Gaussian)')\n",
    "    else: \n",
    "        start = max(0,wn_grid.searchsorted(v.min()-cutoff)-1)\n",
    "        end = min(wn_grid.searchsorted(v.max()+cutoff),len(wn_grid))\n",
    "        _xsec = np.zeros(shape=(end-start))\n",
    "        for i in range(start,end):\n",
    "            idx = i-start\n",
    "            dv = wn_grid[i] - v\n",
    "            filter_cutoff = np.abs(dv) <= cutoff\n",
    "            filter_threshold = coef >= threshold\n",
    "            filter = filter_cutoff & filter_threshold\n",
    "            _dv = dv[filter]\n",
    "            _sigma = sigma[filter]\n",
    "            _coef = coef[filter]\n",
    "            Gaussian = Gaussian_profile(_dv, _sigma)\n",
    "            _xsec[idx] = ne.evaluate('sum(_coef * Gaussian)')      \n",
    "            \n",
    "    xsec[start:end] += _xsec\n",
    "    return (xsec)"
   ]
  },
  {
   "cell_type": "code",
   "execution_count": 52,
   "metadata": {},
   "outputs": [],
   "source": [
    "def cross_section_Lorentzian(wn_grid, v, gamma, coef, cutoff, threshold):\n",
    "    '''\n",
    "    Read ExoMol .states, .trans, .pf and .broad files as the input files.\n",
    "    Return the wavennumbers and cross sections with Lorentzian profile.\n",
    "    \n",
    "    '''\n",
    "    xsec = np.zeros_like(wn_grid)\n",
    "    if (cutoff == 'None') & (threshold == 'None'):\n",
    "        start = max(0,wn_grid.searchsorted(v.min())-1)\n",
    "        end = min(wn_grid.searchsorted(v.max()),len(wn_grid))\n",
    "        _xsec = np.zeros(shape=(end-start))\n",
    "        for i in range(start,end):\n",
    "            idx = i-start\n",
    "            dv = wn_grid[i] - v\n",
    "            Lorentzian = Lorentzian_profile(dv, gamma)\n",
    "            _xsec[idx] = ne.evaluate('sum(coef * Lorentzian)')       \n",
    "    elif (cutoff == 'None') & (threshold != 'None'):\n",
    "        start = max(0,wn_grid.searchsorted(v.min())-1)\n",
    "        end = min(wn_grid.searchsorted(v.max()),len(wn_grid))\n",
    "        _xsec = np.zeros(shape=(end-start))\n",
    "        for i in range(start,end):\n",
    "            idx = i-start\n",
    "            dv = wn_grid[i] - v\n",
    "            filter = coef >= threshold\n",
    "            _dv = dv[filter]\n",
    "            _gamma = gamma[filter]\n",
    "            _coef = coef[filter]\n",
    "            Lorentzian = Lorentzian_profile(_dv, _gamma)\n",
    "            _xsec[idx] = ne.evaluate('sum(_coef * Lorentzian)')       \n",
    "    elif (cutoff != 'None') & (threshold == 'None'):\n",
    "        start = max(0,wn_grid.searchsorted(v.min()-cutoff)-1)\n",
    "        end = min(wn_grid.searchsorted(v.max()+cutoff),len(wn_grid))\n",
    "        _xsec = np.zeros(shape=(end-start))\n",
    "        for i in range(start,end):\n",
    "            idx = i-start\n",
    "            dv = wn_grid[i] - v\n",
    "            filter = np.abs(dv) <= cutoff\n",
    "            _dv = dv[filter]\n",
    "            _gamma = gamma[filter]\n",
    "            _coef = coef[filter]\n",
    "            Lorentzian = Lorentzian_profile(_dv, _gamma)\n",
    "            _xsec[idx] = ne.evaluate('sum(_coef * Lorentzian)')        \n",
    "    else: \n",
    "        start = max(0,wn_grid.searchsorted(v.min()-cutoff)-1)\n",
    "        end = min(wn_grid.searchsorted(v.max()+cutoff),len(wn_grid))\n",
    "        _xsec = np.zeros(shape=(end-start))\n",
    "        for i in range(start,end):\n",
    "            idx = i-start\n",
    "            dv = wn_grid[i] - v\n",
    "            filter_cutoff = np.abs(dv) <= cutoff\n",
    "            filter_threshold = coef >= threshold\n",
    "            filter = filter_cutoff & filter_threshold\n",
    "            _dv = dv[filter]\n",
    "            _gamma = gamma[filter]\n",
    "            _coef = coef[filter]\n",
    "            Lorentzian = Lorentzian_profile(_dv, _gamma)\n",
    "            _xsec[idx] = ne.evaluate('sum(_coef * Lorentzian)')        \n",
    "            \n",
    "    xsec[start:end] += _xsec\n",
    "    return (xsec)"
   ]
  },
  {
   "cell_type": "code",
   "execution_count": 53,
   "metadata": {},
   "outputs": [],
   "source": [
    "def cross_section_SciPyVoigt(wn_grid, v, sigma, gamma, coef, cutoff, threshold):\n",
    "    '''\n",
    "    Read ExoMol .states, .trans, .pf and .broad files as the input files.\n",
    "    Return the wavennumbers and cross sections with SciPy Voigt profile.\n",
    "    \n",
    "    '''\n",
    "    xsec = np.zeros_like(wn_grid)\n",
    "    if (cutoff == 'None') & (threshold == 'None'):\n",
    "        start = max(0,wn_grid.searchsorted(v.min())-1)\n",
    "        end = min(wn_grid.searchsorted(v.max()),len(wn_grid))\n",
    "        _xsec = np.zeros(shape=(end-start))\n",
    "        for i in range(start,end):\n",
    "            idx = i-start\n",
    "            dv = wn_grid[i] - v\n",
    "            SciPyVoigt = SciPyVoigt_profile(dv, sigma, gamma)\n",
    "            _xsec[idx] = ne.evaluate('sum(coef * SciPyVoigt)') \n",
    "    elif (cutoff == 'None') & (threshold != 'None'):\n",
    "        start = max(0,wn_grid.searchsorted(v.min())-1)\n",
    "        end = min(wn_grid.searchsorted(v.max()),len(wn_grid))\n",
    "        _xsec = np.zeros(shape=(end-start))\n",
    "        for i in range(start,end):\n",
    "            idx = i-start\n",
    "            dv = wn_grid[i] - v\n",
    "            filter = coef >= threshold\n",
    "            _dv = dv[filter]\n",
    "            _sigma = sigma[filter]\n",
    "            _gamma = gamma[filter]\n",
    "            _coef = coef[filter]\n",
    "            SciPyVoigt = SciPyVoigt_profile(_dv, _sigma, _gamma)\n",
    "            _xsec[idx] = ne.evaluate('sum(_coef * SciPyVoigt)') \n",
    "    elif (cutoff != 'None') & (threshold == 'None'):\n",
    "        start = max(0,wn_grid.searchsorted(v.min()-cutoff)-1)\n",
    "        end = min(wn_grid.searchsorted(v.max()+cutoff),len(wn_grid))\n",
    "        _xsec = np.zeros(shape=(end-start))\n",
    "        for i in range(start,end):\n",
    "            idx = i-start\n",
    "            dv = wn_grid[i] - v\n",
    "            filter = np.abs(dv) <= cutoff\n",
    "            _dv = dv[filter]\n",
    "            _sigma = sigma[filter]\n",
    "            _gamma = gamma[filter]\n",
    "            _coef = coef[filter]\n",
    "            SciPyVoigt = SciPyVoigt_profile(_dv, _sigma, _gamma)\n",
    "            _xsec[idx] = ne.evaluate('sum(_coef * SciPyVoigt)') \n",
    "    else: \n",
    "        start = max(0,wn_grid.searchsorted(v.min()-cutoff)-1)\n",
    "        end = min(wn_grid.searchsorted(v.max()+cutoff),len(wn_grid))\n",
    "        _xsec = np.zeros(shape=(end-start))\n",
    "        for i in range(start,end):\n",
    "            idx = i-start\n",
    "            dv = wn_grid[i] - v\n",
    "            filter_cutoff = np.abs(dv) <= cutoff\n",
    "            filter_threshold = coef >= threshold\n",
    "            filter = filter_cutoff & filter_threshold\n",
    "            _dv = dv[filter]\n",
    "            _sigma = sigma[filter]\n",
    "            _gamma = gamma[filter]\n",
    "            _coef = coef[filter]\n",
    "            SciPyVoigt = SciPyVoigt_profile(_dv, _sigma, _gamma)\n",
    "            _xsec[idx] = ne.evaluate('sum(_coef * SciPyVoigt)') \n",
    "            \n",
    "    xsec[start:end] += _xsec\n",
    "    return (xsec)"
   ]
  },
  {
   "cell_type": "code",
   "execution_count": 54,
   "metadata": {},
   "outputs": [],
   "source": [
    "def cross_section_SciPyWofzVoigt(wn_grid, v, sigma, gamma, coef, cutoff, threshold):\n",
    "    '''\n",
    "    Read ExoMol .states, .trans, .pf and .broad files as the input files.\n",
    "    Return the wavennumbers and cross sections with SciPy Wofz Voigt profile.\n",
    "\n",
    "    '''\n",
    "    xsec = np.zeros_like(wn_grid)\n",
    "    if (cutoff == 'None') & (threshold == 'None'):\n",
    "        start = max(0,wn_grid.searchsorted(v.min())-1)\n",
    "        end = min(wn_grid.searchsorted(v.max()),len(wn_grid))\n",
    "        _xsec = np.zeros(shape=(end-start))\n",
    "        for i in range(start,end):\n",
    "            idx = i-start\n",
    "            dv = wn_grid[i] - v\n",
    "            SciPyWofzVoigt = SciPyWofzVoigt_profile(dv, sigma, gamma)\n",
    "            _xsec[idx] = ne.evaluate('sum(coef * SciPyWofzVoigt)')\n",
    "    elif (cutoff == 'None') & (threshold != 'None'):\n",
    "        start = max(0,wn_grid.searchsorted(v.min())-1)\n",
    "        end = min(wn_grid.searchsorted(v.max()),len(wn_grid))\n",
    "        _xsec = np.zeros(shape=(end-start))\n",
    "        for i in range(start,end):\n",
    "            idx = i-start\n",
    "            dv = wn_grid[i] - v\n",
    "            filter = coef >= threshold\n",
    "            _dv = dv[filter]\n",
    "            _sigma = sigma[filter]\n",
    "            _gamma = gamma[filter]\n",
    "            _coef = coef[filter]\n",
    "            SciPyWofzVoigt = SciPyWofzVoigt_profile(_dv, _sigma, _gamma)\n",
    "            _xsec[idx] = ne.evaluate('sum(_coef * SciPyWofzVoigt)') \n",
    "    elif (cutoff != 'None') & (threshold == 'None'):\n",
    "        start = max(0,wn_grid.searchsorted(v.min()-cutoff)-1)\n",
    "        end = min(wn_grid.searchsorted(v.max()+cutoff),len(wn_grid))\n",
    "        _xsec = np.zeros(shape=(end-start))\n",
    "        for i in range(start,end):\n",
    "            idx = i-start\n",
    "            dv = wn_grid[i] - v\n",
    "            filter = np.abs(dv) <= cutoff\n",
    "            _dv = dv[filter]\n",
    "            _sigma = sigma[filter]\n",
    "            _gamma = gamma[filter]\n",
    "            _coef = coef[filter]\n",
    "            SciPyWofzVoigt = SciPyWofzVoigt_profile(_dv, _sigma, _gamma)\n",
    "            _xsec[idx] = ne.evaluate('sum(_coef * SciPyWofzVoigt)')\n",
    "    else: \n",
    "        start = max(0,wn_grid.searchsorted(v.min()-cutoff)-1)\n",
    "        end = min(wn_grid.searchsorted(v.max()+cutoff),len(wn_grid))\n",
    "        _xsec = np.zeros(shape=(end-start))\n",
    "        for i in range(start,end):\n",
    "            idx = i-start\n",
    "            dv = wn_grid[i] - v\n",
    "            filter_cutoff = np.abs(dv) <= cutoff\n",
    "            filter_threshold = coef >= threshold\n",
    "            filter = filter_cutoff & filter_threshold\n",
    "            _dv = dv[filter]\n",
    "            _sigma = sigma[filter]\n",
    "            _gamma = gamma[filter]\n",
    "            _coef = coef[filter]\n",
    "            SciPyWofzVoigt = SciPyWofzVoigt_profile(_dv, _sigma, _gamma)\n",
    "            _xsec[idx] = ne.evaluate('sum(_coef * SciPyWofzVoigt)')\n",
    "            \n",
    "    xsec[start:end] += _xsec\n",
    "    return (xsec)    "
   ]
  },
  {
   "cell_type": "code",
   "execution_count": 55,
   "metadata": {},
   "outputs": [],
   "source": [
    "def cross_section_PseudoVoigt(wn_grid, v, alpha, gamma, eta, coef, cutoff, threshold):\n",
    "    '''\n",
    "    Read ExoMol .states, .trans, .pf and .broad files as the input files.\n",
    "    Return the wavennumbers and cross sections with Pseudo Voigt profile.\n",
    "\n",
    "    '''\n",
    "    xsec = np.zeros_like(wn_grid)\n",
    "    if (cutoff == 'None') & (threshold == 'None'):\n",
    "        start = max(0,wn_grid.searchsorted(v.min())-1)\n",
    "        end = min(wn_grid.searchsorted(v.max()),len(wn_grid))\n",
    "        _xsec = np.zeros(shape=(end-start))\n",
    "        for i in range(start,end):\n",
    "            idx = i-start\n",
    "            dv = wn_grid[i] - v\n",
    "            PseudoVoigt = PseudoVoigt_profile(dv, alpha, gamma, eta)\n",
    "            _xsec[idx] = ne.evaluate('sum(coef * PseudoVoigt)')\n",
    "    elif (cutoff == 'None') & (threshold != 'None'):\n",
    "        start = max(0,wn_grid.searchsorted(v.min())-1)\n",
    "        end = min(wn_grid.searchsorted(v.max()),len(wn_grid))\n",
    "        _xsec = np.zeros(shape=(end-start))\n",
    "        for i in range(start,end):\n",
    "            idx = i-start\n",
    "            dv = wn_grid[i] - v\n",
    "            filter = coef >= threshold\n",
    "            _dv = dv[filter]\n",
    "            _alpha = alpha[filter]\n",
    "            _gamma = gamma[filter]\n",
    "            _eta = eta[filter]\n",
    "            _coef = coef[filter]\n",
    "            PseudoVoigt = PseudoVoigt_profile(_dv, _alpha, _gamma, _eta)\n",
    "            _xsec[idx] = ne.evaluate('sum(_coef * PseudoVoigt)')\n",
    "    elif (cutoff != 'None') & (threshold == 'None'):\n",
    "        start = max(0,wn_grid.searchsorted(v.min()-cutoff)-1)\n",
    "        end = min(wn_grid.searchsorted(v.max()+cutoff),len(wn_grid))\n",
    "        _xsec = np.zeros(shape=(end-start))\n",
    "        for i in range(start,end):\n",
    "            idx = i-start\n",
    "            dv = wn_grid[i] - v\n",
    "            filter = np.abs(dv) <= cutoff\n",
    "            _dv = dv[filter]\n",
    "            _alpha = alpha[filter]\n",
    "            _gamma = gamma[filter]\n",
    "            _eta = eta[filter]\n",
    "            _coef = coef[filter]\n",
    "            PseudoVoigt = PseudoVoigt_profile(_dv, _alpha, _gamma, _eta)\n",
    "            _xsec[idx] = ne.evaluate('sum(_coef * PseudoVoigt)')\n",
    "    else: \n",
    "        start = max(0,wn_grid.searchsorted(v.min()-cutoff)-1)\n",
    "        end = min(wn_grid.searchsorted(v.max()+cutoff),len(wn_grid))\n",
    "        _xsec = np.zeros(shape=(end-start))\n",
    "        for i in range(start,end):\n",
    "            idx = i-start\n",
    "            dv = wn_grid[i] - v\n",
    "            filter_cutoff = np.abs(dv) <= cutoff\n",
    "            filter_threshold = coef >= threshold\n",
    "            filter = filter_cutoff & filter_threshold\n",
    "            _dv = dv[filter]\n",
    "            _alpha = alpha[filter]\n",
    "            _gamma = gamma[filter]\n",
    "            _eta = eta[filter]\n",
    "            _coef = coef[filter]\n",
    "            PseudoVoigt = PseudoVoigt_profile(_dv, _alpha, _gamma, _eta)\n",
    "            _xsec[idx] = ne.evaluate('sum(_coef * PseudoVoigt)')\n",
    "            \n",
    "    xsec[start:end] += _xsec\n",
    "    return (xsec)       "
   ]
  },
  {
   "cell_type": "code",
   "execution_count": 56,
   "metadata": {},
   "outputs": [],
   "source": [
    "def cross_section_BinnedGaussian(wn_grid, v, alpha, coef, cutoff, threshold):\n",
    "    '''\n",
    "    Read ExoMol .states, .trans, .pf and .broad files as the input files.\n",
    "    Return the wavennumbers and cross sections with binned Gaussian profile.\n",
    "    \n",
    "    '''  \n",
    "    xsec = np.zeros_like(wn_grid)\n",
    "    if (cutoff == 'None') & (threshold == 'None'):   \n",
    "        start = max(0,wn_grid.searchsorted(v.min())-1)\n",
    "        end = min(wn_grid.searchsorted(v.max()),len(wn_grid))\n",
    "        _xsec = np.zeros(shape=(end-start))\n",
    "        for i in range(start,end):\n",
    "            idx = i-start\n",
    "            dv = wn_grid[i] - v\n",
    "            BinnedGaussian = BinnedGaussian_profile(dv, alpha)\n",
    "            _xsec[idx] = ne.evaluate('sum(coef * BinnedGaussian)')\n",
    "    elif (cutoff == 'None') & (threshold != 'None'):\n",
    "        start = max(0,wn_grid.searchsorted(v.min())-1)\n",
    "        end = min(wn_grid.searchsorted(v.max()),len(wn_grid))\n",
    "        _xsec = np.zeros(shape=(end-start))\n",
    "        for i in range(start,end):\n",
    "            idx = i-start\n",
    "            dv = wn_grid[i] - v\n",
    "            filter = coef >= threshold\n",
    "            _dv = dv[filter]\n",
    "            _alpha = alpha[filter]\n",
    "            _coef = coef[filter]\n",
    "            BinnedGaussian = BinnedGaussian_profile(_dv, _alpha)\n",
    "            _xsec[idx] = ne.evaluate('sum(_coef * BinnedGaussian)')\n",
    "    elif (cutoff != 'None') & (threshold == 'None'):\n",
    "        start = max(0,wn_grid.searchsorted(v.min()-cutoff)-1)\n",
    "        end = min(wn_grid.searchsorted(v.max()+cutoff),len(wn_grid))\n",
    "        _xsec = np.zeros(shape=(end-start))\n",
    "        for i in range(start,end):\n",
    "            idx = i-start\n",
    "            dv = wn_grid[i] - v\n",
    "            filter = np.abs(dv) <= cutoff\n",
    "            _dv = dv[filter]\n",
    "            _alpha = alpha[filter]\n",
    "            _coef = coef[filter]\n",
    "            BinnedGaussian = BinnedGaussian_profile(_dv, _alpha)\n",
    "            _xsec[idx] = ne.evaluate('sum(_coef * BinnedGaussian)')\n",
    "    else: \n",
    "        start = max(0,wn_grid.searchsorted(v.min()-cutoff)-1)\n",
    "        end = min(wn_grid.searchsorted(v.max()+cutoff),len(wn_grid))\n",
    "        _xsec = np.zeros(shape=(end-start))\n",
    "        for i in range(start,end):\n",
    "            idx = i-start\n",
    "            dv = wn_grid[i] - v\n",
    "            filter_cutoff = np.abs(dv) <= cutoff\n",
    "            filter_threshold = coef >= threshold\n",
    "            filter = filter_cutoff & filter_threshold\n",
    "            _dv = dv[filter]\n",
    "            _alpha = alpha[filter]\n",
    "            _coef = coef[filter]\n",
    "            BinnedGaussian = BinnedGaussian_profile(_dv, _alpha)\n",
    "            _xsec[idx] = ne.evaluate('sum(_coef * BinnedGaussian)')     \n",
    "            \n",
    "    xsec[start:end] += _xsec\n",
    "    return (xsec)"
   ]
  },
  {
   "cell_type": "code",
   "execution_count": 57,
   "metadata": {},
   "outputs": [],
   "source": [
    "def cross_section_BinnedLorentzian(wn_grid, v, gamma, coef, cutoff, threshold):\n",
    "    '''\n",
    "    Read ExoMol .states, .trans, .pf and .broad files as the input files.\n",
    "    Return the wavennumbers and cross sections with binned Lorentzian profile.\n",
    "    \n",
    "    '''\n",
    "    xsec = np.zeros_like(wn_grid)\n",
    "    if (cutoff == 'None') & (threshold == 'None'):\n",
    "        start = max(0,wn_grid.searchsorted(v.min())-1)\n",
    "        end = min(wn_grid.searchsorted(v.max()),len(wn_grid))\n",
    "        _xsec = np.zeros(shape=(end-start))\n",
    "        for i in range(start,end):\n",
    "            idx = i-start\n",
    "            dv = wn_grid[i] - v\n",
    "            BinnedLorentzian = BinnedLorentzian_profile(dv, gamma)\n",
    "            _xsec[idx] = ne.evaluate('sum(coef * BinnedLorentzian)')        \n",
    "    elif (cutoff == 'None') & (threshold != 'None'):\n",
    "        start = max(0,wn_grid.searchsorted(v.min())-1)\n",
    "        end = min(wn_grid.searchsorted(v.max()),len(wn_grid))\n",
    "        _xsec = np.zeros(shape=(end-start))\n",
    "        for i in range(start,end):\n",
    "            idx = i-start\n",
    "            dv = wn_grid[i] - v\n",
    "            filter = coef >= threshold\n",
    "            _dv = dv[filter]\n",
    "            _gamma = gamma[filter]\n",
    "            _coef = coef[filter] \n",
    "            BinnedLorentzian = BinnedLorentzian_profile(_dv, _gamma)\n",
    "            _xsec[idx] = ne.evaluate('sum(_coef * BinnedLorentzian)')    \n",
    "    elif (cutoff != 'None') & (threshold == 'None'):\n",
    "        start = max(0,wn_grid.searchsorted(v.min()-cutoff)-1)\n",
    "        end = min(wn_grid.searchsorted(v.max()+cutoff),len(wn_grid))\n",
    "        _xsec = np.zeros(shape=(end-start))\n",
    "        for i in range(start,end):\n",
    "            idx = i-start\n",
    "            dv = wn_grid[i] - v\n",
    "            filter = np.abs(dv) <= cutoff\n",
    "            _dv = dv[filter]\n",
    "            _gamma = gamma[filter]\n",
    "            _coef = coef[filter]\n",
    "            BinnedLorentzian = BinnedLorentzian_profile(_dv, _gamma)\n",
    "            _xsec[idx] = ne.evaluate('sum(_coef * BinnedLorentzian)')        \n",
    "    else: \n",
    "        start = max(0,wn_grid.searchsorted(v.min()-cutoff)-1)\n",
    "        end = min(wn_grid.searchsorted(v.max()+cutoff),len(wn_grid))\n",
    "        _xsec = np.zeros(shape=(end-start))\n",
    "        for i in range(start,end):\n",
    "            idx = i-start\n",
    "            dv = wn_grid[i] - v\n",
    "            filter_cutoff = np.abs(dv) <= cutoff\n",
    "            filter_threshold = coef >= threshold\n",
    "            filter = filter_cutoff & filter_threshold\n",
    "            _dv = dv[filter]\n",
    "            _gamma = gamma[filter]\n",
    "            _coef = coef[filter]\n",
    "            BinnedLorentzian = BinnedLorentzian_profile(_dv, _gamma)\n",
    "            _xsec[idx] = ne.evaluate('sum(_coef * BinnedLorentzian)')          \n",
    "            \n",
    "    xsec[start:end] += _xsec\n",
    "    return (xsec)"
   ]
  },
  {
   "cell_type": "code",
   "execution_count": 58,
   "metadata": {},
   "outputs": [],
   "source": [
    "def cross_section_BinnedVoigt(wn_grid, v, gamma, coef, cutoff, threshold):\n",
    "    '''\n",
    "    Read ExoMol .states, .trans, .pf and .broad files as the input files.\n",
    "    Return the wavennumbers and cross sections with binned Voigt profile.\n",
    "    \n",
    "    '''\n",
    "    xsec = np.zeros_like(wn_grid)\n",
    "    if (cutoff == 'None') & (threshold == 'None'):\n",
    "        start = max(0,wn_grid.searchsorted(v.min())-1)\n",
    "        end = min(wn_grid.searchsorted(v.max()),len(wn_grid))\n",
    "        _xsec = np.zeros(shape=(end-start))\n",
    "        for i in range(start,end):\n",
    "            idx = i-start\n",
    "            dv = wn_grid[i] - v\n",
    "            BinnedVoigt = BinnedVoigt_profile(dv, gamma)\n",
    "            _xsec[idx] = ne.evaluate('sum(coef * BinnedVoigt)')        \n",
    "    elif (cutoff == 'None') & (threshold != 'None'):\n",
    "        start = max(0,wn_grid.searchsorted(v.min())-1)\n",
    "        end = min(wn_grid.searchsorted(v.max()),len(wn_grid))\n",
    "        _xsec = np.zeros(shape=(end-start))\n",
    "        for i in range(start,end):\n",
    "            idx = i-start\n",
    "            dv = wn_grid[i] - v\n",
    "            filter = coef >= threshold\n",
    "            _dv = dv[filter]\n",
    "            _gamma = gamma[filter]\n",
    "            _coef = coef[filter]\n",
    "            BinnedVoigt = BinnedVoigt_profile(_dv, _gamma)\n",
    "            _xsec[idx] = ne.evaluate('sum(_coef * BinnedVoigt)')            \n",
    "    elif (cutoff != 'None') & (threshold == 'None'):\n",
    "        start = max(0,wn_grid.searchsorted(v.min()-cutoff)-1)\n",
    "        end = min(wn_grid.searchsorted(v.max()+cutoff),len(wn_grid))\n",
    "        _xsec = np.zeros(shape=(end-start))\n",
    "        for i in range(start,end):\n",
    "            idx = i-start\n",
    "            dv = wn_grid[i] - v\n",
    "            filter = np.abs(dv) <= cutoff\n",
    "            _dv = dv[filter]\n",
    "            _gamma = gamma[filter]\n",
    "            _coef = coef[filter]\n",
    "            BinnedVoigt = BinnedVoigt_profile(_dv, _gamma)\n",
    "            _xsec[idx] = ne.evaluate('sum(_coef * BinnedVoigt)')       \n",
    "    else: \n",
    "        start = max(0,wn_grid.searchsorted(v.min()-cutoff)-1)\n",
    "        end = min(wn_grid.searchsorted(v.max()+cutoff),len(wn_grid))\n",
    "        _xsec = np.zeros(shape=(end-start))\n",
    "        for i in range(start,end):\n",
    "            idx = i-start\n",
    "            dv = wn_grid[i] - v\n",
    "            filter_cutoff = np.abs(dv) <= cutoff\n",
    "            filter_threshold = coef >= threshold\n",
    "            filter = filter_cutoff & filter_threshold\n",
    "            _dv = dv[filter]\n",
    "            _gamma = gamma[filter]\n",
    "            _coef = coef[filter]\n",
    "            BinnedVoigt = BinnedVoigt_profile(_dv, _gamma)\n",
    "            _xsec[idx] = ne.evaluate('sum(_coef * BinnedVoigt)')            \n",
    "            \n",
    "    xsec[start:end] += _xsec\n",
    "    return (xsec)"
   ]
  },
  {
   "cell_type": "markdown",
   "metadata": {},
   "source": [
    "## Plot and Save Results"
   ]
  },
  {
   "cell_type": "code",
   "execution_count": 59,
   "metadata": {},
   "outputs": [],
   "source": [
    "def plot_xsec(wn, xsec, database, profile):\n",
    "    \n",
    "    plots_foldername = save_path+'/xsecs/plots/'+molecule+'/'+database+'/'\n",
    "    if os.path.exists(plots_foldername):\n",
    "        pass\n",
    "    else:\n",
    "        os.makedirs(plots_foldername, exist_ok=True)       \n",
    "    \n",
    "    xsecs_foldername = save_path+'/xsecs/files/'+molecule+'/'+database+'/'\n",
    "    if os.path.exists(xsecs_foldername):\n",
    "        pass\n",
    "    else:\n",
    "        os.makedirs(xsecs_foldername, exist_ok=True)\n",
    "\n",
    "    print('{:25s} : {:<6}'.format('Temperature selected', T), 'K')\n",
    "    print('{:25s} : {:<6}'.format('Pressure selected', P), 'bar')\n",
    "    \n",
    "    '''\n",
    "    wn_xsec = pd.DataFrame()\n",
    "    wn_xsec['v'] = wn\n",
    "    wn_xsec['xsec'] = xsec\n",
    "    wn_xsec = wn_xsec[wn_xsec.replace([np.inf, -np.inf], np.nan).notnull().all(axis=1)]\n",
    "    wn = wn_xsec['v'].values\n",
    "    xsec = wn_xsec['xsec'].values\n",
    "    '''\n",
    "    \n",
    "    #plt.legend(fancybox=True, framealpha=0.0)\n",
    "    parameters = {'axes.labelsize': 14,\n",
    "                'legend.fontsize': 14,\n",
    "                'xtick.labelsize': 12,\n",
    "                'ytick.labelsize': 12}\n",
    "    plt.rcParams.update(parameters)\n",
    "    \n",
    "    if (wn_wl == 'wn'):\n",
    "        print('{:25s} : {:<6}'.format('Cutoff is', cutoff), u'cm\\u207B\\u00B9')\n",
    "        print('{:25s} : {:<6}'.format('Threshold is', threshold), u'cm\\u207B\\u00B9/(molecule cm\\u207B\\u00B2)')\n",
    "        print('{:25s} : {} {} {} {}'.format('Wavenumber range selected', min_wn, u'cm\\u207B\\u00B9 -', max_wn, 'cm\\u207B\\u00B9'))\n",
    "        \n",
    "        # Plot cross sections and save it as .png.\n",
    "        plt.figure(figsize=(12, 6))\n",
    "        plt.ylim([1e-30, 10*max(xsec)])\n",
    "        plt.plot(wn, xsec, label='T = '+str(T)+' K, '+profile, linewidth=0.4)\n",
    "        plt.semilogy()\n",
    "        #plt.title(database+' '+molecule+' '+abs_emi+' Cross-Section with '+ profile) \n",
    "        plt.xlabel('Wavenumber, cm$^{-1}$')\n",
    "        plt.ylabel('Cross-section, cm$^{2}$/molecule')\n",
    "        plt.legend()\n",
    "        leg = plt.legend()                  # Get the legend object.\n",
    "        for line in leg.get_lines():\n",
    "            line.set_linewidth(1.0)         # Change the line width for the legend.\n",
    "        plt.savefig(plots_foldername+molecule+'__T'+str(T)+'__'+wn_wl+str(min_wn)+'-'+str(max_wn)+'__'\n",
    "                   +database+'__'+abs_emi+'__'+profile+'.png', dpi=500)\n",
    "        plt.show()\n",
    "        print('Cross sections plot saved.')\n",
    "\n",
    "        # Save cross sections into .xsec file.\n",
    "        xsec_df = pd.DataFrame()\n",
    "        xsec_df['wavenumber'] = wn\n",
    "        xsec_df['cross-section'] = xsec\n",
    "        xsec_filename = (xsecs_foldername+molecule+'__T'+str(T)+'__'+wn_wl+str(min_wn)+'-'+str(max_wn)+'__'\n",
    "                         +database+'__'+abs_emi+'__'+profile+'.xsec')\n",
    "        np.savetxt(xsec_filename, xsec_df, fmt=\"%.06f %20.8e\")\n",
    "        print('Cross sections file saved.')\n",
    "        \n",
    "    elif wn_wl == 'wl':\n",
    "        wl = 10000 / wn\n",
    "        min_wl = '%.02f' % (10000 / max_wn)\n",
    "        max_wl = '%.02f' % (10000 / min_wn)\n",
    "        print('{:25s} : {:<6}'.format('Cutoff is', 10000/cutoff),u'\\xb5m')\n",
    "        print('{:25s} : {:<6}'.format('Threshold is',10000/threshold),u'\\xb5m/(moleculeu \\xb5m\\u00B2)')\n",
    "        print('{:25s} : {} {} {} {}'.format('Wavelength range selected',min_wl,u'\\xb5m -',max_wl,u'\\xb5m'))\n",
    "\n",
    "        # Plot cross sections and save it as .png.\n",
    "        plt.figure(figsize=(12, 6))\n",
    "        plt.ylim([1e-30, 10*max(xsec)])\n",
    "        plt.plot(wl, xsec, label='T = '+str(T)+' K, '+profile, linewidth=0.4)\n",
    "        plt.semilogy()\n",
    "        #plt.title(database+' '+molecule+' '+abs_emi+' Cross-Section with '+ profile) \n",
    "        plt.xlabel(u'Wavelength, \\xb5m')\n",
    "        plt.ylabel(u'Cross-section, \\xb5m\\u207B\\u00B2/molecule')\n",
    "        plt.legend()\n",
    "        leg = plt.legend()                  # Get the legend object.\n",
    "        for line in leg.get_lines():\n",
    "            line.set_linewidth(1.0)         # Change the line width for the legend.\n",
    "        plt.savefig(plots_foldername+molecule+'__T'+str(T)+'__'+wn_wl+str(min_wl)+'-'+str(max_wl)+'__'\n",
    "                    +database+'__'+abs_emi+'__'+profile+'.png', dpi=500)\n",
    "        plt.show()\n",
    "        print('Cross sections plot saved.')\n",
    "        \n",
    "        # Save cross sections into .xsec file.\n",
    "        xsec_df = pd.DataFrame()\n",
    "        xsec_df['wavelength'] = wl\n",
    "        xsec_df['cross-section'] = xsec\n",
    "        xsec_filename = (xsecs_foldername+molecule+'__T'+str(T)+'__'+wn_wl+str(min_wl)+'-'+str(max_wl)+'__'\n",
    "                         +database+'__'+abs_emi+'__'+profile+'.xsec')\n",
    "        np.savetxt(xsec_filename, xsec_df, fmt=\"%.06f %20.8e\")\n",
    "        print('Cross sections file saved.')\n",
    "\n",
    "    else:\n",
    "        print('Please type in correct format: wn or wl.')"
   ]
  },
  {
   "cell_type": "code",
   "execution_count": 256,
   "metadata": {},
   "outputs": [],
   "source": [
    "def get_crosssection(read_path, states_df, hitran_df):\n",
    "    \n",
    "    print('Calculate cross-sections.')\n",
    "    t = Timer()\n",
    "    t.start()\n",
    "    \n",
    "    # ExoMol or HITRAN\n",
    "    if database == 'ExoMol':\n",
    "        \n",
    "        states_part_df = read_part_states(states_df)\n",
    "        trans_part_df = read_part_trans(read_path)\n",
    "        broad,ratio,default_broad_df,air_broad_df,self_broad_df,H2_broad_df,He_broad_df,CO2_broad_df = read_broad(read_path)\n",
    "        \n",
    "        # Read partition function from the ExoMol website\n",
    "        Q = read_exomolweb_pf(T)\n",
    "        # Read partition function from local partition function file\n",
    "        # Q = read_exomol_pf(read_path, T)\n",
    "        \n",
    "        # Absorption or emission cross section\n",
    "        if abs_emi == 'Absorption':\n",
    "            print('Absorption cross section')\n",
    "            A, v, Epp, gp, gamma_L, n_air = linelist_exomol_abs(broad,ratio,cutoff,states_part_df,trans_part_df,default_broad_df,\n",
    "                                                                air_broad_df,self_broad_df,H2_broad_df,He_broad_df,CO2_broad_df)\n",
    "            coef = cal_abscoefs(v, gp, A, Epp, Q, abundance)\n",
    "        elif abs_emi == 'Emission': \n",
    "            print('Emission cross section')\n",
    "            A, v, Ep, gp, gamma_L, n_air = linelist_exomol_emi(broad,ratio,cutoff,states_part_df,trans_part_df,default_broad_df,\n",
    "                                                               air_broad_df,self_broad_df,H2_broad_df,He_broad_df,CO2_broad_df)\n",
    "            coef = cal_emicoefs(v, gp, A, Ep, Q, abundance)\n",
    "        else:\n",
    "            raise ImportError(\"Please choose one from: 'Absoption' or 'Emission'.\")    \n",
    "        \n",
    "        # Line profile: Gaussion, Lorentzian or Voigt\n",
    "        if profile in ['Doppler', 'BinnedDoppler', 'BinnedGaussian']:\n",
    "            alpha = Doppler_HWHM(v,T)\n",
    "        elif profile == 'Gaussian':\n",
    "            alpha = Doppler_HWHM(v,T)\n",
    "            sigma = Gaussian_standard_deviation(alpha)\n",
    "        elif profile in ['Lorentzian', 'BinnedLorentzian', 'BinnedVoigt']:\n",
    "            gamma = pd.DataFrame()\n",
    "            for i in range(len(broad)):\n",
    "                gamma[i] = Lorentzian_HWHM(gamma_L[i].values, n_air[i].values,T,P)\n",
    "            gamma = gamma.sum(axis=1).values\n",
    "        elif (profile == 'PseudoRoccoVoigt'):\n",
    "            alpha = Doppler_HWHM(v,T)\n",
    "            alpha = np.full(len(alpha), 3)\n",
    "            gamma = pd.DataFrame()\n",
    "            for i in range(len(broad)):\n",
    "                gamma[i] = Lorentzian_HWHM (gamma_L[i].values, n_air[i].values,T,P)\n",
    "            gamma = gamma.sum(axis=1).values  \n",
    "        elif (profile == 'SciPyVoigt' or profile == 'SciPyWofzVoigt'):\n",
    "            alpha = Doppler_HWHM(v,T)\n",
    "            sigma = Gaussian_standard_deviation(alpha)\n",
    "            gamma = pd.DataFrame()\n",
    "            for i in range(len(broad)):\n",
    "                gamma[i] = Lorentzian_HWHM (gamma_L[i].values, n_air[i].values,T,P)\n",
    "            gamma = gamma.sum(axis=1).values\n",
    "        else:\n",
    "            alpha = Doppler_HWHM(v,T)\n",
    "            gamma = pd.DataFrame()\n",
    "            for i in range(len(broad)):\n",
    "                gamma[i] = Lorentzian_HWHM (gamma_L[i].values, n_air[i].values,T,P)\n",
    "            gamma = gamma.sum(axis=1).values   \n",
    "            fG, fL = FWHM(alpha, gamma)         \n",
    "\n",
    "\n",
    "    elif database == 'HITRAN':\n",
    "        print('HITRAN database')\n",
    "        A, v, Epp, gp, n_air, gamma_air, gamma_self, delta_air = linelist_hitran_abs(hitran_df)\n",
    "        Q = read_hitran_pf(T)\n",
    "        # Absorption or emission cross section\n",
    "        if abs_emi == 'Absorption': \n",
    "            print('Absorption cross section') \n",
    "            coef = cal_abscoefs(v, gp, A, Epp, Q, abundance)\n",
    "        elif abs_emi == 'Emission': \n",
    "            print('Emission cross section')\n",
    "            Ep = cal_Ep(Epp, v)\n",
    "            coef = cal_emicoefs(v, gp, A, Ep, Q, abundance)\n",
    "        else:\n",
    "            raise ImportError(\"Please choose one from: 'Absoption' or 'Emission'.\") \n",
    "         \n",
    "        # Line profile: Gaussion, Lorentzian or Voigt\n",
    "        if profile in ['Doppler', 'BinnedDoppler', 'BinnedGaussian']:\n",
    "            alpha = Doppler_HWHM(v,T)\n",
    "        elif profile == 'Gaussian':\n",
    "            alpha = Doppler_HWHM(v,T)\n",
    "            sigma = Gaussian_standard_deviation(alpha)\n",
    "        elif profile in ['Lorentzian', 'BinnedLorentzian', 'BinnedVoigt']:\n",
    "            gamma_L = gamma_air*ratios[1]+ gamma_self*ratios[2]\n",
    "            gamma = Lorentzian_HWHM(gamma_L, n_air,T,P)\n",
    "        elif (profile == 'PseudoRoccoVoigt'):\n",
    "            alpha = Doppler_HWHM(v,T)\n",
    "            alpha = np.full(len(alpha), 3)\n",
    "            gamma = pd.DataFrame()\n",
    "            for i in range(len(broad)):\n",
    "                gamma[i] = Lorentzian_HWHM (gamma_L[i].values, n_air[i].values,T,P)\n",
    "            gamma = gamma.sum(axis=1).values  \n",
    "        elif (profile == 'SciPyVoigt' or profile == 'SciPyWofzVoigt'):\n",
    "            alpha = Doppler_HWHM(v,T)\n",
    "            sigma = Gaussian_standard_deviation(alpha)\n",
    "            gamma_L = gamma_air*ratios[1]+ gamma_self*ratios[2]\n",
    "            gamma = Lorentzian_HWHM(gamma_L, n_air,T,P)\n",
    "        else:\n",
    "            alpha = Doppler_HWHM(v,T)\n",
    "            gamma_L = gamma_air*ratios[1]+ gamma_self*ratios[2]\n",
    "            gamma = Lorentzian_HWHM(gamma_L, n_air,T,P)   \n",
    "            fG, fL = FWHM(alpha, gamma)        \n",
    "\n",
    "    else:\n",
    "        raise ImportError(\"Please add the name of the database 'ExoMol' or 'HITRAN' into the input file.\")\n",
    "    \n",
    "     \n",
    "    # Line profiles\n",
    "    if profile =='Doppler':\n",
    "        print('Doppler profile')\n",
    "        xsec = cross_section_Doppler(wn_grid, v, alpha, coef, cutoff, threshold)\n",
    "    if profile == 'Gaussian':\n",
    "        print('Gaussion profile')\n",
    "        xsec = cross_section_Gaussian(wn_grid, v, sigma, coef, cutoff, threshold)\n",
    "    elif profile == 'Lorentzian':\n",
    "        print('Lorentzian profile')\n",
    "        xsec = cross_section_Lorentzian(wn_grid, v, gamma, coef, cutoff, threshold)\n",
    "    elif profile == 'SciPyVoigt':\n",
    "        print('SciPy Voigt profile')\n",
    "        xsec = cross_section_SciPyVoigt(wn_grid, v, sigma, gamma, coef, cutoff, threshold)\n",
    "    elif profile == 'SciPyWofzVoigt':\n",
    "        print('SciPy wofz Voigt profile')\n",
    "        xsec = cross_section_SciPyWofzVoigt(wn_grid, v, sigma, gamma, coef, cutoff, threshold)\n",
    "    elif profile == 'PseudoVoigt':\n",
    "        print('Pseudo Voigt profile')\n",
    "        eta = PseudoVoigt(fG, fL)\n",
    "        xsec = cross_section_PseudoVoigt(wn_grid, v, alpha, gamma, eta, coef, cutoff, threshold)       \n",
    "    elif profile == 'PseudoKielkopfVoigt':\n",
    "        print('Kielkopf Pseudo Voigt profile')\n",
    "        eta = PseudoKielkopfVoigt(fG, fL)\n",
    "        xsec = cross_section_PseudoVoigt(wn_grid, v, alpha, gamma, eta, coef, cutoff, threshold)       \n",
    "    elif profile == 'PseudoOliveroVoigt':\n",
    "        print('Olivero Pseudo Voigt profile')\n",
    "        eta = PseudoOliveroVoigt(fG, fL)\n",
    "        xsec = cross_section_PseudoVoigt(wn_grid, v, alpha, gamma, eta, coef, cutoff, threshold)       \n",
    "    elif profile == 'PseudoLiuLinVoigt':\n",
    "        print('Liu-Lin Pseudo Voigt profile')\n",
    "        eta = PseudoLiuLinVoigt(fG, fL)\n",
    "        xsec = cross_section_PseudoVoigt(wn_grid, v, alpha, gamma, eta, coef, cutoff, threshold)       \n",
    "    elif profile == 'PseudoRoccoVoigt':\n",
    "        print('Rocco Pseudo Voigt profile')\n",
    "        eta = PseudoRoccoVoigt(alpha, gamma)\n",
    "        xsec = cross_section_PseudoVoigt(wn_grid, v, alpha, gamma, eta, coef, cutoff, threshold) \n",
    "    elif profile == 'BinnedDoppler':\n",
    "        print('Binned Doppler profile')\n",
    "        xsec = cross_section_BinnedGaussian(wn_grid, v, alpha, coef, cutoff, threshold)        \n",
    "    elif profile == 'BinnedGaussian':\n",
    "        print('Binned Gaussion profile')\n",
    "        xsec = cross_section_BinnedGaussian(wn_grid, v, alpha, coef, cutoff, threshold)\n",
    "    elif profile == 'BinnedLorentzian':\n",
    "        print('Binned Lorentzian profile')\n",
    "        xsec = cross_section_BinnedLorentzian(wn_grid, v, gamma, coef, cutoff, threshold)\n",
    "    elif profile == 'BinnedVoigt':\n",
    "        print('Binned Voigt profile')\n",
    "        xsec = cross_section_BinnedVoigt(wn_grid, v, gamma, coef, cutoff, threshold)           \n",
    "    else:\n",
    "        raise ImportError('Please choose line profile from the list.')\n",
    "\n",
    "    plot_xsec(wn_grid, xsec, database, profile)\n",
    "    \n",
    "    t.end()\n",
    "    \n",
    "    pass"
   ]
  },
  {
   "attachments": {},
   "cell_type": "markdown",
   "metadata": {},
   "source": [
    "## Get Results"
   ]
  },
  {
   "cell_type": "code",
   "execution_count": 61,
   "metadata": {},
   "outputs": [],
   "source": [
    "def get_results(read_path):\n",
    "    \n",
    "    t_tot = Timer()\n",
    "    t_tot.start()\n",
    "    \n",
    "    states_df = pd.DataFrame()\n",
    "    hitran_df = pd.DataFrame()\n",
    "    \n",
    "    # ExoMol or HITRAN\n",
    "    if database == 'ExoMol':\n",
    "        print('ExoMol database')\n",
    "        # All functions need whole states.\n",
    "        states_df = read_all_states(read_path)\n",
    "        # Only calculating cooling functions and lifetimes need whole transitions.\n",
    "        NeedTrans = CoolingFunctions + Lifetimes\n",
    "        if NeedTrans != 0: \n",
    "            all_trans_df = read_all_trans(read_path)\n",
    "            \n",
    "        # Functions\n",
    "        Nfunctions = PartitionFunctions + CoolingFunctions + Lifetimes + SpecificHeats + CrossSections\n",
    "        if Nfunctions > 0:\n",
    "            if PartitionFunctions == 1:\n",
    "                exomol_partition_func(read_path, states_df, Ntemp, Tmax)\n",
    "            if SpecificHeats == 1:\n",
    "                exomol_specificheat(read_path, states_df, Ntemp, Tmax)\n",
    "            if Lifetimes == 1:\n",
    "                exomol_lifetime(read_path, states_df, all_trans_df)\n",
    "            if CoolingFunctions == 1:\n",
    "                exomol_cooling_func(read_path, states_df, all_trans_df, Ntemp, Tmax)\n",
    "            if StickSpectra == 1:\n",
    "                trans_part_df = read_part_trans(read_path)\n",
    "                exomol_stick_spectra(read_path, states_df, trans_part_df, T)\n",
    "            if CrossSections ==1:\n",
    "                get_crosssection(read_path, states_df, hitran_df)\n",
    "        else:   \n",
    "            raise ImportError(\"Please choose functions which you want to calculate.\")\n",
    "\n",
    "\n",
    "    elif database == 'HITRAN':\n",
    "        print('HITRAN database')\n",
    "        parfile_df = read_parfile(read_path)\n",
    "        hitran_df = read_hitran_parfile (read_path, parfile_df)\n",
    "        if CrossSections ==1:\n",
    "            get_crosssection(read_path, states_df, hitran_df)\n",
    " \n",
    "    else:\n",
    "        raise ImportError(\"Please add the name of the database 'ExoMol' or 'HITRAN' into the input file.\")\n",
    "        \n",
    "    print('\\nThe program total running time:')    \n",
    "    t_tot.end()\n",
    "    print('\\nFinished!')\n",
    "    \n",
    "    pass"
   ]
  },
  {
   "cell_type": "code",
   "execution_count": 67,
   "metadata": {},
   "outputs": [
    {
     "name": "stdout",
     "output_type": "stream",
     "text": [
      "ExoMol database\n",
      "Calculate cross-sections.\n"
     ]
    },
    {
     "name": "stderr",
     "output_type": "stream",
     "text": [
      "100%|██████████| 1/1 [00:00<00:00,  4.30it/s]\n"
     ]
    },
    {
     "name": "stdout",
     "output_type": "stream",
     "text": [
      "Broadeners \t:  Default \t Air \t Self \t H2 \t He \t CO2\n",
      "Ratios \t\t:  1.0 \t\t 0.0 \t 0.0 \t 0.0 \t 0.0 \t 0.0\n",
      "Absorption cross section\n",
      "SciPy Voigt profile\n",
      "Temperature selected      : 300    K\n",
      "Pressure selected         : 1.0    bar\n",
      "Cutoff is                 : 25.0   cm⁻¹\n",
      "Threshold is              : None   cm⁻¹/(molecule cm⁻²)\n",
      "Wavenumber range selected : 0.0 cm⁻¹ - 30000.0 cm⁻¹\n"
     ]
    },
    {
     "data": {
      "image/png": "[encoded data removed]",
      "text/plain": [
       "<Figure size 1200x600 with 1 Axes>"
      ]
     },
     "metadata": {},
     "output_type": "display_data"
    },
    {
     "name": "stdout",
     "output_type": "stream",
     "text": [
      "Cross sections plot saved.\n",
      "Cross sections file saved.\n",
      "Running time on CPU       : 5.657142222999999 s\n",
      "Running time on system    : 5.866181373596191 s\n",
      "\n",
      "The program total running time:\n",
      "Running time on CPU       : 5.682100128 s\n",
      "Running time on system    : 5.907777786254883 s\n",
      "\n",
      "Finished!\n"
     ]
    }
   ],
   "source": [
    "get_results(read_path)"
   ]
  },
  {
   "attachments": {},
   "cell_type": "markdown",
   "metadata": {},
   "source": [
    "# Test and plot"
   ]
  },
  {
   "cell_type": "code",
   "execution_count": 69,
   "metadata": {},
   "outputs": [
    {
     "name": "stderr",
     "output_type": "stream",
     "text": [
      "100%|██████████| 1/1 [00:00<00:00,  4.70it/s]"
     ]
    },
    {
     "name": "stdout",
     "output_type": "stream",
     "text": [
      "Broadeners \t:  Default \t Air \t Self \t H2 \t He\n",
      "Ratios \t\t:  1.0 \t\t 0.0 \t 0.0 \t 0.0 \t 0.0\n"
     ]
    },
    {
     "name": "stderr",
     "output_type": "stream",
     "text": [
      "\n"
     ]
    }
   ],
   "source": [
    "database = 'ExoMol'\n",
    "states_df = read_all_states(read_path)\n",
    "states_part_df = read_part_states(states_df)\n",
    "trans_part_df = read_part_trans(read_path)\n",
    "broad,ratio,default_broad_df,air_broad_df,self_broad_df,H2_broad_df,He_broad_df,CO2_broad_df = read_broad(read_path)\n",
    "A, v, Epp, gp, gamma_L, n_air = linelist_exomol_abs(broad,ratio,cutoff,states_part_df,trans_part_df,default_broad_df,\n",
    "                                                    air_broad_df,self_broad_df,H2_broad_df,He_broad_df,CO2_broad_df)"
   ]
  },
  {
   "cell_type": "code",
   "execution_count": 70,
   "metadata": {},
   "outputs": [],
   "source": [
    "P = 0.1\n",
    "Ts = [300, 3000]\n",
    "profile = 'Gaussian'\n",
    "wn = []\n",
    "xsec = []\n",
    "for i in range(len(Ts)):\n",
    "    T = Ts[i]\n",
    "    Q = read_exomol_pf(read_path, T)\n",
    "    coef = cal_abscoefs(v, gp, A, Epp, Q, abundance)\n",
    "    alpha = Doppler_HWHM(v,T)\n",
    "    alpha = np.full(len(alpha), 3)\n",
    "    sigma = Gaussian_standard_deviation(alpha)\n",
    "    '''\n",
    "    gamma = pd.DataFrame()\n",
    "    for i in range(len(broad)):\n",
    "        gamma[i] = Lorentzian_HWHM (gamma_L[i].values, n_air[i].values,T,P)\n",
    "    gamma = gamma.sum(axis=1).values\n",
    "    '''\n",
    "    wn_xsec = pd.DataFrame()\n",
    "    wn_xsec['v'] = wn_grid\n",
    "    wn_xsec['xsec'] = cross_section_Gaussian(wn_grid, v, sigma, coef, cutoff, threshold)\n",
    "    #wn_xsec['xsec'] = cross_section_SciPyVoigt(wn_grid, v, sigma, gamma, coef, cutoff, threshold)\n",
    "    wns = list(wn_xsec['v'])\n",
    "    xsecs = list(wn_xsec['xsec'])\n",
    "    \n",
    "    wn.append(wns)\n",
    "    xsec.append(xsecs)\n",
    "\n"
   ]
  },
  {
   "cell_type": "code",
   "execution_count": 71,
   "metadata": {},
   "outputs": [
    {
     "data": {
      "image/png": "[encoded data removed]",
      "text/plain": [
       "<Figure size 1200x600 with 2 Axes>"
      ]
     },
     "metadata": {},
     "output_type": "display_data"
    },
    {
     "name": "stdout",
     "output_type": "stream",
     "text": [
      "Cross sections plot saved.\n"
     ]
    }
   ],
   "source": [
    "parameters = {'axes.labelsize': 14,\n",
    "              'legend.fontsize': 14,\n",
    "              'xtick.labelsize': 12,\n",
    "              'ytick.labelsize': 12}\n",
    "plt.rcParams.update(parameters)\n",
    "\n",
    "fig, ax = plt.subplots(figsize=(12, 6))\n",
    "#ax.plot(wn[4], xsec[4], label='T = '+str(Ts[4])+' K', linewidth=0.5, color=\"yellowgreen\")\n",
    "#ax.plot(wn[3], xsec[3], label='T = '+str(Ts[3])+' K', linewidth=0.5, color=\"orange\")\n",
    "#ax.plot(wn[2], xsec[2], label='T = '+str(Ts[2])+' K', linewidth=0.5, color=\"#41b6c4\")\n",
    "ax.plot(wn[1], xsec[1], label='T = '+str(Ts[1])+' K', linewidth=0.5, color=\"palevioletred\")\n",
    "ax.plot(wn[0], xsec[0], label='T =   '+str(Ts[0])+' K', linewidth=0.5, color=\"#a1dab4\")\n",
    "\n",
    "#ax.plot(wn[5], xsec[5], label='T = '+str(Ts[0])+' K', linewidth=0.5, color=\"salmon\")\n",
    "\n",
    "\n",
    "ax_top=ax.twiny() \n",
    "xticks = ax.get_xticks()\n",
    "ax.set_xticks(xticks)\n",
    "\n",
    "ax.set_xlim(min_wn-500, max_wn+500)\n",
    "ax.set_ylim([1e-30, 10*max(max(xsec[i]) for i in range(len(Ts)))])\n",
    "\n",
    "xlim = ax.get_xlim()\n",
    "ax_top.set_xlim(xlim)\n",
    "# The values (labels) of the top x-axis.\n",
    "top_label = [100, 10, 5, 4, 2.5, 2, 1.6, 1.25, 1, 0.8, 0.625, 0.5, 0.4, int((10000/max_wn)*10)/10+0.05]  \n",
    "# The corresponding positions of the top x-axis.    \n",
    "top_tick = list(10000/np.array(top_label))                       \n",
    "ax_top.set_xticks(top_tick)\n",
    "ax_top.set_xticklabels(top_label)\n",
    "ax_top.set_xlabel('Wavelength, $\\mu$m', labelpad=10)\n",
    "\n",
    "ax.semilogy()\n",
    "ax.set_xlabel('Wavenumber, cm$^{-1}$')\n",
    "ax.set_ylabel('Cross-section, cm$^{2}$/molecule')\n",
    "\n",
    "# Get the legend object\n",
    "leg = ax.legend(loc=2)\n",
    "# Change the line width for the legend\n",
    "for line in leg.get_lines():\n",
    "    line.set_linewidth(1.0)\n",
    "\n",
    "plt.text(x=27000, y=4e-16, s=molecule, rotation=1, ha='center', va='center',\n",
    "         fontdict=dict(fontsize=14, color='black', family='sans-serif', weight='black'))\n",
    "\n",
    "plots_foldername = save_path+'/xsecs/plots/'+molecule+'/'+database+'/'\n",
    "if os.path.exists(plots_foldername):\n",
    "    pass\n",
    "else:\n",
    "    os.makedirs(plots_foldername, exist_ok=True) \n",
    "str_T = str(Ts).replace(', ','_').replace('[','').replace(']','')\n",
    "plt.savefig(plots_foldername+molecule+'__T'+str_T+'__'+wn_wl+str(min_wn)+'-'+str(max_wn)+'__'\n",
    "            +database+'__'+abs_emi+'__'+profile+'.png', dpi=500)\n",
    "plt.show()\n",
    "print('Cross sections plot saved.')"
   ]
  },
  {
   "cell_type": "code",
   "execution_count": 190,
   "metadata": {},
   "outputs": [
    {
     "name": "stderr",
     "output_type": "stream",
     "text": [
      "100%|██████████| 1/1 [00:00<00:00,  5.28it/s]\n"
     ]
    },
    {
     "name": "stdout",
     "output_type": "stream",
     "text": [
      "Broadeners \t:  Default \t Air \t Self \t H2 \t He \t CO2\n",
      "Ratios \t\t:  1.0 \t\t 0.0 \t 0.0 \t 0.0 \t 0.0 \t 0.0\n"
     ]
    }
   ],
   "source": [
    "database = 'ExoMol'\n",
    "T = 300\n",
    "P = 1\n",
    "\n",
    "states_df = read_all_states(read_path)\n",
    "states_part_df = read_part_states(states_df)\n",
    "trans_part_df = read_part_trans(read_path)\n",
    "broad,ratio,default_broad_df,air_broad_df,self_broad_df,H2_broad_df,He_broad_df,CO2_broad_df = read_broad(read_path)\n",
    "A, v, Epp, gp, gamma_L, n_air = linelist_exomol_abs(broad,ratio,cutoff,states_part_df,trans_part_df,default_broad_df,\n",
    "                                                    air_broad_df,self_broad_df,H2_broad_df,He_broad_df,CO2_broad_df)\n",
    "\n",
    "Q = read_exomol_pf(read_path, T)\n",
    "coef = cal_abscoefs(v, gp, A, Epp, Q, abundance)\n",
    "\n",
    "alpha = Doppler_HWHM(v,T)\n",
    "#alpha = np.full(len(alpha), 3)\n",
    "sigma = Gaussian_standard_deviation(alpha)\n",
    "gamma = pd.DataFrame()\n",
    "for i in range(len(broad)):\n",
    "    gamma[i] = Lorentzian_HWHM (gamma_L[i].values, n_air[i].values,T,P)\n",
    "gamma = gamma.sum(axis=1).values \n",
    "fG, fL = FWHM(alpha, gamma)     \n"
   ]
  },
  {
   "cell_type": "code",
   "execution_count": 67,
   "metadata": {},
   "outputs": [],
   "source": [
    "xsec1 = cross_section_Doppler(wn_grid, v, alpha, coef, cutoff, threshold)\n",
    "xsec2 = cross_section_Gaussian(wn_grid, v, sigma, coef, cutoff, threshold)\n",
    "xsec3 = cross_section_Lorentzian(wn_grid, v, gamma, coef, cutoff, threshold)\n",
    "xsec4 = cross_section_SciPyVoigt(wn_grid, v, sigma, gamma, coef, cutoff, threshold)\n",
    "xsec5 = cross_section_SciPyWofzVoigt(wn_grid, v, sigma, gamma, coef, cutoff, threshold)"
   ]
  },
  {
   "cell_type": "code",
   "execution_count": 68,
   "metadata": {},
   "outputs": [],
   "source": [
    "eta6 = PseudoVoigt(fG, fL)\n",
    "xsec6 = cross_section_PseudoVoigt(wn_grid, v, alpha, gamma, eta6, coef, cutoff, threshold) \n",
    "\n",
    "eta7 = PseudoKielkopfVoigt(fG, fL)\n",
    "xsec7 = cross_section_PseudoVoigt(wn_grid, v, alpha, gamma, eta7, coef, cutoff, threshold)       \n",
    "\n",
    "eta8 = PseudoOliveroVoigt(fG, fL)\n",
    "xsec8 = cross_section_PseudoVoigt(wn_grid, v, alpha, gamma, eta8, coef, cutoff, threshold)       \n",
    "\n",
    "eta9 = PseudoLiuLinVoigt(fG, fL)\n",
    "xsec9 = cross_section_PseudoVoigt(wn_grid, v, alpha, gamma, eta9, coef, cutoff, threshold)       \n",
    "\n",
    "eta10 = PseudoRoccoVoigt(alpha, gamma)\n",
    "xsec10 = cross_section_PseudoVoigt(wn_grid, v, alpha, gamma, eta10, coef, cutoff, threshold)       "
   ]
  },
  {
   "cell_type": "code",
   "execution_count": 69,
   "metadata": {},
   "outputs": [],
   "source": [
    "xsec11 = cross_section_BinnedGaussian(wn_grid, v, alpha, coef, cutoff, threshold)\n",
    "xsec12 = cross_section_BinnedLorentzian(wn_grid, v, gamma, coef, cutoff, threshold)\n",
    "xsec13 = cross_section_BinnedVoigt(wn_grid, v, gamma, coef, cutoff, threshold)"
   ]
  },
  {
   "cell_type": "code",
   "execution_count": null,
   "metadata": {},
   "outputs": [],
   "source": []
  },
  {
   "cell_type": "code",
   "execution_count": 70,
   "metadata": {},
   "outputs": [],
   "source": [
    "def cal_standard_deviation(xsec4,xsec5,xsec6,xsec7,xsec8,xsec9,xsec10):\n",
    "    sw = np.std(np.subtract(xsec4, xsec5), ddof=1)\n",
    "    p = np.std(np.subtract(xsec4, xsec6), ddof=1)\n",
    "    pk = np.std(np.subtract(xsec4, xsec7), ddof=1)\n",
    "    po = np.std(np.subtract(xsec4, xsec8), ddof=1)\n",
    "    pl = np.std(np.subtract(xsec4, xsec9), ddof=1)\n",
    "    pd = np.std(np.subtract(xsec4, xsec10), ddof=1)\n",
    "    return(sw,p,pk,po,pl,pd)"
   ]
  },
  {
   "cell_type": "code",
   "execution_count": null,
   "metadata": {},
   "outputs": [],
   "source": []
  },
  {
   "cell_type": "code",
   "execution_count": 257,
   "metadata": {},
   "outputs": [],
   "source": [
    "def get_crosssection(T, P, profile):\n",
    "    \n",
    "    print('Calculate cross-sections.')\n",
    "    t = Timer()\n",
    "    t.start()\n",
    "    \n",
    "    global states_df\n",
    "\n",
    "    states_df = read_all_states(read_path)\n",
    "    states_part_df = read_part_states(states_df)\n",
    "    trans_part_df = read_part_trans(read_path)\n",
    "    broad,ratio,default_broad_df,air_broad_df,self_broad_df,H2_broad_df,He_broad_df,CO2_broad_df = read_broad(read_path)\n",
    "    A, v, Epp, gp, gamma_L, n_air = linelist_exomol_abs(broad,ratio,cutoff,states_part_df,trans_part_df,default_broad_df,\n",
    "                                                        air_broad_df,self_broad_df,H2_broad_df,He_broad_df,CO2_broad_df)\n",
    "    Q = read_exomol_pf(read_path, T)\n",
    "    coef = cal_abscoefs(v, gp, A, Epp, Q, abundance)\n",
    "   \n",
    "    # Line profile: Gaussion, Lorentzian or Voigt\n",
    "    if profile in ['Doppler', 'BinnedDoppler', 'BinnedGaussian']:\n",
    "        alpha = Doppler_HWHM(v,T)\n",
    "        alpha = np.full(len(alpha), 3)\n",
    "    elif profile == 'Gaussian':\n",
    "        alpha = Doppler_HWHM(v,T)\n",
    "        alpha = np.full(len(alpha), 3)\n",
    "        sigma = Gaussian_standard_deviation(alpha)\n",
    "    elif profile in ['Lorentzian', 'BinnedLorentzian', 'BinnedVoigt']:\n",
    "        gamma = pd.DataFrame()\n",
    "        for i in range(len(broad)):\n",
    "            gamma[i] = Lorentzian_HWHM(gamma_L[i].values, n_air[i].values,T,P)\n",
    "        gamma = gamma.sum(axis=1).values\n",
    "    elif (profile == 'PseudoRoccoVoigt'):\n",
    "        alpha = Doppler_HWHM(v,T)\n",
    "        alpha = np.full(len(alpha), 3)\n",
    "        gamma = pd.DataFrame()\n",
    "        for i in range(len(broad)):\n",
    "            gamma[i] = Lorentzian_HWHM (gamma_L[i].values, n_air[i].values,T,P)\n",
    "        gamma = gamma.sum(axis=1).values    \n",
    "    elif (profile == 'SciPyVoigt' or profile == 'SciPyWofzVoigt'):\n",
    "        alpha = Doppler_HWHM(v,T)\n",
    "        alpha = np.full(len(alpha), 3)\n",
    "        sigma = Gaussian_standard_deviation(alpha)\n",
    "        gamma = pd.DataFrame()\n",
    "        for i in range(len(broad)):\n",
    "            gamma[i] = Lorentzian_HWHM (gamma_L[i].values, n_air[i].values,T,P)\n",
    "        gamma = gamma.sum(axis=1).values\n",
    "    else:\n",
    "        alpha = Doppler_HWHM(v,T)\n",
    "        alpha = np.full(len(alpha), 3)\n",
    "        gamma = pd.DataFrame()\n",
    "        for i in range(len(broad)):\n",
    "            gamma[i] = Lorentzian_HWHM (gamma_L[i].values, n_air[i].values,T,P)\n",
    "        gamma = gamma.sum(axis=1).values   \n",
    "        fG, fL = FWHM(alpha, gamma)         \n",
    "\n",
    "    # Line profiles\n",
    "    if profile == 'Doppler':\n",
    "        print('Doppler profile')\n",
    "        xsec = cross_section_Doppler(wn_grid, v, alpha, coef, cutoff, threshold)\n",
    "    elif profile == 'Gaussian':\n",
    "        print('Gaussion profile')\n",
    "        xsec = cross_section_Gaussian(wn_grid, v, sigma, coef, cutoff, threshold)\n",
    "    elif profile == 'Lorentzian':\n",
    "        print('Lorentzian profile')\n",
    "        xsec = cross_section_Lorentzian(wn_grid, v, gamma, coef, cutoff, threshold)\n",
    "    elif profile == 'SciPyVoigt':\n",
    "        print('SciPy Voigt profile')\n",
    "        xsec = cross_section_SciPyVoigt(wn_grid, v, sigma, gamma, coef, cutoff, threshold)\n",
    "    elif profile == 'SciPyWofzVoigt':\n",
    "        print('SciPy wofz Voigt profile')\n",
    "        xsec = cross_section_SciPyWofzVoigt(wn_grid, v, sigma, gamma, coef, cutoff, threshold)\n",
    "    elif profile == 'PseudoVoigt':\n",
    "        print('Pseudo Voigt profile')\n",
    "        eta = PseudoVoigt(fG, fL)\n",
    "        xsec = cross_section_PseudoVoigt(wn_grid, v, alpha, gamma, eta, coef, cutoff, threshold)       \n",
    "    elif profile == 'PseudoKielkopfVoigt':\n",
    "        print('Kielkopf Pseudo Voigt profile')\n",
    "        eta = PseudoKielkopfVoigt(fG, fL)\n",
    "        xsec = cross_section_PseudoVoigt(wn_grid, v, alpha, gamma, eta, coef, cutoff, threshold)       \n",
    "    elif profile == 'PseudoOliveroVoigt':\n",
    "        print('Olivero Pseudo Voigt profile')\n",
    "        eta = PseudoOliveroVoigt(fG, fL)\n",
    "        xsec = cross_section_PseudoVoigt(wn_grid, v, alpha, gamma, eta, coef, cutoff, threshold)       \n",
    "    elif profile == 'PseudoLiuLinVoigt':\n",
    "        print('Liu-Lin Pseudo Voigt profile')\n",
    "        eta = PseudoLiuLinVoigt(fG, fL)\n",
    "        xsec = cross_section_PseudoVoigt(wn_grid, v, alpha, gamma, eta, coef, cutoff, threshold)       \n",
    "    elif profile == 'PseudoRoccoVoigt':\n",
    "        print('Rocco Pseudo Voigt profile')\n",
    "        eta = PseudoRoccoVoigt(alpha, gamma)\n",
    "        xsec = cross_section_PseudoVoigt(wn_grid, v, alpha, gamma, eta, coef, cutoff, threshold) \n",
    "    elif profile == 'BinnedDoppler':\n",
    "        print('Binned Doppler profile')\n",
    "        xsec = cross_section_BinnedGaussian(wn_grid, v, alpha, coef, cutoff, threshold)        \n",
    "    elif profile == 'BinnedGaussian':\n",
    "        print('Binned Gaussion profile')\n",
    "        xsec = cross_section_BinnedGaussian(wn_grid, v, alpha, coef, cutoff, threshold)\n",
    "    elif profile == 'BinnedLorentzian':\n",
    "        print('Binned Lorentzian profile')\n",
    "        xsec = cross_section_BinnedLorentzian(wn_grid, v, gamma, coef, cutoff, threshold)\n",
    "    elif profile == 'BinnedVoigt':\n",
    "        print('Binned Voigt profile')\n",
    "        xsec = cross_section_BinnedVoigt(wn_grid, v, gamma, coef, cutoff, threshold)           \n",
    "    else:\n",
    "        raise ImportError('Please choose line profile from the list.')\n",
    "    \n",
    "    t.end()\n",
    "    \n",
    "    return (xsec, t.interval_sys)"
   ]
  },
  {
   "cell_type": "code",
   "execution_count": 74,
   "metadata": {},
   "outputs": [
    {
     "name": "stdout",
     "output_type": "stream",
     "text": [
      "Calculate cross-sections.\n"
     ]
    },
    {
     "name": "stderr",
     "output_type": "stream",
     "text": [
      "100%|██████████| 1/1 [00:00<00:00,  5.50it/s]\n"
     ]
    },
    {
     "name": "stdout",
     "output_type": "stream",
     "text": [
      "Broadeners \t:  Default \t Air \t Self \t H2 \t He \t CO2\n",
      "Ratios \t\t:  1.0 \t\t 0.0 \t 0.0 \t 0.0 \t 0.0 \t 0.0\n",
      "Doppler profile\n",
      "Running time on CPU       : 69.61725964499988 s\n",
      "Running time on system    : 15.533236742019653 s\n",
      "Calculate cross-sections.\n"
     ]
    },
    {
     "name": "stderr",
     "output_type": "stream",
     "text": [
      "100%|██████████| 1/1 [00:00<00:00,  5.46it/s]\n"
     ]
    },
    {
     "name": "stdout",
     "output_type": "stream",
     "text": [
      "Broadeners \t:  Default \t Air \t Self \t H2 \t He \t CO2\n",
      "Ratios \t\t:  1.0 \t\t 0.0 \t 0.0 \t 0.0 \t 0.0 \t 0.0\n",
      "Doppler profile\n",
      "Running time on CPU       : 69.80873324899994 s\n",
      "Running time on system    : 15.576322078704834 s\n",
      "Calculate cross-sections.\n"
     ]
    },
    {
     "name": "stderr",
     "output_type": "stream",
     "text": [
      "100%|██████████| 1/1 [00:00<00:00,  5.54it/s]\n"
     ]
    },
    {
     "name": "stdout",
     "output_type": "stream",
     "text": [
      "Broadeners \t:  Default \t Air \t Self \t H2 \t He \t CO2\n",
      "Ratios \t\t:  1.0 \t\t 0.0 \t 0.0 \t 0.0 \t 0.0 \t 0.0\n",
      "Doppler profile\n",
      "Running time on CPU       : 69.73576664799998 s\n",
      "Running time on system    : 15.614244222640991 s\n",
      "Calculate cross-sections.\n"
     ]
    },
    {
     "name": "stderr",
     "output_type": "stream",
     "text": [
      "100%|██████████| 1/1 [00:00<00:00,  5.48it/s]\n"
     ]
    },
    {
     "name": "stdout",
     "output_type": "stream",
     "text": [
      "Broadeners \t:  Default \t Air \t Self \t H2 \t He \t CO2\n",
      "Ratios \t\t:  1.0 \t\t 0.0 \t 0.0 \t 0.0 \t 0.0 \t 0.0\n",
      "Doppler profile\n",
      "Running time on CPU       : 69.78756086299995 s\n",
      "Running time on system    : 15.669830083847046 s\n",
      "Calculate cross-sections.\n"
     ]
    },
    {
     "name": "stderr",
     "output_type": "stream",
     "text": [
      "100%|██████████| 1/1 [00:00<00:00,  5.49it/s]\n"
     ]
    },
    {
     "name": "stdout",
     "output_type": "stream",
     "text": [
      "Broadeners \t:  Default \t Air \t Self \t H2 \t He \t CO2\n",
      "Ratios \t\t:  1.0 \t\t 0.0 \t 0.0 \t 0.0 \t 0.0 \t 0.0\n",
      "Doppler profile\n",
      "Running time on CPU       : 70.01132229399991 s\n",
      "Running time on system    : 15.754239797592163 s\n",
      "Calculate cross-sections.\n"
     ]
    },
    {
     "name": "stderr",
     "output_type": "stream",
     "text": [
      "100%|██████████| 1/1 [00:00<00:00,  5.51it/s]\n"
     ]
    },
    {
     "name": "stdout",
     "output_type": "stream",
     "text": [
      "Broadeners \t:  Default \t Air \t Self \t H2 \t He \t CO2\n",
      "Ratios \t\t:  1.0 \t\t 0.0 \t 0.0 \t 0.0 \t 0.0 \t 0.0\n",
      "Doppler profile\n",
      "Running time on CPU       : 69.56696320300011 s\n",
      "Running time on system    : 15.55332088470459 s\n",
      "Calculate cross-sections.\n"
     ]
    },
    {
     "name": "stderr",
     "output_type": "stream",
     "text": [
      "100%|██████████| 1/1 [00:00<00:00,  5.48it/s]\n"
     ]
    },
    {
     "name": "stdout",
     "output_type": "stream",
     "text": [
      "Broadeners \t:  Default \t Air \t Self \t H2 \t He \t CO2\n",
      "Ratios \t\t:  1.0 \t\t 0.0 \t 0.0 \t 0.0 \t 0.0 \t 0.0\n",
      "Doppler profile\n",
      "Running time on CPU       : 69.83877903899997 s\n",
      "Running time on system    : 15.570230484008789 s\n",
      "Calculate cross-sections.\n"
     ]
    },
    {
     "name": "stderr",
     "output_type": "stream",
     "text": [
      "100%|██████████| 1/1 [00:00<00:00,  5.55it/s]\n"
     ]
    },
    {
     "name": "stdout",
     "output_type": "stream",
     "text": [
      "Broadeners \t:  Default \t Air \t Self \t H2 \t He \t CO2\n",
      "Ratios \t\t:  1.0 \t\t 0.0 \t 0.0 \t 0.0 \t 0.0 \t 0.0\n",
      "Doppler profile\n",
      "Running time on CPU       : 69.93456184600018 s\n",
      "Running time on system    : 15.559574604034424 s\n"
     ]
    }
   ],
   "source": [
    "profile = 'Doppler'\n",
    "xsecd1, td1 = get_crosssection(10, 1, profile)\n",
    "xsecd2, td2 = get_crosssection(100, 1, profile)\n",
    "xsecd3, td3 = get_crosssection(200, 1, profile)\n",
    "xsecd4, td4 = get_crosssection(300, 1, profile)\n",
    "xsecd5, td5 = get_crosssection(100, 0.5, profile)\n",
    "xsecd6, td6 = get_crosssection(100, 1, profile)\n",
    "xsecd7, td7 = get_crosssection(100, 2, profile)\n",
    "xsecd8, td8 = get_crosssection(100, 5, profile)"
   ]
  },
  {
   "cell_type": "code",
   "execution_count": 69,
   "metadata": {},
   "outputs": [
    {
     "name": "stdout",
     "output_type": "stream",
     "text": [
      "Calculate cross-sections.\n"
     ]
    },
    {
     "name": "stderr",
     "output_type": "stream",
     "text": [
      "100%|██████████| 1/1 [00:00<00:00,  5.47it/s]\n"
     ]
    },
    {
     "name": "stdout",
     "output_type": "stream",
     "text": [
      "Broadeners \t:  Default \t Air \t Self \t H2 \t He \t CO2\n",
      "Ratios \t\t:  1.0 \t\t 0.0 \t 0.0 \t 0.0 \t 0.0 \t 0.0\n",
      "Gaussion profile\n",
      "Running time on CPU       : 74.15274260000001 s\n",
      "Running time on system    : 16.26860213279724 s\n",
      "Calculate cross-sections.\n"
     ]
    },
    {
     "name": "stderr",
     "output_type": "stream",
     "text": [
      "100%|██████████| 1/1 [00:00<00:00,  5.38it/s]\n"
     ]
    },
    {
     "name": "stdout",
     "output_type": "stream",
     "text": [
      "Broadeners \t:  Default \t Air \t Self \t H2 \t He \t CO2\n",
      "Ratios \t\t:  1.0 \t\t 0.0 \t 0.0 \t 0.0 \t 0.0 \t 0.0\n",
      "Gaussion profile\n",
      "Running time on CPU       : 73.855298377 s\n",
      "Running time on system    : 16.18827748298645 s\n",
      "Calculate cross-sections.\n"
     ]
    },
    {
     "name": "stderr",
     "output_type": "stream",
     "text": [
      "100%|██████████| 1/1 [00:00<00:00,  5.32it/s]\n"
     ]
    },
    {
     "name": "stdout",
     "output_type": "stream",
     "text": [
      "Broadeners \t:  Default \t Air \t Self \t H2 \t He \t CO2\n",
      "Ratios \t\t:  1.0 \t\t 0.0 \t 0.0 \t 0.0 \t 0.0 \t 0.0\n",
      "Gaussion profile\n",
      "Running time on CPU       : 73.93473986900003 s\n",
      "Running time on system    : 16.205774545669556 s\n",
      "Calculate cross-sections.\n"
     ]
    },
    {
     "name": "stderr",
     "output_type": "stream",
     "text": [
      "100%|██████████| 1/1 [00:00<00:00,  5.56it/s]\n"
     ]
    },
    {
     "name": "stdout",
     "output_type": "stream",
     "text": [
      "Broadeners \t:  Default \t Air \t Self \t H2 \t He \t CO2\n",
      "Ratios \t\t:  1.0 \t\t 0.0 \t 0.0 \t 0.0 \t 0.0 \t 0.0\n",
      "Gaussion profile\n",
      "Running time on CPU       : 74.03712372500001 s\n",
      "Running time on system    : 16.243358850479126 s\n",
      "Calculate cross-sections.\n"
     ]
    },
    {
     "name": "stderr",
     "output_type": "stream",
     "text": [
      "100%|██████████| 1/1 [00:00<00:00,  5.42it/s]\n"
     ]
    },
    {
     "name": "stdout",
     "output_type": "stream",
     "text": [
      "Broadeners \t:  Default \t Air \t Self \t H2 \t He \t CO2\n",
      "Ratios \t\t:  1.0 \t\t 0.0 \t 0.0 \t 0.0 \t 0.0 \t 0.0\n",
      "Gaussion profile\n",
      "Running time on CPU       : 74.05371434599999 s\n",
      "Running time on system    : 16.207843780517578 s\n",
      "Calculate cross-sections.\n"
     ]
    },
    {
     "name": "stderr",
     "output_type": "stream",
     "text": [
      "100%|██████████| 1/1 [00:00<00:00,  5.53it/s]\n"
     ]
    },
    {
     "name": "stdout",
     "output_type": "stream",
     "text": [
      "Broadeners \t:  Default \t Air \t Self \t H2 \t He \t CO2\n",
      "Ratios \t\t:  1.0 \t\t 0.0 \t 0.0 \t 0.0 \t 0.0 \t 0.0\n",
      "Gaussion profile\n",
      "Running time on CPU       : 73.91853892999995 s\n",
      "Running time on system    : 16.215068578720093 s\n",
      "Calculate cross-sections.\n"
     ]
    },
    {
     "name": "stderr",
     "output_type": "stream",
     "text": [
      "100%|██████████| 1/1 [00:00<00:00,  5.45it/s]\n"
     ]
    },
    {
     "name": "stdout",
     "output_type": "stream",
     "text": [
      "Broadeners \t:  Default \t Air \t Self \t H2 \t He \t CO2\n",
      "Ratios \t\t:  1.0 \t\t 0.0 \t 0.0 \t 0.0 \t 0.0 \t 0.0\n",
      "Gaussion profile\n",
      "Running time on CPU       : 73.73675941400006 s\n",
      "Running time on system    : 16.176230430603027 s\n",
      "Calculate cross-sections.\n"
     ]
    },
    {
     "name": "stderr",
     "output_type": "stream",
     "text": [
      "100%|██████████| 1/1 [00:00<00:00,  5.54it/s]\n"
     ]
    },
    {
     "name": "stdout",
     "output_type": "stream",
     "text": [
      "Broadeners \t:  Default \t Air \t Self \t H2 \t He \t CO2\n",
      "Ratios \t\t:  1.0 \t\t 0.0 \t 0.0 \t 0.0 \t 0.0 \t 0.0\n",
      "Gaussion profile\n",
      "Running time on CPU       : 74.02929404899999 s\n",
      "Running time on system    : 16.106584548950195 s\n"
     ]
    }
   ],
   "source": [
    "xsecg1, tg1 = get_crosssection(10, 1, 'Gaussian')\n",
    "xsecg2, tg2 = get_crosssection(100, 1, 'Gaussian')\n",
    "xsecg3, tg3 = get_crosssection(200, 1, 'Gaussian')\n",
    "xsecg4, tg4 = get_crosssection(300, 1, 'Gaussian')\n",
    "xsecg5, tg5 = get_crosssection(100, 0.5, 'Gaussian')\n",
    "xsecg6, tg6 = get_crosssection(100, 1, 'Gaussian')\n",
    "xsecg7, tg7 = get_crosssection(100, 2, 'Gaussian')\n",
    "xsecg8, tg8 = get_crosssection(100, 5, 'Gaussian')"
   ]
  },
  {
   "cell_type": "code",
   "execution_count": 71,
   "metadata": {},
   "outputs": [
    {
     "name": "stdout",
     "output_type": "stream",
     "text": [
      "Calculate cross-sections.\n"
     ]
    },
    {
     "name": "stderr",
     "output_type": "stream",
     "text": [
      "100%|██████████| 1/1 [00:00<00:00,  5.49it/s]\n"
     ]
    },
    {
     "name": "stdout",
     "output_type": "stream",
     "text": [
      "Broadeners \t:  Default \t Air \t Self \t H2 \t He \t CO2\n",
      "Ratios \t\t:  1.0 \t\t 0.0 \t 0.0 \t 0.0 \t 0.0 \t 0.0\n",
      "Lorentzian profile\n",
      "Running time on CPU       : 29.662034928000026 s\n",
      "Running time on system    : 10.291014671325684 s\n",
      "Calculate cross-sections.\n"
     ]
    },
    {
     "name": "stderr",
     "output_type": "stream",
     "text": [
      "100%|██████████| 1/1 [00:00<00:00,  5.47it/s]\n"
     ]
    },
    {
     "name": "stdout",
     "output_type": "stream",
     "text": [
      "Broadeners \t:  Default \t Air \t Self \t H2 \t He \t CO2\n",
      "Ratios \t\t:  1.0 \t\t 0.0 \t 0.0 \t 0.0 \t 0.0 \t 0.0\n",
      "Lorentzian profile\n",
      "Running time on CPU       : 30.113983534 s\n",
      "Running time on system    : 10.416703462600708 s\n",
      "Calculate cross-sections.\n"
     ]
    },
    {
     "name": "stderr",
     "output_type": "stream",
     "text": [
      "100%|██████████| 1/1 [00:00<00:00,  5.50it/s]\n"
     ]
    },
    {
     "name": "stdout",
     "output_type": "stream",
     "text": [
      "Broadeners \t:  Default \t Air \t Self \t H2 \t He \t CO2\n",
      "Ratios \t\t:  1.0 \t\t 0.0 \t 0.0 \t 0.0 \t 0.0 \t 0.0\n",
      "Lorentzian profile\n",
      "Running time on CPU       : 29.635091146000036 s\n",
      "Running time on system    : 10.392810344696045 s\n",
      "Calculate cross-sections.\n"
     ]
    },
    {
     "name": "stderr",
     "output_type": "stream",
     "text": [
      "100%|██████████| 1/1 [00:00<00:00,  5.43it/s]\n"
     ]
    },
    {
     "name": "stdout",
     "output_type": "stream",
     "text": [
      "Broadeners \t:  Default \t Air \t Self \t H2 \t He \t CO2\n",
      "Ratios \t\t:  1.0 \t\t 0.0 \t 0.0 \t 0.0 \t 0.0 \t 0.0\n",
      "Lorentzian profile\n",
      "Running time on CPU       : 29.793598707 s\n",
      "Running time on system    : 10.457988262176514 s\n",
      "Calculate cross-sections.\n"
     ]
    },
    {
     "name": "stderr",
     "output_type": "stream",
     "text": [
      "100%|██████████| 1/1 [00:00<00:00,  5.49it/s]\n"
     ]
    },
    {
     "name": "stdout",
     "output_type": "stream",
     "text": [
      "Broadeners \t:  Default \t Air \t Self \t H2 \t He \t CO2\n",
      "Ratios \t\t:  1.0 \t\t 0.0 \t 0.0 \t 0.0 \t 0.0 \t 0.0\n",
      "Lorentzian profile\n",
      "Running time on CPU       : 29.493228167999973 s\n",
      "Running time on system    : 10.367176294326782 s\n",
      "Calculate cross-sections.\n"
     ]
    },
    {
     "name": "stderr",
     "output_type": "stream",
     "text": [
      "100%|██████████| 1/1 [00:00<00:00,  5.48it/s]\n"
     ]
    },
    {
     "name": "stdout",
     "output_type": "stream",
     "text": [
      "Broadeners \t:  Default \t Air \t Self \t H2 \t He \t CO2\n",
      "Ratios \t\t:  1.0 \t\t 0.0 \t 0.0 \t 0.0 \t 0.0 \t 0.0\n",
      "Lorentzian profile\n",
      "Running time on CPU       : 29.901736035 s\n",
      "Running time on system    : 10.59749150276184 s\n",
      "Calculate cross-sections.\n"
     ]
    },
    {
     "name": "stderr",
     "output_type": "stream",
     "text": [
      "100%|██████████| 1/1 [00:00<00:00,  5.47it/s]\n"
     ]
    },
    {
     "name": "stdout",
     "output_type": "stream",
     "text": [
      "Broadeners \t:  Default \t Air \t Self \t H2 \t He \t CO2\n",
      "Ratios \t\t:  1.0 \t\t 0.0 \t 0.0 \t 0.0 \t 0.0 \t 0.0\n",
      "Lorentzian profile\n",
      "Running time on CPU       : 29.986503196000058 s\n",
      "Running time on system    : 10.706470727920532 s\n",
      "Calculate cross-sections.\n"
     ]
    },
    {
     "name": "stderr",
     "output_type": "stream",
     "text": [
      "100%|██████████| 1/1 [00:00<00:00,  5.49it/s]\n"
     ]
    },
    {
     "name": "stdout",
     "output_type": "stream",
     "text": [
      "Broadeners \t:  Default \t Air \t Self \t H2 \t He \t CO2\n",
      "Ratios \t\t:  1.0 \t\t 0.0 \t 0.0 \t 0.0 \t 0.0 \t 0.0\n",
      "Lorentzian profile\n",
      "Running time on CPU       : 30.052329709000105 s\n",
      "Running time on system    : 10.498370885848999 s\n"
     ]
    }
   ],
   "source": [
    "xsecl1, tl1 = get_crosssection(10, 1, 'Lorentzian')\n",
    "xsecl2, tl2 = get_crosssection(100, 1, 'Lorentzian')\n",
    "xsecl3, tl3 = get_crosssection(200, 1, 'Lorentzian')\n",
    "xsecl4, tl4 = get_crosssection(300, 1, 'Lorentzian')\n",
    "xsecl5, tl5 = get_crosssection(100, 0.5, 'Lorentzian')\n",
    "xsecl6, tl6 = get_crosssection(100, 1, 'Lorentzian')\n",
    "xsecl7, tl7 = get_crosssection(100, 2, 'Lorentzian')\n",
    "xsecl8, tl8 = get_crosssection(100, 5, 'Lorentzian')"
   ]
  },
  {
   "cell_type": "code",
   "execution_count": 258,
   "metadata": {},
   "outputs": [
    {
     "name": "stdout",
     "output_type": "stream",
     "text": [
      "Calculate cross-sections.\n"
     ]
    },
    {
     "name": "stderr",
     "output_type": "stream",
     "text": [
      "100%|██████████| 1/1 [00:00<00:00,  5.43it/s]\n"
     ]
    },
    {
     "name": "stdout",
     "output_type": "stream",
     "text": [
      "Broadeners \t:  Default \t Air \t Self \t H2 \t He \t CO2\n",
      "Ratios \t\t:  1.0 \t\t 0.0 \t 0.0 \t 0.0 \t 0.0 \t 0.0\n",
      "SciPy Voigt profile\n",
      "Running time on system    : 75.43884038925171 s\n",
      "Calculate cross-sections.\n"
     ]
    },
    {
     "name": "stderr",
     "output_type": "stream",
     "text": [
      "100%|██████████| 1/1 [00:00<00:00,  5.35it/s]\n"
     ]
    },
    {
     "name": "stdout",
     "output_type": "stream",
     "text": [
      "Broadeners \t:  Default \t Air \t Self \t H2 \t He \t CO2\n",
      "Ratios \t\t:  1.0 \t\t 0.0 \t 0.0 \t 0.0 \t 0.0 \t 0.0\n",
      "SciPy Voigt profile\n",
      "Running time on system    : 75.43185901641846 s\n",
      "Calculate cross-sections.\n"
     ]
    },
    {
     "name": "stderr",
     "output_type": "stream",
     "text": [
      "100%|██████████| 1/1 [00:00<00:00,  5.39it/s]\n"
     ]
    },
    {
     "name": "stdout",
     "output_type": "stream",
     "text": [
      "Broadeners \t:  Default \t Air \t Self \t H2 \t He \t CO2\n",
      "Ratios \t\t:  1.0 \t\t 0.0 \t 0.0 \t 0.0 \t 0.0 \t 0.0\n",
      "SciPy Voigt profile\n",
      "Running time on system    : 75.45734453201294 s\n",
      "Calculate cross-sections.\n"
     ]
    },
    {
     "name": "stderr",
     "output_type": "stream",
     "text": [
      "100%|██████████| 1/1 [00:00<00:00,  5.38it/s]\n"
     ]
    },
    {
     "name": "stdout",
     "output_type": "stream",
     "text": [
      "Broadeners \t:  Default \t Air \t Self \t H2 \t He \t CO2\n",
      "Ratios \t\t:  1.0 \t\t 0.0 \t 0.0 \t 0.0 \t 0.0 \t 0.0\n",
      "SciPy Voigt profile\n",
      "Running time on system    : 74.16699147224426 s\n",
      "Calculate cross-sections.\n"
     ]
    },
    {
     "name": "stderr",
     "output_type": "stream",
     "text": [
      "100%|██████████| 1/1 [00:00<00:00,  5.48it/s]\n"
     ]
    },
    {
     "name": "stdout",
     "output_type": "stream",
     "text": [
      "Broadeners \t:  Default \t Air \t Self \t H2 \t He \t CO2\n",
      "Ratios \t\t:  1.0 \t\t 0.0 \t 0.0 \t 0.0 \t 0.0 \t 0.0\n",
      "SciPy wofz Voigt profile\n",
      "Running time on system    : 83.10909056663513 s\n",
      "Calculate cross-sections.\n"
     ]
    },
    {
     "name": "stderr",
     "output_type": "stream",
     "text": [
      "100%|██████████| 1/1 [00:00<00:00,  5.38it/s]\n"
     ]
    },
    {
     "name": "stdout",
     "output_type": "stream",
     "text": [
      "Broadeners \t:  Default \t Air \t Self \t H2 \t He \t CO2\n",
      "Ratios \t\t:  1.0 \t\t 0.0 \t 0.0 \t 0.0 \t 0.0 \t 0.0\n",
      "SciPy wofz Voigt profile\n",
      "Running time on system    : 83.55652666091919 s\n",
      "Calculate cross-sections.\n"
     ]
    },
    {
     "name": "stderr",
     "output_type": "stream",
     "text": [
      "100%|██████████| 1/1 [00:00<00:00,  5.40it/s]\n"
     ]
    },
    {
     "name": "stdout",
     "output_type": "stream",
     "text": [
      "Broadeners \t:  Default \t Air \t Self \t H2 \t He \t CO2\n",
      "Ratios \t\t:  1.0 \t\t 0.0 \t 0.0 \t 0.0 \t 0.0 \t 0.0\n",
      "SciPy wofz Voigt profile\n",
      "Running time on system    : 83.07344102859497 s\n",
      "Calculate cross-sections.\n"
     ]
    },
    {
     "name": "stderr",
     "output_type": "stream",
     "text": [
      "100%|██████████| 1/1 [00:00<00:00,  5.39it/s]\n"
     ]
    },
    {
     "name": "stdout",
     "output_type": "stream",
     "text": [
      "Broadeners \t:  Default \t Air \t Self \t H2 \t He \t CO2\n",
      "Ratios \t\t:  1.0 \t\t 0.0 \t 0.0 \t 0.0 \t 0.0 \t 0.0\n",
      "SciPy wofz Voigt profile\n",
      "Running time on system    : 82.56499409675598 s\n",
      "Calculate cross-sections.\n"
     ]
    },
    {
     "name": "stderr",
     "output_type": "stream",
     "text": [
      "100%|██████████| 1/1 [00:00<00:00,  5.40it/s]\n"
     ]
    },
    {
     "name": "stdout",
     "output_type": "stream",
     "text": [
      "Broadeners \t:  Default \t Air \t Self \t H2 \t He \t CO2\n",
      "Ratios \t\t:  1.0 \t\t 0.0 \t 0.0 \t 0.0 \t 0.0 \t 0.0\n",
      "Pseudo Voigt profile\n",
      "Running time on system    : 26.53948140144348 s\n",
      "Calculate cross-sections.\n"
     ]
    },
    {
     "name": "stderr",
     "output_type": "stream",
     "text": [
      "100%|██████████| 1/1 [00:00<00:00,  5.45it/s]\n"
     ]
    },
    {
     "name": "stdout",
     "output_type": "stream",
     "text": [
      "Broadeners \t:  Default \t Air \t Self \t H2 \t He \t CO2\n",
      "Ratios \t\t:  1.0 \t\t 0.0 \t 0.0 \t 0.0 \t 0.0 \t 0.0\n",
      "Pseudo Voigt profile\n",
      "Running time on system    : 26.580488681793213 s\n",
      "Calculate cross-sections.\n"
     ]
    },
    {
     "name": "stderr",
     "output_type": "stream",
     "text": [
      "100%|██████████| 1/1 [00:00<00:00,  5.35it/s]\n"
     ]
    },
    {
     "name": "stdout",
     "output_type": "stream",
     "text": [
      "Broadeners \t:  Default \t Air \t Self \t H2 \t He \t CO2\n",
      "Ratios \t\t:  1.0 \t\t 0.0 \t 0.0 \t 0.0 \t 0.0 \t 0.0\n",
      "Pseudo Voigt profile\n",
      "Running time on system    : 26.816868543624878 s\n",
      "Calculate cross-sections.\n"
     ]
    },
    {
     "name": "stderr",
     "output_type": "stream",
     "text": [
      "100%|██████████| 1/1 [00:00<00:00,  5.44it/s]\n"
     ]
    },
    {
     "name": "stdout",
     "output_type": "stream",
     "text": [
      "Broadeners \t:  Default \t Air \t Self \t H2 \t He \t CO2\n",
      "Ratios \t\t:  1.0 \t\t 0.0 \t 0.0 \t 0.0 \t 0.0 \t 0.0\n",
      "Pseudo Voigt profile\n",
      "Running time on system    : 25.66975474357605 s\n",
      "Calculate cross-sections.\n"
     ]
    },
    {
     "name": "stderr",
     "output_type": "stream",
     "text": [
      "100%|██████████| 1/1 [00:00<00:00,  5.32it/s]\n"
     ]
    },
    {
     "name": "stdout",
     "output_type": "stream",
     "text": [
      "Broadeners \t:  Default \t Air \t Self \t H2 \t He \t CO2\n",
      "Ratios \t\t:  1.0 \t\t 0.0 \t 0.0 \t 0.0 \t 0.0 \t 0.0\n",
      "Kielkopf Pseudo Voigt profile\n",
      "Running time on system    : 24.570016145706177 s\n",
      "Calculate cross-sections.\n"
     ]
    },
    {
     "name": "stderr",
     "output_type": "stream",
     "text": [
      "100%|██████████| 1/1 [00:00<00:00,  5.46it/s]\n"
     ]
    },
    {
     "name": "stdout",
     "output_type": "stream",
     "text": [
      "Broadeners \t:  Default \t Air \t Self \t H2 \t He \t CO2\n",
      "Ratios \t\t:  1.0 \t\t 0.0 \t 0.0 \t 0.0 \t 0.0 \t 0.0\n",
      "Kielkopf Pseudo Voigt profile\n",
      "Running time on system    : 26.077322483062744 s\n",
      "Calculate cross-sections.\n"
     ]
    },
    {
     "name": "stderr",
     "output_type": "stream",
     "text": [
      "100%|██████████| 1/1 [00:00<00:00,  5.40it/s]\n"
     ]
    },
    {
     "name": "stdout",
     "output_type": "stream",
     "text": [
      "Broadeners \t:  Default \t Air \t Self \t H2 \t He \t CO2\n",
      "Ratios \t\t:  1.0 \t\t 0.0 \t 0.0 \t 0.0 \t 0.0 \t 0.0\n",
      "Kielkopf Pseudo Voigt profile\n",
      "Running time on system    : 24.9369056224823 s\n",
      "Calculate cross-sections.\n"
     ]
    },
    {
     "name": "stderr",
     "output_type": "stream",
     "text": [
      "100%|██████████| 1/1 [00:00<00:00,  5.49it/s]\n"
     ]
    },
    {
     "name": "stdout",
     "output_type": "stream",
     "text": [
      "Broadeners \t:  Default \t Air \t Self \t H2 \t He \t CO2\n",
      "Ratios \t\t:  1.0 \t\t 0.0 \t 0.0 \t 0.0 \t 0.0 \t 0.0\n",
      "Kielkopf Pseudo Voigt profile\n",
      "Running time on system    : 27.75916075706482 s\n",
      "Calculate cross-sections.\n"
     ]
    },
    {
     "name": "stderr",
     "output_type": "stream",
     "text": [
      "100%|██████████| 1/1 [00:00<00:00,  5.38it/s]\n"
     ]
    },
    {
     "name": "stdout",
     "output_type": "stream",
     "text": [
      "Broadeners \t:  Default \t Air \t Self \t H2 \t He \t CO2\n",
      "Ratios \t\t:  1.0 \t\t 0.0 \t 0.0 \t 0.0 \t 0.0 \t 0.0\n",
      "Olivero Pseudo Voigt profile\n",
      "Running time on system    : 27.771569967269897 s\n",
      "Calculate cross-sections.\n"
     ]
    },
    {
     "name": "stderr",
     "output_type": "stream",
     "text": [
      "100%|██████████| 1/1 [00:00<00:00,  5.47it/s]\n"
     ]
    },
    {
     "name": "stdout",
     "output_type": "stream",
     "text": [
      "Broadeners \t:  Default \t Air \t Self \t H2 \t He \t CO2\n",
      "Ratios \t\t:  1.0 \t\t 0.0 \t 0.0 \t 0.0 \t 0.0 \t 0.0\n",
      "Olivero Pseudo Voigt profile\n",
      "Running time on system    : 24.93288826942444 s\n",
      "Calculate cross-sections.\n"
     ]
    },
    {
     "name": "stderr",
     "output_type": "stream",
     "text": [
      "100%|██████████| 1/1 [00:00<00:00,  5.39it/s]\n"
     ]
    },
    {
     "name": "stdout",
     "output_type": "stream",
     "text": [
      "Broadeners \t:  Default \t Air \t Self \t H2 \t He \t CO2\n",
      "Ratios \t\t:  1.0 \t\t 0.0 \t 0.0 \t 0.0 \t 0.0 \t 0.0\n",
      "Olivero Pseudo Voigt profile\n",
      "Running time on system    : 25.77469229698181 s\n",
      "Calculate cross-sections.\n"
     ]
    },
    {
     "name": "stderr",
     "output_type": "stream",
     "text": [
      "100%|██████████| 1/1 [00:00<00:00,  5.46it/s]\n"
     ]
    },
    {
     "name": "stdout",
     "output_type": "stream",
     "text": [
      "Broadeners \t:  Default \t Air \t Self \t H2 \t He \t CO2\n",
      "Ratios \t\t:  1.0 \t\t 0.0 \t 0.0 \t 0.0 \t 0.0 \t 0.0\n",
      "Olivero Pseudo Voigt profile\n",
      "Running time on system    : 26.44551730155945 s\n",
      "Calculate cross-sections.\n"
     ]
    },
    {
     "name": "stderr",
     "output_type": "stream",
     "text": [
      "100%|██████████| 1/1 [00:00<00:00,  5.46it/s]\n"
     ]
    },
    {
     "name": "stdout",
     "output_type": "stream",
     "text": [
      "Broadeners \t:  Default \t Air \t Self \t H2 \t He \t CO2\n",
      "Ratios \t\t:  1.0 \t\t 0.0 \t 0.0 \t 0.0 \t 0.0 \t 0.0\n",
      "Liu-Lin Pseudo Voigt profile\n",
      "Running time on system    : 27.004369020462036 s\n",
      "Calculate cross-sections.\n"
     ]
    },
    {
     "name": "stderr",
     "output_type": "stream",
     "text": [
      "100%|██████████| 1/1 [00:00<00:00,  5.45it/s]\n"
     ]
    },
    {
     "name": "stdout",
     "output_type": "stream",
     "text": [
      "Broadeners \t:  Default \t Air \t Self \t H2 \t He \t CO2\n",
      "Ratios \t\t:  1.0 \t\t 0.0 \t 0.0 \t 0.0 \t 0.0 \t 0.0\n",
      "Liu-Lin Pseudo Voigt profile\n",
      "Running time on system    : 25.75240135192871 s\n",
      "Calculate cross-sections.\n"
     ]
    },
    {
     "name": "stderr",
     "output_type": "stream",
     "text": [
      "100%|██████████| 1/1 [00:00<00:00,  5.34it/s]\n"
     ]
    },
    {
     "name": "stdout",
     "output_type": "stream",
     "text": [
      "Broadeners \t:  Default \t Air \t Self \t H2 \t He \t CO2\n",
      "Ratios \t\t:  1.0 \t\t 0.0 \t 0.0 \t 0.0 \t 0.0 \t 0.0\n",
      "Liu-Lin Pseudo Voigt profile\n",
      "Running time on system    : 25.030826091766357 s\n",
      "Calculate cross-sections.\n"
     ]
    },
    {
     "name": "stderr",
     "output_type": "stream",
     "text": [
      "100%|██████████| 1/1 [00:00<00:00,  5.43it/s]\n"
     ]
    },
    {
     "name": "stdout",
     "output_type": "stream",
     "text": [
      "Broadeners \t:  Default \t Air \t Self \t H2 \t He \t CO2\n",
      "Ratios \t\t:  1.0 \t\t 0.0 \t 0.0 \t 0.0 \t 0.0 \t 0.0\n",
      "Liu-Lin Pseudo Voigt profile\n",
      "Running time on system    : 24.66801118850708 s\n",
      "Calculate cross-sections.\n"
     ]
    },
    {
     "name": "stderr",
     "output_type": "stream",
     "text": [
      "100%|██████████| 1/1 [00:00<00:00,  5.45it/s]\n"
     ]
    },
    {
     "name": "stdout",
     "output_type": "stream",
     "text": [
      "Broadeners \t:  Default \t Air \t Self \t H2 \t He \t CO2\n",
      "Ratios \t\t:  1.0 \t\t 0.0 \t 0.0 \t 0.0 \t 0.0 \t 0.0\n",
      "Rocco Pseudo Voigt profile\n",
      "Running time on system    : 27.26176929473877 s\n",
      "Calculate cross-sections.\n"
     ]
    },
    {
     "name": "stderr",
     "output_type": "stream",
     "text": [
      "100%|██████████| 1/1 [00:00<00:00,  5.43it/s]\n"
     ]
    },
    {
     "name": "stdout",
     "output_type": "stream",
     "text": [
      "Broadeners \t:  Default \t Air \t Self \t H2 \t He \t CO2\n",
      "Ratios \t\t:  1.0 \t\t 0.0 \t 0.0 \t 0.0 \t 0.0 \t 0.0\n",
      "Rocco Pseudo Voigt profile\n",
      "Running time on system    : 27.146414518356323 s\n",
      "Calculate cross-sections.\n"
     ]
    },
    {
     "name": "stderr",
     "output_type": "stream",
     "text": [
      "100%|██████████| 1/1 [00:00<00:00,  5.35it/s]\n"
     ]
    },
    {
     "name": "stdout",
     "output_type": "stream",
     "text": [
      "Broadeners \t:  Default \t Air \t Self \t H2 \t He \t CO2\n",
      "Ratios \t\t:  1.0 \t\t 0.0 \t 0.0 \t 0.0 \t 0.0 \t 0.0\n",
      "Rocco Pseudo Voigt profile\n",
      "Running time on system    : 26.960086584091187 s\n",
      "Calculate cross-sections.\n"
     ]
    },
    {
     "name": "stderr",
     "output_type": "stream",
     "text": [
      "100%|██████████| 1/1 [00:00<00:00,  5.47it/s]\n"
     ]
    },
    {
     "name": "stdout",
     "output_type": "stream",
     "text": [
      "Broadeners \t:  Default \t Air \t Self \t H2 \t He \t CO2\n",
      "Ratios \t\t:  1.0 \t\t 0.0 \t 0.0 \t 0.0 \t 0.0 \t 0.0\n",
      "Rocco Pseudo Voigt profile\n",
      "Running time on system    : 27.614415645599365 s\n"
     ]
    }
   ],
   "source": [
    "profile = 'SciPyVoigt'\n",
    "#xsecs1, ts1 = get_crosssection(10, 1, profile)\n",
    "#xsecs2, ts2 = get_crosssection(100, 1, profile)\n",
    "#xsecs3, ts3 = get_crosssection(200, 1, profile)\n",
    "#xsecs4, ts4 = get_crosssection(300, 1, profile)\n",
    "xsecs5, ts5 = get_crosssection(100, 0.5, profile)\n",
    "xsecs6, ts6 = get_crosssection(100, 1, profile)\n",
    "xsecs7, ts7 = get_crosssection(100, 2, profile)\n",
    "xsecs8, ts8 = get_crosssection(100, 5, profile)\n",
    "\n",
    "profile = 'SciPyWofzVoigt'\n",
    "#xsecsw1, tsw1 = get_crosssection(10, 1, profile)\n",
    "#xsecsw2, tsw2 = get_crosssection(100, 1, profile)\n",
    "#xsecsw3, tsw3 = get_crosssection(200, 1, profile)\n",
    "#xsecsw4, tsw4 = get_crosssection(300, 1, profile)\n",
    "xsecsw5, tsw5 = get_crosssection(100, 0.5, profile)\n",
    "xsecsw6, tsw6 = get_crosssection(100, 1, profile)\n",
    "xsecsw7, tsw7 = get_crosssection(100, 2, profile)\n",
    "xsecsw8, tsw8 = get_crosssection(100, 5, profile)\n",
    "\n",
    "profile = 'PseudoVoigt'\n",
    "#xsecp1, tp1 = get_crosssection(10, 1, profile)\n",
    "#xsecp2, tp2 = get_crosssection(100, 1, profile)\n",
    "#xsecp3, tp3 = get_crosssection(200, 1, profile)\n",
    "#xsecp4, tp4 = get_crosssection(300, 1, profile)\n",
    "xsecp5, tp5 = get_crosssection(100, 0.5, profile)\n",
    "xsecp6, tp6 = get_crosssection(100, 1, profile)\n",
    "xsecp7, tp7 = get_crosssection(100, 2, profile)\n",
    "xsecp8, tp8 = get_crosssection(100, 5, profile)\n",
    "\n",
    "profile = 'PseudoKielkopfVoigt'\n",
    "#xsecpk1, tpk1 = get_crosssection(10, 1, profile)\n",
    "#xsecpk2, tpk2 = get_crosssection(100, 1, profile)\n",
    "#xsecpk3, tpk3 = get_crosssection(200, 1, profile)\n",
    "#xsecpk4, tpk4 = get_crosssection(300, 1, profile)\n",
    "xsecpk5, tpk5 = get_crosssection(100, 0.5, profile)\n",
    "xsecpk6, tpk6 = get_crosssection(100, 1, profile)\n",
    "xsecpk7, tpk7 = get_crosssection(100, 2, profile)\n",
    "xsecpk8, tpk8 = get_crosssection(100, 5, profile)\n",
    "\n",
    "profile = 'PseudoOliveroVoigt'\n",
    "#xsecpo1, tpo1 = get_crosssection(10, 1, profile)\n",
    "#xsecpo2, tpo2 = get_crosssection(100, 1, profile)\n",
    "#xsecpo3, tpo3 = get_crosssection(200, 1, profile)\n",
    "#xsecpo4, tpo4 = get_crosssection(300, 1, profile)\n",
    "xsecpo5, tpo5 = get_crosssection(100, 0.5, profile)\n",
    "xsecpo6, tpo6 = get_crosssection(100, 1, profile)\n",
    "xsecpo7, tpo7 = get_crosssection(100, 2, profile)\n",
    "xsecpo8, tpo8 = get_crosssection(100, 5, profile)\n",
    "\n",
    "profile = 'PseudoLiuLinVoigt'\n",
    "#xsecpl1, tpl1 = get_crosssection(10, 1, profile)\n",
    "#xsecpl2, tpl2 = get_crosssection(100, 1, profile)\n",
    "#xsecpl3, tpl3 = get_crosssection(200, 1, profile)\n",
    "#xsecpl4, tpl4 = get_crosssection(300, 1, profile)\n",
    "xsecpl5, tpl5 = get_crosssection(100, 0.5, profile)\n",
    "xsecpl6, tpl6 = get_crosssection(100, 1, profile)\n",
    "xsecpl7, tpl7 = get_crosssection(100, 2, profile)\n",
    "xsecpl8, tpl8 = get_crosssection(100, 5, profile)\n",
    "\n",
    "profile = 'PseudoRoccoVoigt'\n",
    "#xsecpr1, tpr1 = get_crosssection(10, 1, profile)\n",
    "#xsecpr2, tpr2 = get_crosssection(100, 1, profile)\n",
    "#xsecpr3, tpr3 = get_crosssection(200, 1, profile)\n",
    "#xsecpr4, tpr4 = get_crosssection(300, 1, profile)\n",
    "xsecpr5, tpr5 = get_crosssection(100, 0.5, profile)\n",
    "xsecpr6, tpr6 = get_crosssection(100, 1, profile)\n",
    "xsecpr7, tpr7 = get_crosssection(100, 2, profile)\n",
    "xsecpr8, tpr8 = get_crosssection(100, 5, profile)\n",
    "\n"
   ]
  },
  {
   "cell_type": "code",
   "execution_count": 76,
   "metadata": {},
   "outputs": [
    {
     "name": "stdout",
     "output_type": "stream",
     "text": [
      "Calculate cross-sections.\n"
     ]
    },
    {
     "name": "stderr",
     "output_type": "stream",
     "text": [
      "100%|██████████| 1/1 [00:00<00:00,  5.31it/s]\n"
     ]
    },
    {
     "name": "stdout",
     "output_type": "stream",
     "text": [
      "Broadeners \t:  Default \t Air \t Self \t H2 \t He \t CO2\n",
      "Ratios \t\t:  1.0 \t\t 0.0 \t 0.0 \t 0.0 \t 0.0 \t 0.0\n",
      "Binned Gaussion profile\n",
      "Running time on CPU       : 188.61132873400038 s\n",
      "Running time on system    : 133.04680013656616 s\n",
      "Calculate cross-sections.\n"
     ]
    },
    {
     "name": "stderr",
     "output_type": "stream",
     "text": [
      "100%|██████████| 1/1 [00:00<00:00,  5.42it/s]\n"
     ]
    },
    {
     "name": "stdout",
     "output_type": "stream",
     "text": [
      "Broadeners \t:  Default \t Air \t Self \t H2 \t He \t CO2\n",
      "Ratios \t\t:  1.0 \t\t 0.0 \t 0.0 \t 0.0 \t 0.0 \t 0.0\n",
      "Binned Gaussion profile\n",
      "Running time on CPU       : 175.9980795749998 s\n",
      "Running time on system    : 120.55622816085815 s\n",
      "Calculate cross-sections.\n"
     ]
    },
    {
     "name": "stderr",
     "output_type": "stream",
     "text": [
      "100%|██████████| 1/1 [00:00<00:00,  5.51it/s]\n"
     ]
    },
    {
     "name": "stdout",
     "output_type": "stream",
     "text": [
      "Broadeners \t:  Default \t Air \t Self \t H2 \t He \t CO2\n",
      "Ratios \t\t:  1.0 \t\t 0.0 \t 0.0 \t 0.0 \t 0.0 \t 0.0\n",
      "Binned Gaussion profile\n",
      "Running time on CPU       : 171.3360543939998 s\n",
      "Running time on system    : 114.9185528755188 s\n",
      "Calculate cross-sections.\n"
     ]
    },
    {
     "name": "stderr",
     "output_type": "stream",
     "text": [
      "100%|██████████| 1/1 [00:00<00:00,  5.47it/s]\n"
     ]
    },
    {
     "name": "stdout",
     "output_type": "stream",
     "text": [
      "Broadeners \t:  Default \t Air \t Self \t H2 \t He \t CO2\n",
      "Ratios \t\t:  1.0 \t\t 0.0 \t 0.0 \t 0.0 \t 0.0 \t 0.0\n",
      "Binned Gaussion profile\n",
      "Running time on CPU       : 183.90428400599922 s\n",
      "Running time on system    : 123.73405480384827 s\n",
      "Calculate cross-sections.\n"
     ]
    },
    {
     "name": "stderr",
     "output_type": "stream",
     "text": [
      "100%|██████████| 1/1 [00:00<00:00,  5.45it/s]\n"
     ]
    },
    {
     "name": "stdout",
     "output_type": "stream",
     "text": [
      "Broadeners \t:  Default \t Air \t Self \t H2 \t He \t CO2\n",
      "Ratios \t\t:  1.0 \t\t 0.0 \t 0.0 \t 0.0 \t 0.0 \t 0.0\n",
      "Binned Gaussion profile\n",
      "Running time on CPU       : 213.7651163899991 s\n",
      "Running time on system    : 152.13509321212769 s\n",
      "Calculate cross-sections.\n"
     ]
    },
    {
     "name": "stderr",
     "output_type": "stream",
     "text": [
      "100%|██████████| 1/1 [00:00<00:00,  5.47it/s]\n"
     ]
    },
    {
     "name": "stdout",
     "output_type": "stream",
     "text": [
      "Broadeners \t:  Default \t Air \t Self \t H2 \t He \t CO2\n",
      "Ratios \t\t:  1.0 \t\t 0.0 \t 0.0 \t 0.0 \t 0.0 \t 0.0\n",
      "Binned Gaussion profile\n",
      "Running time on CPU       : 189.4573704129998 s\n",
      "Running time on system    : 127.94226717948914 s\n",
      "Calculate cross-sections.\n"
     ]
    },
    {
     "name": "stderr",
     "output_type": "stream",
     "text": [
      "100%|██████████| 1/1 [00:00<00:00,  5.45it/s]\n"
     ]
    },
    {
     "name": "stdout",
     "output_type": "stream",
     "text": [
      "Broadeners \t:  Default \t Air \t Self \t H2 \t He \t CO2\n",
      "Ratios \t\t:  1.0 \t\t 0.0 \t 0.0 \t 0.0 \t 0.0 \t 0.0\n",
      "Binned Gaussion profile\n",
      "Running time on CPU       : 215.21707505900122 s\n",
      "Running time on system    : 152.76044964790344 s\n",
      "Calculate cross-sections.\n"
     ]
    },
    {
     "name": "stderr",
     "output_type": "stream",
     "text": [
      "100%|██████████| 1/1 [00:00<00:00,  5.45it/s]\n"
     ]
    },
    {
     "name": "stdout",
     "output_type": "stream",
     "text": [
      "Broadeners \t:  Default \t Air \t Self \t H2 \t He \t CO2\n",
      "Ratios \t\t:  1.0 \t\t 0.0 \t 0.0 \t 0.0 \t 0.0 \t 0.0\n",
      "Binned Gaussion profile\n",
      "Running time on CPU       : 214.38188443200124 s\n",
      "Running time on system    : 152.28479862213135 s\n",
      "Calculate cross-sections.\n"
     ]
    },
    {
     "name": "stderr",
     "output_type": "stream",
     "text": [
      "100%|██████████| 1/1 [00:00<00:00,  5.47it/s]\n"
     ]
    },
    {
     "name": "stdout",
     "output_type": "stream",
     "text": [
      "Broadeners \t:  Default \t Air \t Self \t H2 \t He \t CO2\n",
      "Ratios \t\t:  1.0 \t\t 0.0 \t 0.0 \t 0.0 \t 0.0 \t 0.0\n",
      "Binned Lorentzian profile\n",
      "Running time on CPU       : 94.05206795400045 s\n",
      "Running time on system    : 18.82276749610901 s\n",
      "Calculate cross-sections.\n"
     ]
    },
    {
     "name": "stderr",
     "output_type": "stream",
     "text": [
      "100%|██████████| 1/1 [00:00<00:00,  5.50it/s]\n"
     ]
    },
    {
     "name": "stdout",
     "output_type": "stream",
     "text": [
      "Broadeners \t:  Default \t Air \t Self \t H2 \t He \t CO2\n",
      "Ratios \t\t:  1.0 \t\t 0.0 \t 0.0 \t 0.0 \t 0.0 \t 0.0\n",
      "Binned Lorentzian profile\n",
      "Running time on CPU       : 94.9062398620008 s\n",
      "Running time on system    : 18.8156578540802 s\n",
      "Calculate cross-sections.\n"
     ]
    },
    {
     "name": "stderr",
     "output_type": "stream",
     "text": [
      "100%|██████████| 1/1 [00:00<00:00,  5.51it/s]\n"
     ]
    },
    {
     "name": "stdout",
     "output_type": "stream",
     "text": [
      "Broadeners \t:  Default \t Air \t Self \t H2 \t He \t CO2\n",
      "Ratios \t\t:  1.0 \t\t 0.0 \t 0.0 \t 0.0 \t 0.0 \t 0.0\n",
      "Binned Lorentzian profile\n",
      "Running time on CPU       : 96.59105966399875 s\n",
      "Running time on system    : 19.39767026901245 s\n",
      "Calculate cross-sections.\n"
     ]
    },
    {
     "name": "stderr",
     "output_type": "stream",
     "text": [
      "100%|██████████| 1/1 [00:00<00:00,  5.40it/s]\n"
     ]
    },
    {
     "name": "stdout",
     "output_type": "stream",
     "text": [
      "Broadeners \t:  Default \t Air \t Self \t H2 \t He \t CO2\n",
      "Ratios \t\t:  1.0 \t\t 0.0 \t 0.0 \t 0.0 \t 0.0 \t 0.0\n",
      "Binned Lorentzian profile\n",
      "Running time on CPU       : 96.65184169200074 s\n",
      "Running time on system    : 19.377529859542847 s\n",
      "Calculate cross-sections.\n"
     ]
    },
    {
     "name": "stderr",
     "output_type": "stream",
     "text": [
      "100%|██████████| 1/1 [00:00<00:00,  5.49it/s]\n"
     ]
    },
    {
     "name": "stdout",
     "output_type": "stream",
     "text": [
      "Broadeners \t:  Default \t Air \t Self \t H2 \t He \t CO2\n",
      "Ratios \t\t:  1.0 \t\t 0.0 \t 0.0 \t 0.0 \t 0.0 \t 0.0\n",
      "Binned Lorentzian profile\n",
      "Running time on CPU       : 95.45508237100148 s\n",
      "Running time on system    : 19.021101236343384 s\n",
      "Calculate cross-sections.\n"
     ]
    },
    {
     "name": "stderr",
     "output_type": "stream",
     "text": [
      "100%|██████████| 1/1 [00:00<00:00,  5.39it/s]\n"
     ]
    },
    {
     "name": "stdout",
     "output_type": "stream",
     "text": [
      "Broadeners \t:  Default \t Air \t Self \t H2 \t He \t CO2\n",
      "Ratios \t\t:  1.0 \t\t 0.0 \t 0.0 \t 0.0 \t 0.0 \t 0.0\n",
      "Binned Lorentzian profile\n",
      "Running time on CPU       : 94.04189561800013 s\n",
      "Running time on system    : 18.73849630355835 s\n",
      "Calculate cross-sections.\n"
     ]
    },
    {
     "name": "stderr",
     "output_type": "stream",
     "text": [
      "100%|██████████| 1/1 [00:00<00:00,  5.47it/s]\n"
     ]
    },
    {
     "name": "stdout",
     "output_type": "stream",
     "text": [
      "Broadeners \t:  Default \t Air \t Self \t H2 \t He \t CO2\n",
      "Ratios \t\t:  1.0 \t\t 0.0 \t 0.0 \t 0.0 \t 0.0 \t 0.0\n",
      "Binned Lorentzian profile\n",
      "Running time on CPU       : 94.94475322899962 s\n",
      "Running time on system    : 19.063321352005005 s\n",
      "Calculate cross-sections.\n"
     ]
    },
    {
     "name": "stderr",
     "output_type": "stream",
     "text": [
      "100%|██████████| 1/1 [00:00<00:00,  5.42it/s]\n"
     ]
    },
    {
     "name": "stdout",
     "output_type": "stream",
     "text": [
      "Broadeners \t:  Default \t Air \t Self \t H2 \t He \t CO2\n",
      "Ratios \t\t:  1.0 \t\t 0.0 \t 0.0 \t 0.0 \t 0.0 \t 0.0\n",
      "Binned Lorentzian profile\n",
      "Running time on CPU       : 93.6701299109991 s\n",
      "Running time on system    : 18.657814502716064 s\n",
      "Calculate cross-sections.\n"
     ]
    },
    {
     "name": "stderr",
     "output_type": "stream",
     "text": [
      "100%|██████████| 1/1 [00:00<00:00,  5.48it/s]\n"
     ]
    },
    {
     "name": "stdout",
     "output_type": "stream",
     "text": [
      "Broadeners \t:  Default \t Air \t Self \t H2 \t He \t CO2\n",
      "Ratios \t\t:  1.0 \t\t 0.0 \t 0.0 \t 0.0 \t 0.0 \t 0.0\n",
      "Binned Voigt profile\n",
      "Running time on CPU       : 94.16654809300053 s\n",
      "Running time on system    : 18.82593560218811 s\n",
      "Calculate cross-sections.\n"
     ]
    },
    {
     "name": "stderr",
     "output_type": "stream",
     "text": [
      "100%|██████████| 1/1 [00:00<00:00,  5.51it/s]\n"
     ]
    },
    {
     "name": "stdout",
     "output_type": "stream",
     "text": [
      "Broadeners \t:  Default \t Air \t Self \t H2 \t He \t CO2\n",
      "Ratios \t\t:  1.0 \t\t 0.0 \t 0.0 \t 0.0 \t 0.0 \t 0.0\n",
      "Binned Voigt profile\n",
      "Running time on CPU       : 93.54900568999983 s\n",
      "Running time on system    : 18.66329288482666 s\n",
      "Calculate cross-sections.\n"
     ]
    },
    {
     "name": "stderr",
     "output_type": "stream",
     "text": [
      "100%|██████████| 1/1 [00:00<00:00,  5.46it/s]\n"
     ]
    },
    {
     "name": "stdout",
     "output_type": "stream",
     "text": [
      "Broadeners \t:  Default \t Air \t Self \t H2 \t He \t CO2\n",
      "Ratios \t\t:  1.0 \t\t 0.0 \t 0.0 \t 0.0 \t 0.0 \t 0.0\n",
      "Binned Voigt profile\n",
      "Running time on CPU       : 94.2891415869999 s\n",
      "Running time on system    : 18.869266748428345 s\n",
      "Calculate cross-sections.\n"
     ]
    },
    {
     "name": "stderr",
     "output_type": "stream",
     "text": [
      "100%|██████████| 1/1 [00:00<00:00,  5.50it/s]\n"
     ]
    },
    {
     "name": "stdout",
     "output_type": "stream",
     "text": [
      "Broadeners \t:  Default \t Air \t Self \t H2 \t He \t CO2\n",
      "Ratios \t\t:  1.0 \t\t 0.0 \t 0.0 \t 0.0 \t 0.0 \t 0.0\n",
      "Binned Voigt profile\n",
      "Running time on CPU       : 94.15021570799945 s\n",
      "Running time on system    : 18.76847267150879 s\n",
      "Calculate cross-sections.\n"
     ]
    },
    {
     "name": "stderr",
     "output_type": "stream",
     "text": [
      "100%|██████████| 1/1 [00:00<00:00,  5.49it/s]\n"
     ]
    },
    {
     "name": "stdout",
     "output_type": "stream",
     "text": [
      "Broadeners \t:  Default \t Air \t Self \t H2 \t He \t CO2\n",
      "Ratios \t\t:  1.0 \t\t 0.0 \t 0.0 \t 0.0 \t 0.0 \t 0.0\n",
      "Binned Voigt profile\n",
      "Running time on CPU       : 94.17274128100144 s\n",
      "Running time on system    : 18.646440505981445 s\n",
      "Calculate cross-sections.\n"
     ]
    },
    {
     "name": "stderr",
     "output_type": "stream",
     "text": [
      "100%|██████████| 1/1 [00:00<00:00,  5.33it/s]\n"
     ]
    },
    {
     "name": "stdout",
     "output_type": "stream",
     "text": [
      "Broadeners \t:  Default \t Air \t Self \t H2 \t He \t CO2\n",
      "Ratios \t\t:  1.0 \t\t 0.0 \t 0.0 \t 0.0 \t 0.0 \t 0.0\n",
      "Binned Voigt profile\n",
      "Running time on CPU       : 95.84829193800033 s\n",
      "Running time on system    : 19.13113236427307 s\n",
      "Calculate cross-sections.\n"
     ]
    },
    {
     "name": "stderr",
     "output_type": "stream",
     "text": [
      "100%|██████████| 1/1 [00:00<00:00,  5.50it/s]\n"
     ]
    },
    {
     "name": "stdout",
     "output_type": "stream",
     "text": [
      "Broadeners \t:  Default \t Air \t Self \t H2 \t He \t CO2\n",
      "Ratios \t\t:  1.0 \t\t 0.0 \t 0.0 \t 0.0 \t 0.0 \t 0.0\n",
      "Binned Voigt profile\n",
      "Running time on CPU       : 95.14864898699852 s\n",
      "Running time on system    : 19.0511634349823 s\n",
      "Calculate cross-sections.\n"
     ]
    },
    {
     "name": "stderr",
     "output_type": "stream",
     "text": [
      "100%|██████████| 1/1 [00:00<00:00,  5.47it/s]\n"
     ]
    },
    {
     "name": "stdout",
     "output_type": "stream",
     "text": [
      "Broadeners \t:  Default \t Air \t Self \t H2 \t He \t CO2\n",
      "Ratios \t\t:  1.0 \t\t 0.0 \t 0.0 \t 0.0 \t 0.0 \t 0.0\n",
      "Binned Voigt profile\n",
      "Running time on CPU       : 94.5505238909991 s\n",
      "Running time on system    : 18.81048607826233 s\n"
     ]
    }
   ],
   "source": [
    "# profile = 'BinnedDoppler'\n",
    "profile = 'BinnedGaussian'\n",
    "xsecbg1, tbg1 = get_crosssection(10, 1, profile)\n",
    "xsecbg2, tbg2 = get_crosssection(100, 1, profile)\n",
    "xsecbg3, tbg3 = get_crosssection(200, 1, profile)\n",
    "xsecbg4, tbg4 = get_crosssection(300, 1, profile)\n",
    "xsecbg5, tbg5 = get_crosssection(100, 0.5, profile)\n",
    "xsecbg6, tbg6 = get_crosssection(100, 1, profile)\n",
    "xsecbg7, tbg7 = get_crosssection(100, 2, profile)\n",
    "xsecbg8, tbg8 = get_crosssection(100, 5, profile)\n",
    "\n",
    "profile = 'BinnedLorentzian'\n",
    "xsecbl1, tbl1 = get_crosssection(10, 1, profile)\n",
    "xsecbl2, tbl2 = get_crosssection(100, 1, profile)\n",
    "xsecbl3, tbl3 = get_crosssection(200, 1, profile)\n",
    "xsecbl4, tbl4 = get_crosssection(300, 1, profile)\n",
    "xsecbl5, tbl5 = get_crosssection(100, 0.5, profile)\n",
    "xsecbl6, tbl6 = get_crosssection(100, 1, profile)\n",
    "xsecbl7, tbl7 = get_crosssection(100, 2, profile)\n",
    "xsecbl8, tbl8 = get_crosssection(100, 5, profile)\n",
    "\n",
    "profile = 'BinnedVoigt'\n",
    "xsecbv1, tbv1 = get_crosssection(10, 1, profile)\n",
    "xsecbv2, tbv2 = get_crosssection(100, 1, profile)\n",
    "xsecbv3, tbv3 = get_crosssection(200, 1, profile)\n",
    "xsecbv4, tbv4 = get_crosssection(300, 1, profile)\n",
    "xsecbv5, tbv5 = get_crosssection(100, 0.5, profile)\n",
    "xsecbv6, tbv6 = get_crosssection(100, 1, profile)\n",
    "xsecbv7, tbv7 = get_crosssection(100, 2, profile)\n",
    "xsecbv8, tbv8 = get_crosssection(100, 5, profile)"
   ]
  },
  {
   "cell_type": "code",
   "execution_count": 98,
   "metadata": {},
   "outputs": [
    {
     "data": {
      "text/html": [
       "<div>\n",
       "<style scoped>\n",
       "    .dataframe tbody tr th:only-of-type {\n",
       "        vertical-align: middle;\n",
       "    }\n",
       "\n",
       "    .dataframe tbody tr th {\n",
       "        vertical-align: top;\n",
       "    }\n",
       "\n",
       "    .dataframe thead th {\n",
       "        text-align: right;\n",
       "    }\n",
       "</style>\n",
       "<table border=\"1\" class=\"dataframe\">\n",
       "  <thead>\n",
       "    <tr style=\"text-align: right;\">\n",
       "      <th></th>\n",
       "      <th>Profile</th>\n",
       "      <th>T10 P1</th>\n",
       "      <th>T100 P1</th>\n",
       "      <th>T200 P1</th>\n",
       "      <th>T300 P1</th>\n",
       "      <th>T100 P0.5</th>\n",
       "      <th>T100 P1</th>\n",
       "      <th>T100 P2</th>\n",
       "      <th>T100 P5</th>\n",
       "    </tr>\n",
       "  </thead>\n",
       "  <tbody>\n",
       "    <tr>\n",
       "      <th>0</th>\n",
       "      <td>Doppler</td>\n",
       "      <td>15.533237</td>\n",
       "      <td>15.553321</td>\n",
       "      <td>15.614244</td>\n",
       "      <td>15.669830</td>\n",
       "      <td>15.754240</td>\n",
       "      <td>15.553321</td>\n",
       "      <td>15.570230</td>\n",
       "      <td>15.559575</td>\n",
       "    </tr>\n",
       "    <tr>\n",
       "      <th>1</th>\n",
       "      <td>Gaussian</td>\n",
       "      <td>16.268602</td>\n",
       "      <td>16.215069</td>\n",
       "      <td>16.205775</td>\n",
       "      <td>16.243359</td>\n",
       "      <td>16.207844</td>\n",
       "      <td>16.215069</td>\n",
       "      <td>16.176230</td>\n",
       "      <td>16.106585</td>\n",
       "    </tr>\n",
       "    <tr>\n",
       "      <th>2</th>\n",
       "      <td>Lorentzian</td>\n",
       "      <td>10.291015</td>\n",
       "      <td>10.597492</td>\n",
       "      <td>10.392810</td>\n",
       "      <td>10.457988</td>\n",
       "      <td>10.367176</td>\n",
       "      <td>10.597492</td>\n",
       "      <td>10.706471</td>\n",
       "      <td>10.498371</td>\n",
       "    </tr>\n",
       "    <tr>\n",
       "      <th>3</th>\n",
       "      <td>SciPy Voigt</td>\n",
       "      <td>38.583836</td>\n",
       "      <td>38.183230</td>\n",
       "      <td>38.237741</td>\n",
       "      <td>38.218478</td>\n",
       "      <td>38.170223</td>\n",
       "      <td>38.183230</td>\n",
       "      <td>38.195930</td>\n",
       "      <td>38.394929</td>\n",
       "    </tr>\n",
       "    <tr>\n",
       "      <th>4</th>\n",
       "      <td>SciPy Wofz Voigt</td>\n",
       "      <td>127.186551</td>\n",
       "      <td>127.167572</td>\n",
       "      <td>127.049080</td>\n",
       "      <td>126.784363</td>\n",
       "      <td>126.913369</td>\n",
       "      <td>127.167572</td>\n",
       "      <td>126.545731</td>\n",
       "      <td>126.362063</td>\n",
       "    </tr>\n",
       "    <tr>\n",
       "      <th>5</th>\n",
       "      <td>Pseudo Voigt</td>\n",
       "      <td>26.824914</td>\n",
       "      <td>25.558236</td>\n",
       "      <td>24.769407</td>\n",
       "      <td>25.052605</td>\n",
       "      <td>25.297067</td>\n",
       "      <td>25.558236</td>\n",
       "      <td>25.700192</td>\n",
       "      <td>24.986065</td>\n",
       "    </tr>\n",
       "    <tr>\n",
       "      <th>6</th>\n",
       "      <td>Pseudo Kielkopf Voigt</td>\n",
       "      <td>24.779891</td>\n",
       "      <td>24.495124</td>\n",
       "      <td>25.258314</td>\n",
       "      <td>25.266731</td>\n",
       "      <td>25.350190</td>\n",
       "      <td>24.495124</td>\n",
       "      <td>24.379794</td>\n",
       "      <td>25.366716</td>\n",
       "    </tr>\n",
       "    <tr>\n",
       "      <th>7</th>\n",
       "      <td>Pseudo Olivero Voigt</td>\n",
       "      <td>25.719263</td>\n",
       "      <td>25.227337</td>\n",
       "      <td>24.280096</td>\n",
       "      <td>25.027134</td>\n",
       "      <td>25.352098</td>\n",
       "      <td>25.227337</td>\n",
       "      <td>25.309341</td>\n",
       "      <td>25.408692</td>\n",
       "    </tr>\n",
       "    <tr>\n",
       "      <th>8</th>\n",
       "      <td>Pseudo Liu-Lin Voigt</td>\n",
       "      <td>25.342206</td>\n",
       "      <td>24.495917</td>\n",
       "      <td>24.966978</td>\n",
       "      <td>26.015775</td>\n",
       "      <td>26.026278</td>\n",
       "      <td>24.495917</td>\n",
       "      <td>24.290046</td>\n",
       "      <td>25.528563</td>\n",
       "    </tr>\n",
       "    <tr>\n",
       "      <th>9</th>\n",
       "      <td>Pseudo Docco Voigt</td>\n",
       "      <td>24.692131</td>\n",
       "      <td>24.164903</td>\n",
       "      <td>25.314071</td>\n",
       "      <td>25.068991</td>\n",
       "      <td>23.967843</td>\n",
       "      <td>24.164903</td>\n",
       "      <td>24.258115</td>\n",
       "      <td>26.202580</td>\n",
       "    </tr>\n",
       "    <tr>\n",
       "      <th>10</th>\n",
       "      <td>Binned Gaussian</td>\n",
       "      <td>133.046800</td>\n",
       "      <td>127.942267</td>\n",
       "      <td>114.918553</td>\n",
       "      <td>123.734055</td>\n",
       "      <td>152.135093</td>\n",
       "      <td>127.942267</td>\n",
       "      <td>152.760450</td>\n",
       "      <td>152.284799</td>\n",
       "    </tr>\n",
       "    <tr>\n",
       "      <th>11</th>\n",
       "      <td>Binned Lorentzian</td>\n",
       "      <td>18.822767</td>\n",
       "      <td>18.738496</td>\n",
       "      <td>19.397670</td>\n",
       "      <td>19.377530</td>\n",
       "      <td>19.021101</td>\n",
       "      <td>18.738496</td>\n",
       "      <td>19.063321</td>\n",
       "      <td>18.657815</td>\n",
       "    </tr>\n",
       "    <tr>\n",
       "      <th>12</th>\n",
       "      <td>Binned Voigt</td>\n",
       "      <td>18.825936</td>\n",
       "      <td>19.131132</td>\n",
       "      <td>18.869267</td>\n",
       "      <td>18.768473</td>\n",
       "      <td>18.646441</td>\n",
       "      <td>19.131132</td>\n",
       "      <td>19.051163</td>\n",
       "      <td>18.810486</td>\n",
       "    </tr>\n",
       "  </tbody>\n",
       "</table>\n",
       "</div>"
      ],
      "text/plain": [
       "                  Profile      T10 P1     T100 P1     T200 P1     T300 P1  \\\n",
       "0                 Doppler   15.533237   15.553321   15.614244   15.669830   \n",
       "1                Gaussian   16.268602   16.215069   16.205775   16.243359   \n",
       "2              Lorentzian   10.291015   10.597492   10.392810   10.457988   \n",
       "3             SciPy Voigt   38.583836   38.183230   38.237741   38.218478   \n",
       "4        SciPy Wofz Voigt  127.186551  127.167572  127.049080  126.784363   \n",
       "5            Pseudo Voigt   26.824914   25.558236   24.769407   25.052605   \n",
       "6   Pseudo Kielkopf Voigt   24.779891   24.495124   25.258314   25.266731   \n",
       "7    Pseudo Olivero Voigt   25.719263   25.227337   24.280096   25.027134   \n",
       "8    Pseudo Liu-Lin Voigt   25.342206   24.495917   24.966978   26.015775   \n",
       "9      Pseudo Docco Voigt   24.692131   24.164903   25.314071   25.068991   \n",
       "10        Binned Gaussian  133.046800  127.942267  114.918553  123.734055   \n",
       "11      Binned Lorentzian   18.822767   18.738496   19.397670   19.377530   \n",
       "12           Binned Voigt   18.825936   19.131132   18.869267   18.768473   \n",
       "\n",
       "     T100 P0.5     T100 P1     T100 P2     T100 P5  \n",
       "0    15.754240   15.553321   15.570230   15.559575  \n",
       "1    16.207844   16.215069   16.176230   16.106585  \n",
       "2    10.367176   10.597492   10.706471   10.498371  \n",
       "3    38.170223   38.183230   38.195930   38.394929  \n",
       "4   126.913369  127.167572  126.545731  126.362063  \n",
       "5    25.297067   25.558236   25.700192   24.986065  \n",
       "6    25.350190   24.495124   24.379794   25.366716  \n",
       "7    25.352098   25.227337   25.309341   25.408692  \n",
       "8    26.026278   24.495917   24.290046   25.528563  \n",
       "9    23.967843   24.164903   24.258115   26.202580  \n",
       "10  152.135093  127.942267  152.760450  152.284799  \n",
       "11   19.021101   18.738496   19.063321   18.657815  \n",
       "12   18.646441   19.131132   19.051163   18.810486  "
      ]
     },
     "execution_count": 98,
     "metadata": {},
     "output_type": "execute_result"
    }
   ],
   "source": [
    "times = pd.DataFrame()\n",
    "times['Profile'] = ['Doppler','Gaussian','Lorentzian','SciPy Voigt','SciPy Wofz Voigt',\n",
    "                    'Pseudo Voigt','Pseudo Kielkopf Voigt','Pseudo Olivero Voigt','Pseudo Liu-Lin Voigt','Pseudo Rocco Voigt',\n",
    "                    'Binned Gaussian','Binned Lorentzian','Binned Voigt']\n",
    "times['T10 P1'] = [td1,tg1,tl1,ts1,tsw1,tp1,tpk1,tpo1,tpl1,tpr1,tbg1,tbl1,tbv1]\n",
    "times['T100 P1'] = [td2,tg2,tl2,ts2,tsw2,tp2,tpk2,tpo2,tpl2,tpr2,tbg2,tbl2,tbv2]\n",
    "times['T200 P1'] = [td3,tg3,tl3,ts3,tsw3,tp3,tpk3,tpo3,tpl3,tpr3,tbg3,tbl3,tbv3]\n",
    "times['T300 P1'] = [td4,tg4,tl4,ts4,tsw4,tp4,tpk4,tpo4,tpl4,tpr4,tbg4,tbl4,tbv4]\n",
    "times['T100 P0.5'] = [td5,tg5,tl5,ts5,tsw5,tp5,tpk5,tpo5,tpl5,tpr5,tbg5,tbl5,tbv5]\n",
    "times['T100 P1'] = [td6,tg6,tl6,ts6,tsw6,tp6,tpk6,tpo6,tpl6,tpr6,tbg6,tbl6,tbv6]\n",
    "times['T100 P2'] = [td7,tg7,tl7,ts7,tsw7,tp7,tpk7,tpo7,tpl7,tpr7,tbg7,tbl7,tbv7]\n",
    "times['T100 P5'] = [td8,tg8,tl8,ts8,tsw8,tp8,tpk8,tpo8,tpl8,tpr8,tbg8,tbl8,tbv8]\n",
    "order = ['Profile','T10 P1','T100 P1','T200 P1','T300 P1','T100 P0.5','T100 P1','T100 P2','T100 P5']\n",
    "times[order]"
   ]
  },
  {
   "cell_type": "code",
   "execution_count": null,
   "metadata": {},
   "outputs": [],
   "source": []
  },
  {
   "cell_type": "code",
   "execution_count": 259,
   "metadata": {},
   "outputs": [],
   "source": [
    "def cal_standard_deviation(xsecs,xsecsw,xsecp,xsecpk,xsecpo,xsecpl,xsecpr):\n",
    "    sw = np.std(np.subtract(xsecs, xsecsw), ddof=1)\n",
    "    p = np.std(np.subtract(xsecs, xsecp), ddof=1)\n",
    "    pk = np.std(np.subtract(xsecs, xsecpk), ddof=1)\n",
    "    po = np.std(np.subtract(xsecs, xsecpo), ddof=1)\n",
    "    pl = np.std(np.subtract(xsecs, xsecpl), ddof=1)\n",
    "    pr = np.std(np.subtract(xsecs, xsecpr), ddof=1)\n",
    "    return(sw,p,pk,po,pl,pr)"
   ]
  },
  {
   "cell_type": "code",
   "execution_count": 260,
   "metadata": {},
   "outputs": [],
   "source": [
    "sdsw1,sdp1,sdpk1,sdpo1,sdpl1,sdpr1 = cal_standard_deviation(xsecs1,xsecsw1,xsecp1,xsecpk1,xsecpo1,xsecpl1,xsecpr1)\n",
    "sdsw2,sdp2,sdpk2,sdpo2,sdpl2,sdpr2 = cal_standard_deviation(xsecs2,xsecsw2,xsecp2,xsecpk2,xsecpo2,xsecpl2,xsecpr2)\n",
    "sdsw3,sdp3,sdpk3,sdpo3,sdpl3,sdpr3 = cal_standard_deviation(xsecs3,xsecsw3,xsecp3,xsecpk3,xsecpo3,xsecpl3,xsecpr3)\n",
    "sdsw4,sdp4,sdpk4,sdpo4,sdpl4,sdpr4 = cal_standard_deviation(xsecs4,xsecsw4,xsecp4,xsecpk4,xsecpo4,xsecpl4,xsecpr4)\n",
    "sdsw5,sdp5,sdpk5,sdpo5,sdpl5,sdpr5 = cal_standard_deviation(xsecs5,xsecsw5,xsecp5,xsecpk5,xsecpo5,xsecpl5,xsecpr5)\n",
    "sdsw6,sdp6,sdpk6,sdpo6,sdpl6,sdpr6 = cal_standard_deviation(xsecs6,xsecsw6,xsecp6,xsecpk6,xsecpo6,xsecpl6,xsecpr6)\n",
    "sdsw7,sdp7,sdpk7,sdpo7,sdpl7,sdpr7 = cal_standard_deviation(xsecs7,xsecsw7,xsecp7,xsecpk7,xsecpo7,xsecpl7,xsecpr7)\n",
    "sdsw8,sdp8,sdpk8,sdpo8,sdpl8,sdpr8 = cal_standard_deviation(xsecs8,xsecsw8,xsecp8,xsecpk8,xsecpo8,xsecpl8,xsecpr8)"
   ]
  },
  {
   "cell_type": "code",
   "execution_count": 261,
   "metadata": {},
   "outputs": [
    {
     "data": {
      "text/html": [
       "<div>\n",
       "<style scoped>\n",
       "    .dataframe tbody tr th:only-of-type {\n",
       "        vertical-align: middle;\n",
       "    }\n",
       "\n",
       "    .dataframe tbody tr th {\n",
       "        vertical-align: top;\n",
       "    }\n",
       "\n",
       "    .dataframe thead th {\n",
       "        text-align: right;\n",
       "    }\n",
       "</style>\n",
       "<table border=\"1\" class=\"dataframe\">\n",
       "  <thead>\n",
       "    <tr style=\"text-align: right;\">\n",
       "      <th></th>\n",
       "      <th>Profile</th>\n",
       "      <th>T10 P1</th>\n",
       "      <th>T100 P1</th>\n",
       "      <th>T200 P1</th>\n",
       "      <th>T300 P1</th>\n",
       "      <th>T100 P0.5</th>\n",
       "      <th>T100 P1</th>\n",
       "      <th>T100 P2</th>\n",
       "      <th>T100 P5</th>\n",
       "    </tr>\n",
       "  </thead>\n",
       "  <tbody>\n",
       "    <tr>\n",
       "      <th>0</th>\n",
       "      <td>SciPy Wofz Voigt</td>\n",
       "      <td>3.713244e-31</td>\n",
       "      <td>4.680818e-32</td>\n",
       "      <td>2.428632e-32</td>\n",
       "      <td>1.406135e-32</td>\n",
       "      <td>5.044496e-32</td>\n",
       "      <td>4.680818e-32</td>\n",
       "      <td>4.652056e-32</td>\n",
       "      <td>5.122003e-32</td>\n",
       "    </tr>\n",
       "    <tr>\n",
       "      <th>1</th>\n",
       "      <td>Pseudo Voigt</td>\n",
       "      <td>1.258474e-16</td>\n",
       "      <td>2.196535e-17</td>\n",
       "      <td>8.230641e-18</td>\n",
       "      <td>5.498304e-18</td>\n",
       "      <td>1.475357e-17</td>\n",
       "      <td>2.196535e-17</td>\n",
       "      <td>2.747527e-17</td>\n",
       "      <td>2.910726e-17</td>\n",
       "    </tr>\n",
       "    <tr>\n",
       "      <th>2</th>\n",
       "      <td>Pseudo Kielkopf Voigt</td>\n",
       "      <td>1.258464e-16</td>\n",
       "      <td>2.196286e-17</td>\n",
       "      <td>8.230576e-18</td>\n",
       "      <td>5.498261e-18</td>\n",
       "      <td>1.475362e-17</td>\n",
       "      <td>2.196286e-17</td>\n",
       "      <td>2.746008e-17</td>\n",
       "      <td>2.905526e-17</td>\n",
       "    </tr>\n",
       "    <tr>\n",
       "      <th>3</th>\n",
       "      <td>Pseudo Olivero Voigt</td>\n",
       "      <td>1.265366e-16</td>\n",
       "      <td>2.215809e-17</td>\n",
       "      <td>8.275716e-18</td>\n",
       "      <td>5.528415e-18</td>\n",
       "      <td>1.482454e-17</td>\n",
       "      <td>2.215809e-17</td>\n",
       "      <td>2.787304e-17</td>\n",
       "      <td>2.962791e-17</td>\n",
       "    </tr>\n",
       "    <tr>\n",
       "      <th>4</th>\n",
       "      <td>Pseudo Liu-Lin Voigt</td>\n",
       "      <td>1.210664e-16</td>\n",
       "      <td>2.103086e-17</td>\n",
       "      <td>7.917956e-18</td>\n",
       "      <td>5.289422e-18</td>\n",
       "      <td>1.423270e-17</td>\n",
       "      <td>2.103086e-17</td>\n",
       "      <td>2.643982e-17</td>\n",
       "      <td>2.859510e-17</td>\n",
       "    </tr>\n",
       "    <tr>\n",
       "      <th>5</th>\n",
       "      <td>Pseudo Rocco Voigt</td>\n",
       "      <td>8.767907e-17</td>\n",
       "      <td>1.550785e-17</td>\n",
       "      <td>5.734365e-18</td>\n",
       "      <td>3.830720e-18</td>\n",
       "      <td>1.025380e-17</td>\n",
       "      <td>1.550785e-17</td>\n",
       "      <td>2.004661e-17</td>\n",
       "      <td>2.378931e-17</td>\n",
       "    </tr>\n",
       "  </tbody>\n",
       "</table>\n",
       "</div>"
      ],
      "text/plain": [
       "                 Profile        T10 P1       T100 P1       T200 P1  \\\n",
       "0       SciPy Wofz Voigt  3.713244e-31  4.680818e-32  2.428632e-32   \n",
       "1           Pseudo Voigt  1.258474e-16  2.196535e-17  8.230641e-18   \n",
       "2  Pseudo Kielkopf Voigt  1.258464e-16  2.196286e-17  8.230576e-18   \n",
       "3   Pseudo Olivero Voigt  1.265366e-16  2.215809e-17  8.275716e-18   \n",
       "4   Pseudo Liu-Lin Voigt  1.210664e-16  2.103086e-17  7.917956e-18   \n",
       "5     Pseudo Rocco Voigt  8.767907e-17  1.550785e-17  5.734365e-18   \n",
       "\n",
       "        T300 P1     T100 P0.5       T100 P1       T100 P2       T100 P5  \n",
       "0  1.406135e-32  5.044496e-32  4.680818e-32  4.652056e-32  5.122003e-32  \n",
       "1  5.498304e-18  1.475357e-17  2.196535e-17  2.747527e-17  2.910726e-17  \n",
       "2  5.498261e-18  1.475362e-17  2.196286e-17  2.746008e-17  2.905526e-17  \n",
       "3  5.528415e-18  1.482454e-17  2.215809e-17  2.787304e-17  2.962791e-17  \n",
       "4  5.289422e-18  1.423270e-17  2.103086e-17  2.643982e-17  2.859510e-17  \n",
       "5  3.830720e-18  1.025380e-17  1.550785e-17  2.004661e-17  2.378931e-17  "
      ]
     },
     "execution_count": 261,
     "metadata": {},
     "output_type": "execute_result"
    }
   ],
   "source": [
    "sd = pd.DataFrame()\n",
    "sd['Profile'] = ['SciPy Wofz Voigt','Pseudo Voigt','Pseudo Kielkopf Voigt','Pseudo Olivero Voigt','Pseudo Liu-Lin Voigt','Pseudo Rocco Voigt']\n",
    "sd['T10 P1'] = [sdsw1,sdp1,sdpk1,sdpo1,sdpl1,sdpr1]\n",
    "sd['T100 P1'] = [sdsw2,sdp2,sdpk2,sdpo2,sdpl2,sdpr2]\n",
    "sd['T200 P1'] = [sdsw3,sdp3,sdpk3,sdpo3,sdpl3,sdpr3]\n",
    "sd['T300 P1'] = [sdsw4,sdp4,sdpk4,sdpo4,sdpl4,sdpr4]\n",
    "sd['T100 P0.5'] = [sdsw5,sdp5,sdpk5,sdpo5,sdpl5,sdpr5]\n",
    "sd['T100 P1'] = [sdsw6,sdp6,sdpk6,sdpo6,sdpl6,sdpr6]\n",
    "sd['T100 P2'] = [sdsw7,sdp7,sdpk7,sdpo7,sdpl7,sdpr7]\n",
    "sd['T100 P5'] = [sdsw8,sdp8,sdpk8,sdpo8,sdpl8,sdpr8]\n",
    "order = ['Profile','T10 P1','T100 P1','T200 P1','T300 P1','T100 P0.5','T100 P1','T100 P2','T100 P5']\n",
    "sd[order]"
   ]
  },
  {
   "cell_type": "code",
   "execution_count": null,
   "metadata": {},
   "outputs": [],
   "source": []
  },
  {
   "cell_type": "code",
   "execution_count": null,
   "metadata": {},
   "outputs": [],
   "source": []
  },
  {
   "cell_type": "raw",
   "metadata": {},
   "source": [
    "alpha = 2\n",
    "sigma = Gaussian_standard_deviation(alpha)\n",
    "gamma = 1\n",
    "fG, fL = FWHM(alpha, gamma) \n",
    "fV1 = ne.evaluate('(fG**5+2.69269*fG**4*fL+2.42843*fG**3*fL**2+4.47163*fG**2*fL**3+0.07842*fG*fL**4+fL**5)**0.2')\n",
    "eta1 = ne.evaluate('1.36603*(fL/fV1) - 0.47719*(fL/fV1)**2 + 0.11116*(fL/fV1)**3')  \n",
    "fV2 = ne.evaluate('0.5346 * fL + sqrt(0.2166 * fL**2 + fG**2)')\n",
    "eta2 = ne.evaluate('1.36603*(fL/fV2) - 0.47719*(fL/fV2)**2 + 0.11116*(fL/fV2)**3')  \n",
    "d = ne.evaluate('(fL-fG)/(fL+fG)')\n",
    "fV3 = ne.evaluate('(1-0.18121*(1-d**2)-(0.023665*exp(0.6*d)+0.00418*exp(-1.9*d))*sinPI*d)*(fG+fL)')\n",
    "eta3 = ne.evaluate('1.36603*(fL/fV3) - 0.47719*(fL/fV3)**2 + 0.11116*(fL/fV3)**3')\n",
    "#fV4 = ne.evaluate('(1-0.18121*(1-d**2)-(0.023665*exp(0.6*d)+0.00418*exp(-1.9*d))*sinPI*d)*(fG+fL)')\n",
    "eta4 = ne.evaluate('0.68188+0.61293*d-0.18384*d**2-0.11568*d**3')\n",
    "y = gamma*Sqrtln2/alpha\n",
    "erfy = erf(y)\n",
    "hV = ne.evaluate('gamma+alpha*exp(-0.6055*y+0.0718*y**2-0.0049*y**3+0.000136*y**4)')\n",
    "V0 = ne.evaluate('Sqrtln2InvPi*exp(y**2)*(1-erfy)/alpha')\n",
    "eta5 = ne.evaluate('(SqrtPI*V0*hV-Sqrtln2)/(SqrtPI*V0*hV*OneminSqrtPIln2)')\n"
   ]
  },
  {
   "cell_type": "raw",
   "metadata": {},
   "source": [
    "dx = np.linspace(-10, 10, 1000)\n",
    "Doppler = Doppler_profile(dx, alpha)\n",
    "Gaussian = Gaussian_profile(dx, sigma)\n",
    "Lorentzian = Lorentzian_profile(dx, gamma)\n",
    "SciPy1 = SciPyVoigt_profile(dx, sigma, gamma)\n",
    "SciPy2 = SciPyWofzVoigt_profile(dx, sigma, gamma)\n",
    "Pseudo1 = PseudoVoigt_profile(dx, alpha, gamma, eta1)\n",
    "Pseudo2 = PseudoVoigt_profile(dx, alpha, gamma, eta2)\n",
    "Pseudo3 = PseudoVoigt_profile(dx, alpha, gamma, eta3)\n",
    "Pseudo4 = PseudoVoigt_profile(dx, alpha, gamma, eta4)\n",
    "Pseudo5 = PseudoVoigt_profile(dx, alpha, gamma, eta5)\n",
    "\n",
    "\n",
    "    "
   ]
  },
  {
   "cell_type": "raw",
   "metadata": {},
   "source": [
    "fig, ax = plt.subplots(figsize=(10, 8))\n",
    "\n",
    "#ax.plot(dx, Doppler, label='Doppler')\n",
    "ax.plot(dx, Gaussian, label='Gaussian')\n",
    "ax.plot(dx, Lorentzian, label='Lorentzian')\n",
    "ax.plot(dx, SciPy1, label='SciPy1')\n",
    "ax.plot(dx, SciPy2, label='SciPy2')\n",
    "ax.plot(dx, Pseudo1, label='Pseudo1')\n",
    "ax.plot(dx, Pseudo2, label='Pseudo2')\n",
    "ax.plot(dx, Pseudo3, label='Pseudo3')\n",
    "ax.plot(dx, Pseudo4, label='Pseudo4')\n",
    "ax.plot(dx, Pseudo5, label='Pseudo5')\n",
    "ax.legend()\n",
    "plt.show()\n"
   ]
  },
  {
   "cell_type": "code",
   "execution_count": null,
   "metadata": {},
   "outputs": [],
   "source": []
  },
  {
   "cell_type": "code",
   "execution_count": null,
   "metadata": {},
   "outputs": [],
   "source": []
  },
  {
   "cell_type": "raw",
   "metadata": {},
   "source": [
    "plot_xsec(wn_grid, xsec1, database, profile)\n",
    "plot_xsec(wn_grid, xsec2, database, profile)\n",
    "plot_xsec(wn_grid, xsec3, database, profile)\n",
    "plot_xsec(wn_grid, xsec4, database, profile)\n",
    "plot_xsec(wn_grid, xsec5, database, profile)\n",
    "plot_xsec(wn_grid, xsec6, database, profile)\n",
    "plot_xsec(wn_grid, xsec7, database, profile)\n",
    "plot_xsec(wn_grid, xsec8, database, profile)\n",
    "plot_xsec(wn_grid, xsec9, database, profile)\n",
    "plot_xsec(wn_grid, xsec10, database, profile)\n"
   ]
  },
  {
   "cell_type": "raw",
   "metadata": {},
   "source": [
    "plot_xsec(wn_grid, xsec11, database, profile)\n",
    "plot_xsec(wn_grid, xsec12, database, profile)\n",
    "plot_xsec(wn_grid, xsec13, database, profile)"
   ]
  },
  {
   "cell_type": "code",
   "execution_count": null,
   "metadata": {},
   "outputs": [],
   "source": []
  },
  {
   "attachments": {},
   "cell_type": "markdown",
   "metadata": {},
   "source": [
    "## Plot partition function"
   ]
  },
  {
   "cell_type": "code",
   "execution_count": 75,
   "metadata": {},
   "outputs": [
    {
     "data": {
      "image/png": "[encoded data removed]",
      "text/plain": [
       "<Figure size 800x600 with 1 Axes>"
      ]
     },
     "metadata": {},
     "output_type": "display_data"
    }
   ],
   "source": [
    "mol = ['NO', 'MgH', 'AlH']\n",
    "iso = ['14N-16O', '24Mg-1H', '27Al-1H']\n",
    "dst = ['XABC', 'XAB', 'AlHambra']\n",
    "T = []\n",
    "Q = []\n",
    "for i in range(len(iso)):\n",
    "    read_partition = pd.read_csv(save_path+'partition/'+iso[i]+'__'+dst[i]+'.pf', sep='\\\\s+', names=['T', 'Q'])\n",
    "    T_Q = pd.DataFrame()\n",
    "    T_Q['T'] = read_partition['T']\n",
    "    T_Q['Q'] = read_partition['Q']\n",
    "    Ts = list(T_Q['T'])\n",
    "    Qs = list(T_Q['Q'])\n",
    "    T.append(Ts)\n",
    "    Q.append(Qs)\n",
    "    \n",
    "from matplotlib.ticker import MultipleLocator, FormatStrFormatter\n",
    "parameters = {'axes.labelsize': 14,\n",
    "              'legend.fontsize': 14,\n",
    "              'xtick.labelsize': 12,\n",
    "              'ytick.labelsize': 12}\n",
    "plt.rcParams.update(parameters)\n",
    "fig, ax = plt.subplots(figsize=(8, 6))\n",
    "ax.plot(T[0], Q[0], label='NO', linewidth=1, color=\"#a1dab4\")\n",
    "ax.plot(T[1], Q[1], label='MgH', linewidth=1, color=\"palevioletred\")\n",
    "ax.plot(T[2], Q[2], label='AlH', linewidth=1, color=\"orange\")\n",
    "ax.set_xlim(min(T[0])-500, max(max(T[i]) for i in range(len(iso)))+500)\n",
    "xmajorLocator   = MultipleLocator(1000)\n",
    "ax.xaxis.set_major_locator(xmajorLocator)\n",
    "leg = ax.legend(loc=4)\n",
    "for line in leg.get_lines():\n",
    "    line.set_linewidth(1.0)\n",
    "ax.semilogy()\n",
    "plt.xlabel('Temperature T, K')\n",
    "plt.ylabel('Partition function Q(T)')\n",
    "plt.show()"
   ]
  },
  {
   "attachments": {},
   "cell_type": "markdown",
   "metadata": {},
   "source": [
    "## Plot specific heat"
   ]
  },
  {
   "cell_type": "code",
   "execution_count": 76,
   "metadata": {},
   "outputs": [
    {
     "data": {
      "image/png": "[encoded data removed]",
      "text/plain": [
       "<Figure size 800x600 with 1 Axes>"
      ]
     },
     "metadata": {},
     "output_type": "display_data"
    }
   ],
   "source": [
    "mol = ['NO', 'MgH', 'AlH']\n",
    "iso = ['14N-16O', '24Mg-1H', '27Al-1H']\n",
    "dst = ['XABC', 'XAB', 'AlHambra']\n",
    "T = []\n",
    "C = []\n",
    "for i in range(len(iso)):\n",
    "    read_specificheat = pd.read_csv(save_path+'specific_heat/'+iso[i]+'__'+dst[i]+'.cp', sep='\\\\s+', names=['T', 'C'])\n",
    "    T_C = pd.DataFrame()\n",
    "    T_C['T'] = read_specificheat['T']\n",
    "    T_C['C'] = read_specificheat['C']\n",
    "    Ts = list(T_C['T'])\n",
    "    Cs = list(T_C['C'])\n",
    "    T.append(Ts)\n",
    "    C.append(Cs)\n",
    "    \n",
    "from matplotlib.ticker import MultipleLocator, FormatStrFormatter\n",
    "parameters = {'axes.labelsize': 14,\n",
    "              'legend.fontsize': 14,\n",
    "              'xtick.labelsize': 12,\n",
    "              'ytick.labelsize': 12}\n",
    "plt.rcParams.update(parameters)\n",
    "fig, ax = plt.subplots(figsize=(8, 6))\n",
    "ax.plot(T[0], C[0], label='NO', linewidth=1, color=\"#a1dab4\")\n",
    "ax.plot(T[1], C[1], label='MgH', linewidth=1, color=\"palevioletred\")\n",
    "ax.plot(T[2], C[2], label='AlH', linewidth=1, color=\"orange\")\n",
    "ax.set_xlim(min(T[0])-500, max(max(T[i]) for i in range(len(iso)))+500)\n",
    "xmajorLocator   = MultipleLocator(1000)\n",
    "ax.xaxis.set_major_locator(xmajorLocator)\n",
    "leg = ax.legend(loc=4)\n",
    "for line in leg.get_lines():\n",
    "    line.set_linewidth(1.0)\n",
    "plt.xlabel('Temperature T, K')\n",
    "plt.ylabel('Specific heat C$_p$(T), J K$^{-1}$ mol$^{-1}$')\n",
    "plt.show()"
   ]
  },
  {
   "attachments": {},
   "cell_type": "markdown",
   "metadata": {},
   "source": [
    "## Plot cooling function"
   ]
  },
  {
   "cell_type": "code",
   "execution_count": 77,
   "metadata": {},
   "outputs": [
    {
     "data": {
      "image/png": "[encoded data removed]",
      "text/plain": [
       "<Figure size 800x600 with 1 Axes>"
      ]
     },
     "metadata": {},
     "output_type": "display_data"
    }
   ],
   "source": [
    "mol = ['NO', 'MgH', 'AlH']\n",
    "iso = ['14N-16O', '24Mg-1H', '27Al-1H']\n",
    "dst = ['XABC', 'XAB', 'AlHambra']\n",
    "T = []\n",
    "W = []\n",
    "for i in range(len(iso)):\n",
    "    read_cooling = pd.read_csv(save_path+'cooling/'+iso[i]+'__'+dst[i]+'.cooling', sep='\\\\s+', names=['T', 'W'])\n",
    "    T_W = pd.DataFrame()\n",
    "    T_W['T'] = read_cooling['T']\n",
    "    T_W['W'] = read_cooling['W']\n",
    "    Ts = list(T_W['T'])\n",
    "    Ws = list(T_W['W'])\n",
    "    T.append(Ts)\n",
    "    W.append(Ws)\n",
    "    \n",
    "from matplotlib.ticker import MultipleLocator, FormatStrFormatter\n",
    "parameters = {'axes.labelsize': 14,\n",
    "              'legend.fontsize': 14,\n",
    "              'xtick.labelsize': 12,\n",
    "              'ytick.labelsize': 12}\n",
    "plt.rcParams.update(parameters)\n",
    "fig, ax = plt.subplots(figsize=(8, 6))\n",
    "ax.plot(T[0], W[0], label='NO', linewidth=1, color=\"#a1dab4\")\n",
    "ax.plot(T[1], W[1], label='MgH', linewidth=1, color=\"palevioletred\")\n",
    "ax.plot(T[2], W[2], label='AlH', linewidth=1, color=\"orange\")\n",
    "ax.set_xlim(min(T[0])-500, max(max(T[i]) for i in range(len(iso)))+500)\n",
    "xmajorLocator   = MultipleLocator(1000)\n",
    "ax.xaxis.set_major_locator(xmajorLocator)\n",
    "leg = ax.legend(loc=4)\n",
    "for line in leg.get_lines():\n",
    "    line.set_linewidth(1.0)\n",
    "ax.semilogy()\n",
    "plt.xlabel('Temperature T, K')\n",
    "plt.ylabel('Cooling function W(T), erg (s sr molecule)${}^{-1}$')\n",
    "plt.show()"
   ]
  },
  {
   "attachments": {},
   "cell_type": "markdown",
   "metadata": {},
   "source": [
    "## Plot lifetime"
   ]
  },
  {
   "cell_type": "code",
   "execution_count": 78,
   "metadata": {},
   "outputs": [
    {
     "data": {
      "image/png": "[encoded data removed]",
      "text/plain": [
       "<Figure size 800x600 with 1 Axes>"
      ]
     },
     "metadata": {},
     "output_type": "display_data"
    }
   ],
   "source": [
    "mol = ['NO', 'MgH', 'AlH']\n",
    "iso = ['14N-16O', '24Mg-1H', '27Al-1H']\n",
    "dst = ['XABC', 'XAB', 'AlHambra']\n",
    "E = []\n",
    "tau = []\n",
    "for i in range(len(iso)):\n",
    "    read_lifetime = pd.read_csv(save_path+'lifetime/'+iso[i]+'__'+dst[i]+'.states', sep='\\\\s+', names=['id','E','g','J','unc','tau'], usecols=[0,1,2,3,4,5])\n",
    "    E_tau = pd.DataFrame()\n",
    "    E_tau['E'] = read_lifetime['E']\n",
    "    E_tau['tau'] = read_lifetime['tau']\n",
    "    Es = list(E_tau['E'])\n",
    "    taus = list(E_tau['tau'])\n",
    "    E.append(Es)\n",
    "    tau.append(taus)\n",
    "    \n",
    "parameters = {'axes.labelsize': 14,\n",
    "              'legend.fontsize': 12,\n",
    "              'xtick.labelsize': 12,\n",
    "              'ytick.labelsize': 12}\n",
    "plt.rcParams.update(parameters)\n",
    "fig, ax = plt.subplots(figsize=(8, 6))\n",
    "ax.plot(E[0], tau[0], 'x', label='NO', markersize=1, color=\"#a1dab4\")\n",
    "ax.plot(E[1], tau[1], 'x', label='MgH', markersize=1, color=\"palevioletred\")\n",
    "ax.plot(E[2], tau[2], 'x', label='AlH', markersize=1, color=\"orange\")\n",
    "ax.semilogy()\n",
    "ax.set_ylim(min(min(tau[i]) for i in range(len(iso))), 1e6)\n",
    "ax.legend(loc=\"best\", markerscale=6, numpoints=2, scatterpoints=1)\n",
    "\n",
    "plt.xlabel('Energy, cm$^{-1}$')\n",
    "plt.ylabel('Lifetime, s')\n",
    "plt.show()"
   ]
  },
  {
   "cell_type": "code",
   "execution_count": 79,
   "metadata": {},
   "outputs": [
    {
     "data": {
      "image/png": "[encoded data removed]",
      "text/plain": [
       "<Figure size 1000x600 with 2 Axes>"
      ]
     },
     "metadata": {},
     "output_type": "display_data"
    }
   ],
   "source": [
    "mol = ['AlH']\n",
    "iso = ['27Al-1H']\n",
    "dst = ['AlHambra']\n",
    "\n",
    "read_lifetime = pd.read_csv(save_path+'lifetime/'+iso[0]+'__'+dst[0]+'.states', sep='\\\\s+', names=['id','E','g','J','unc','tau'], usecols=[0,1,2,3,4,5])\n",
    "E = read_lifetime['E']\n",
    "tau = read_lifetime['tau']\n",
    "J = read_lifetime['J']\n",
    "\n",
    "parameters = {'axes.labelsize': 14,\n",
    "              'legend.fontsize': 14,\n",
    "              'xtick.labelsize': 12,\n",
    "              'ytick.labelsize': 12}\n",
    "plt.rcParams.update(parameters)\n",
    "plt.figure(figsize=(10, 6))\n",
    "plt.scatter(E, tau, marker='x', s=8, facecolors='none', c=J, cmap='viridis', alpha=0.7)\n",
    "plt.ylim(5*1e-4, 1e-1)\n",
    "#plt.legend(loc=\"best\", markerscale=2., numpoints=2, scatterpoints=1, fontsize=12)\n",
    "plt.semilogy()\n",
    "\n",
    "plt.xlabel('Energy, cm$^{-1}$')\n",
    "plt.ylabel('Lifetime, s')\n",
    "#plt.colorbar()\n",
    "clb=plt.colorbar()\n",
    "clb.ax.tick_params(labelsize=10) \n",
    "clb.ax.set_title('J',fontsize=10)\n",
    "plt.show()"
   ]
  },
  {
   "attachments": {},
   "cell_type": "markdown",
   "metadata": {},
   "source": [
    "# Plot stick spectra"
   ]
  },
  {
   "cell_type": "code",
   "execution_count": 84,
   "metadata": {},
   "outputs": [
    {
     "name": "stderr",
     "output_type": "stream",
     "text": [
      "100%|██████████| 1/1 [00:00<00:00,  5.55it/s]\n"
     ]
    }
   ],
   "source": [
    "states_df = read_all_states(read_path)\n",
    "states_part_df = read_part_states(states_df)\n",
    "trans_part_df = read_part_trans(read_path)\n",
    "A, v, Ep, Epp, gp, Jp, Jpp, stick_qn_df = linelist(cutoff,states_part_df,trans_part_df)"
   ]
  },
  {
   "cell_type": "code",
   "execution_count": 85,
   "metadata": {},
   "outputs": [],
   "source": [
    "P = 0.1\n",
    "Ts = [300, 3000]\n",
    "profile = 'Gaussian'\n",
    "v_list = []\n",
    "I_list = []\n",
    "for i in range(len(Ts)):\n",
    "    T = Ts[i]\n",
    "    Q = read_exomol_pf(read_path, T)\n",
    "    I = cal_abscoefs(v, gp, A, Epp, Q, abundance)\n",
    "    #v_I = pd.DataFrame()\n",
    "    #v_I['v'] = v\n",
    "    #v_I['I'] = I\n",
    "    #vs = list(v_I['v'])\n",
    "    #Is = list(v_I['I'])\n",
    "    \n",
    "    v_list.append(v)\n",
    "    I_list.append(I)\n",
    "\n"
   ]
  },
  {
   "cell_type": "code",
   "execution_count": 101,
   "metadata": {},
   "outputs": [
    {
     "data": {
      "image/png": "[encoded data removed]",
      "text/plain": [
       "<Figure size 1200x600 with 2 Axes>"
      ]
     },
     "metadata": {},
     "output_type": "display_data"
    },
    {
     "name": "stdout",
     "output_type": "stream",
     "text": [
      "Stick spectra plot saved.\n"
     ]
    }
   ],
   "source": [
    "parameters = {'axes.labelsize': 14,\n",
    "              'legend.fontsize': 14,\n",
    "              'xtick.labelsize': 12,\n",
    "              'ytick.labelsize': 12}\n",
    "plt.rcParams.update(parameters)\n",
    "\n",
    "fig, ax = plt.subplots(figsize=(12, 6))\n",
    "#ax.plot(wn[4], xsec[4], label='T = '+str(Ts[4])+' K', linewidth=0.5, color=\"yellowgreen\")\n",
    "#ax.plot(wn[3], xsec[3], label='T = '+str(Ts[3])+' K', linewidth=0.5, color=\"orange\")\n",
    "#ax.plot(wn[2], xsec[2], label='T = '+str(Ts[2])+' K', linewidth=0.5, color=\"#41b6c4\")\n",
    "ax.plot(v_list[1], I_list[1], label='T = '+str(Ts[1])+' K', linewidth=0.5, color=\"orange\")\n",
    "ax.plot(v_list[0], I_list[0], label='T =   '+str(Ts[0])+' K', linewidth=0.5, color=\"#41b6c4\")\n",
    "\n",
    "#ax.plot(wn[5], xsec[5], label='T = '+str(Ts[0])+' K', linewidth=0.5, color=\"salmon\")\n",
    "\n",
    "\n",
    "ax_top=ax.twiny() \n",
    "xticks = ax.get_xticks()\n",
    "ax.set_xticks(xticks)\n",
    "\n",
    "ax.set_xlim(min_wn-500, max_wn+500)\n",
    "ax.set_ylim([1e-30, 5*max(max(I_list[i]) for i in range(len(Ts)))])\n",
    "\n",
    "xlim = ax.get_xlim()\n",
    "ax_top.set_xlim(xlim)\n",
    "# The values (labels) of the top x-axis.\n",
    "top_label = [100, 10, 5, 4, 2.5, 2, 1.6, 1.25, 1, 0.8, 0.625, 0.5, 0.4, int((10000/max_wn)*10)/10+0.05]  \n",
    "# The corresponding positions of the top x-axis.    \n",
    "top_tick = list(10000/np.array(top_label))                       \n",
    "ax_top.set_xticks(top_tick)\n",
    "ax_top.set_xticklabels(top_label)\n",
    "ax_top.set_xlabel('Wavelength, $\\mu$m', labelpad=10)\n",
    "\n",
    "ax.semilogy()\n",
    "ax.set_xlabel('Wavenumber, cm$^{-1}$')\n",
    "ax.set_ylabel('Intensity, cm/molecule')\n",
    "\n",
    "# Get the legend object\n",
    "leg = ax.legend(loc=2)\n",
    "# Change the line width for the legend\n",
    "for line in leg.get_lines():\n",
    "    line.set_linewidth(1.0)\n",
    "\n",
    "plt.text(x=27000, y=4e-16, s=molecule, rotation=1, ha='center', va='center',\n",
    "         fontdict=dict(fontsize=14, color='black', family='sans-serif', weight='black'))\n",
    "\n",
    "plots_foldername = save_path+'/stick_spectra/plots/'\n",
    "if os.path.exists(plots_foldername):\n",
    "    pass\n",
    "else:\n",
    "    os.makedirs(plots_foldername, exist_ok=True) \n",
    "str_T = str(Ts).replace(', ','_').replace('[','').replace(']','')\n",
    "plt.savefig(plots_foldername+molecule+'__intensity__T'+str_T+'__'+wn_wl+str(min_wn)+'-'+str(max_wn)+'__'\n",
    "            +database+'.png', dpi=500)\n",
    "plt.show()\n",
    "print('Stick spectra plot saved.')"
   ]
  },
  {
   "cell_type": "code",
   "execution_count": null,
   "metadata": {},
   "outputs": [],
   "source": []
  }
 ],
 "metadata": {
  "kernelspec": {
   "display_name": "Python 3.9.13 ('exomol')",
   "language": "python",
   "name": "python3"
  },
  "language_info": {
   "codemirror_mode": {
    "name": "ipython",
    "version": 3
   },
   "file_extension": ".py",
   "mimetype": "text/x-python",
   "name": "python",
   "nbconvert_exporter": "python",
   "pygments_lexer": "ipython3",
   "version": "3.9.13"
  },
  "vscode": {
   "interpreter": {
    "hash": "722cf535e3d158a42a418157a233af576121476252bfbc7c5af47c8831a1fc54"
   }
  }
 },
 "nbformat": 4,
 "nbformat_minor": 4
}
